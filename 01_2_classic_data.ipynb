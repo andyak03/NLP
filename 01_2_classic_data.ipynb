{
  "cells": [
    {
      "cell_type": "markdown",
      "id": "3c1e3af2",
      "metadata": {
        "id": "3c1e3af2"
      },
      "source": [
        "# Подготовка текстовых датасетов на основе популярных форматов данных\n",
        "\n",
        "__Автор задач: Блохин Н.В. (NVBlokhin@fa.ru)__\n",
        "\n",
        "Материалы:\n",
        "* https://tabula-py.readthedocs.io/en/latest/getting_started.html\n",
        "* https://pypdf2.readthedocs.io/en/3.0.0/user/extract-text.html\n",
        "* https://python-docx.readthedocs.io/en/latest/\n",
        "* https://theautomatic.net/2019/10/14/how-to-read-word-documents-with-python/\n",
        "* https://github.com/madmaze/pytesseract"
      ]
    },
    {
      "cell_type": "markdown",
      "id": "afcdb9cf",
      "metadata": {
        "id": "afcdb9cf"
      },
      "source": [
        "## Задачи для совместного разбора"
      ]
    },
    {
      "cell_type": "markdown",
      "id": "13bcb846",
      "metadata": {
        "id": "13bcb846"
      },
      "source": [
        "1. Считайте текстовые данные из файла demo/table.pdf"
      ]
    },
    {
      "cell_type": "code",
      "source": [
        "!pip install PyPDF2"
      ],
      "metadata": {
        "colab": {
          "base_uri": "https://localhost:8080/"
        },
        "id": "7MX_UIXFOCW_",
        "outputId": "5cdc6666-b507-40ad-83d8-85e7571b562e"
      },
      "id": "7MX_UIXFOCW_",
      "execution_count": null,
      "outputs": [
        {
          "output_type": "stream",
          "name": "stdout",
          "text": [
            "Collecting PyPDF2\n",
            "  Downloading pypdf2-3.0.1-py3-none-any.whl (232 kB)\n",
            "\u001b[?25l     \u001b[90m━━━━━━━━━━━━━━━━━━━━━━━━━━━━━━━━━━━━━━━━\u001b[0m \u001b[32m0.0/232.6 kB\u001b[0m \u001b[31m?\u001b[0m eta \u001b[36m-:--:--\u001b[0m\r\u001b[2K     \u001b[91m━━━━━━━━━━\u001b[0m\u001b[91m╸\u001b[0m\u001b[90m━━━━━━━━━━━━━━━━━━━━━━━━━━━━━\u001b[0m \u001b[32m61.4/232.6 kB\u001b[0m \u001b[31m1.8 MB/s\u001b[0m eta \u001b[36m0:00:01\u001b[0m\r\u001b[2K     \u001b[91m━━━━━━━━━━━━━━━━━━━━━━━━━━━━━━━━━━━━━\u001b[0m\u001b[91m╸\u001b[0m\u001b[90m━\u001b[0m \u001b[32m225.3/232.6 kB\u001b[0m \u001b[31m3.2 MB/s\u001b[0m eta \u001b[36m0:00:01\u001b[0m\r\u001b[2K     \u001b[90m━━━━━━━━━━━━━━━━━━━━━━━━━━━━━━━━━━━━━━━\u001b[0m \u001b[32m232.6/232.6 kB\u001b[0m \u001b[31m2.8 MB/s\u001b[0m eta \u001b[36m0:00:00\u001b[0m\n",
            "\u001b[?25hInstalling collected packages: PyPDF2\n",
            "Successfully installed PyPDF2-3.0.1\n"
          ]
        }
      ]
    },
    {
      "cell_type": "code",
      "source": [
        "from PyPDF2 import PdfReader\n",
        "\n",
        "reader = PdfReader(\"table.pdf\")\n",
        "page = reader.pages[0]\n",
        "print(page.extract_text())"
      ],
      "metadata": {
        "id": "-aP25SBjOF3Z"
      },
      "id": "-aP25SBjOF3Z",
      "execution_count": null,
      "outputs": []
    },
    {
      "cell_type": "markdown",
      "id": "cc15b389",
      "metadata": {
        "id": "cc15b389"
      },
      "source": [
        "2. Считайте таблицу из файла demo/table.pdf. Добейтесь корректного представления таблицы."
      ]
    },
    {
      "cell_type": "code",
      "source": [
        "!pip install tabula-py"
      ],
      "metadata": {
        "colab": {
          "base_uri": "https://localhost:8080/"
        },
        "id": "jht1QkKgO_Se",
        "outputId": "688c5772-4f13-4512-d133-6d5e239783e8"
      },
      "id": "jht1QkKgO_Se",
      "execution_count": null,
      "outputs": [
        {
          "output_type": "stream",
          "name": "stdout",
          "text": [
            "Collecting tabula-py\n",
            "  Downloading tabula_py-2.8.1-py3-none-any.whl (12.0 MB)\n",
            "\u001b[2K     \u001b[90m━━━━━━━━━━━━━━━━━━━━━━━━━━━━━━━━━━━━━━━━\u001b[0m \u001b[32m12.0/12.0 MB\u001b[0m \u001b[31m86.5 MB/s\u001b[0m eta \u001b[36m0:00:00\u001b[0m\n",
            "\u001b[?25hRequirement already satisfied: pandas>=0.25.3 in /usr/local/lib/python3.10/dist-packages (from tabula-py) (1.5.3)\n",
            "Requirement already satisfied: numpy in /usr/local/lib/python3.10/dist-packages (from tabula-py) (1.23.5)\n",
            "Requirement already satisfied: distro in /usr/lib/python3/dist-packages (from tabula-py) (1.7.0)\n",
            "Collecting jpype1 (from tabula-py)\n",
            "  Downloading JPype1-1.4.1-cp310-cp310-manylinux_2_12_x86_64.manylinux2010_x86_64.whl (465 kB)\n",
            "\u001b[2K     \u001b[90m━━━━━━━━━━━━━━━━━━━━━━━━━━━━━━━━━━━━━━\u001b[0m \u001b[32m465.3/465.3 kB\u001b[0m \u001b[31m28.0 MB/s\u001b[0m eta \u001b[36m0:00:00\u001b[0m\n",
            "\u001b[?25hRequirement already satisfied: python-dateutil>=2.8.1 in /usr/local/lib/python3.10/dist-packages (from pandas>=0.25.3->tabula-py) (2.8.2)\n",
            "Requirement already satisfied: pytz>=2020.1 in /usr/local/lib/python3.10/dist-packages (from pandas>=0.25.3->tabula-py) (2023.3.post1)\n",
            "Requirement already satisfied: packaging in /usr/local/lib/python3.10/dist-packages (from jpype1->tabula-py) (23.1)\n",
            "Requirement already satisfied: six>=1.5 in /usr/local/lib/python3.10/dist-packages (from python-dateutil>=2.8.1->pandas>=0.25.3->tabula-py) (1.16.0)\n",
            "Installing collected packages: jpype1, tabula-py\n",
            "Successfully installed jpype1-1.4.1 tabula-py-2.8.1\n"
          ]
        }
      ]
    },
    {
      "cell_type": "code",
      "source": [
        "import tabula"
      ],
      "metadata": {
        "id": "IzRmAb95PdIW"
      },
      "id": "IzRmAb95PdIW",
      "execution_count": null,
      "outputs": []
    },
    {
      "cell_type": "code",
      "source": [
        "# Read pdf into a list of DataFrame\n",
        "dfs = tabula.read_pdf(\"table.pdf\", pages='all')\n"
      ],
      "metadata": {
        "id": "LweLoutdPb3V"
      },
      "id": "LweLoutdPb3V",
      "execution_count": null,
      "outputs": []
    },
    {
      "cell_type": "code",
      "source": [
        "len(dfs)"
      ],
      "metadata": {
        "colab": {
          "base_uri": "https://localhost:8080/"
        },
        "id": "wq8qHWA9Pe8d",
        "outputId": "9f4d565b-c377-4766-a62c-b9e1bbf47685"
      },
      "id": "wq8qHWA9Pe8d",
      "execution_count": null,
      "outputs": [
        {
          "output_type": "execute_result",
          "data": {
            "text/plain": [
              "1"
            ]
          },
          "metadata": {},
          "execution_count": 7
        }
      ]
    },
    {
      "cell_type": "code",
      "source": [
        "df = dfs[0]"
      ],
      "metadata": {
        "id": "N940MmHxPi0F"
      },
      "id": "N940MmHxPi0F",
      "execution_count": null,
      "outputs": []
    },
    {
      "cell_type": "code",
      "source": [
        "df"
      ],
      "metadata": {
        "colab": {
          "base_uri": "https://localhost:8080/",
          "height": 394
        },
        "id": "qiaQyj1nPj0W",
        "outputId": "e30ba1f5-f6e2-44e8-d0ad-493eeb291e4a"
      },
      "id": "qiaQyj1nPj0W",
      "execution_count": null,
      "outputs": [
        {
          "output_type": "execute_result",
          "data": {
            "text/plain": [
              "    Unnamed: 0    Unnamed: 1 Unnamed: 2   Unnamed: 3    Unnamed: 4  \\\n",
              "0          NaN           NaN        NaN      Ballots           NaN   \n",
              "1   Disability           NaN    Ballots          NaN           NaN   \n",
              "2          NaN  Participants        NaN  Incomplete/           NaN   \n",
              "3     Category           NaN  Completed          NaN      Accuracy   \n",
              "4          NaN           NaN        NaN   Terminated           NaN   \n",
              "5          NaN           NaN        NaN          NaN           NaN   \n",
              "6        Blind             5          1            4    34.5%, n=1   \n",
              "7   Low Vision             5          2            3     98.3% n=2   \n",
              "8          NaN           NaN        NaN          NaN  (97.7%, n=3)   \n",
              "9    Dexterity             5          4            1    98.3%, n=4   \n",
              "10    Mobility             3          3            0    95.4%, n=3   \n",
              "\n",
              "            Results  \n",
              "0               NaN  \n",
              "1               NaN  \n",
              "2               NaN  \n",
              "3           Time to  \n",
              "4               NaN  \n",
              "5          complete  \n",
              "6     1199 sec, n=1  \n",
              "7     1716 sec, n=3  \n",
              "8   (1934 sec, n=2)  \n",
              "9   1672.1 sec, n=4  \n",
              "10    1416 sec, n=3  "
            ],
            "text/html": [
              "\n",
              "  <div id=\"df-18d21e97-7134-4870-a0ae-f211229fdc21\" class=\"colab-df-container\">\n",
              "    <div>\n",
              "<style scoped>\n",
              "    .dataframe tbody tr th:only-of-type {\n",
              "        vertical-align: middle;\n",
              "    }\n",
              "\n",
              "    .dataframe tbody tr th {\n",
              "        vertical-align: top;\n",
              "    }\n",
              "\n",
              "    .dataframe thead th {\n",
              "        text-align: right;\n",
              "    }\n",
              "</style>\n",
              "<table border=\"1\" class=\"dataframe\">\n",
              "  <thead>\n",
              "    <tr style=\"text-align: right;\">\n",
              "      <th></th>\n",
              "      <th>Unnamed: 0</th>\n",
              "      <th>Unnamed: 1</th>\n",
              "      <th>Unnamed: 2</th>\n",
              "      <th>Unnamed: 3</th>\n",
              "      <th>Unnamed: 4</th>\n",
              "      <th>Results</th>\n",
              "    </tr>\n",
              "  </thead>\n",
              "  <tbody>\n",
              "    <tr>\n",
              "      <th>0</th>\n",
              "      <td>NaN</td>\n",
              "      <td>NaN</td>\n",
              "      <td>NaN</td>\n",
              "      <td>Ballots</td>\n",
              "      <td>NaN</td>\n",
              "      <td>NaN</td>\n",
              "    </tr>\n",
              "    <tr>\n",
              "      <th>1</th>\n",
              "      <td>Disability</td>\n",
              "      <td>NaN</td>\n",
              "      <td>Ballots</td>\n",
              "      <td>NaN</td>\n",
              "      <td>NaN</td>\n",
              "      <td>NaN</td>\n",
              "    </tr>\n",
              "    <tr>\n",
              "      <th>2</th>\n",
              "      <td>NaN</td>\n",
              "      <td>Participants</td>\n",
              "      <td>NaN</td>\n",
              "      <td>Incomplete/</td>\n",
              "      <td>NaN</td>\n",
              "      <td>NaN</td>\n",
              "    </tr>\n",
              "    <tr>\n",
              "      <th>3</th>\n",
              "      <td>Category</td>\n",
              "      <td>NaN</td>\n",
              "      <td>Completed</td>\n",
              "      <td>NaN</td>\n",
              "      <td>Accuracy</td>\n",
              "      <td>Time to</td>\n",
              "    </tr>\n",
              "    <tr>\n",
              "      <th>4</th>\n",
              "      <td>NaN</td>\n",
              "      <td>NaN</td>\n",
              "      <td>NaN</td>\n",
              "      <td>Terminated</td>\n",
              "      <td>NaN</td>\n",
              "      <td>NaN</td>\n",
              "    </tr>\n",
              "    <tr>\n",
              "      <th>5</th>\n",
              "      <td>NaN</td>\n",
              "      <td>NaN</td>\n",
              "      <td>NaN</td>\n",
              "      <td>NaN</td>\n",
              "      <td>NaN</td>\n",
              "      <td>complete</td>\n",
              "    </tr>\n",
              "    <tr>\n",
              "      <th>6</th>\n",
              "      <td>Blind</td>\n",
              "      <td>5</td>\n",
              "      <td>1</td>\n",
              "      <td>4</td>\n",
              "      <td>34.5%, n=1</td>\n",
              "      <td>1199 sec, n=1</td>\n",
              "    </tr>\n",
              "    <tr>\n",
              "      <th>7</th>\n",
              "      <td>Low Vision</td>\n",
              "      <td>5</td>\n",
              "      <td>2</td>\n",
              "      <td>3</td>\n",
              "      <td>98.3% n=2</td>\n",
              "      <td>1716 sec, n=3</td>\n",
              "    </tr>\n",
              "    <tr>\n",
              "      <th>8</th>\n",
              "      <td>NaN</td>\n",
              "      <td>NaN</td>\n",
              "      <td>NaN</td>\n",
              "      <td>NaN</td>\n",
              "      <td>(97.7%, n=3)</td>\n",
              "      <td>(1934 sec, n=2)</td>\n",
              "    </tr>\n",
              "    <tr>\n",
              "      <th>9</th>\n",
              "      <td>Dexterity</td>\n",
              "      <td>5</td>\n",
              "      <td>4</td>\n",
              "      <td>1</td>\n",
              "      <td>98.3%, n=4</td>\n",
              "      <td>1672.1 sec, n=4</td>\n",
              "    </tr>\n",
              "    <tr>\n",
              "      <th>10</th>\n",
              "      <td>Mobility</td>\n",
              "      <td>3</td>\n",
              "      <td>3</td>\n",
              "      <td>0</td>\n",
              "      <td>95.4%, n=3</td>\n",
              "      <td>1416 sec, n=3</td>\n",
              "    </tr>\n",
              "  </tbody>\n",
              "</table>\n",
              "</div>\n",
              "    <div class=\"colab-df-buttons\">\n",
              "\n",
              "  <div class=\"colab-df-container\">\n",
              "    <button class=\"colab-df-convert\" onclick=\"convertToInteractive('df-18d21e97-7134-4870-a0ae-f211229fdc21')\"\n",
              "            title=\"Convert this dataframe to an interactive table.\"\n",
              "            style=\"display:none;\">\n",
              "\n",
              "  <svg xmlns=\"http://www.w3.org/2000/svg\" height=\"24px\" viewBox=\"0 -960 960 960\">\n",
              "    <path d=\"M120-120v-720h720v720H120Zm60-500h600v-160H180v160Zm220 220h160v-160H400v160Zm0 220h160v-160H400v160ZM180-400h160v-160H180v160Zm440 0h160v-160H620v160ZM180-180h160v-160H180v160Zm440 0h160v-160H620v160Z\"/>\n",
              "  </svg>\n",
              "    </button>\n",
              "\n",
              "  <style>\n",
              "    .colab-df-container {\n",
              "      display:flex;\n",
              "      gap: 12px;\n",
              "    }\n",
              "\n",
              "    .colab-df-convert {\n",
              "      background-color: #E8F0FE;\n",
              "      border: none;\n",
              "      border-radius: 50%;\n",
              "      cursor: pointer;\n",
              "      display: none;\n",
              "      fill: #1967D2;\n",
              "      height: 32px;\n",
              "      padding: 0 0 0 0;\n",
              "      width: 32px;\n",
              "    }\n",
              "\n",
              "    .colab-df-convert:hover {\n",
              "      background-color: #E2EBFA;\n",
              "      box-shadow: 0px 1px 2px rgba(60, 64, 67, 0.3), 0px 1px 3px 1px rgba(60, 64, 67, 0.15);\n",
              "      fill: #174EA6;\n",
              "    }\n",
              "\n",
              "    .colab-df-buttons div {\n",
              "      margin-bottom: 4px;\n",
              "    }\n",
              "\n",
              "    [theme=dark] .colab-df-convert {\n",
              "      background-color: #3B4455;\n",
              "      fill: #D2E3FC;\n",
              "    }\n",
              "\n",
              "    [theme=dark] .colab-df-convert:hover {\n",
              "      background-color: #434B5C;\n",
              "      box-shadow: 0px 1px 3px 1px rgba(0, 0, 0, 0.15);\n",
              "      filter: drop-shadow(0px 1px 2px rgba(0, 0, 0, 0.3));\n",
              "      fill: #FFFFFF;\n",
              "    }\n",
              "  </style>\n",
              "\n",
              "    <script>\n",
              "      const buttonEl =\n",
              "        document.querySelector('#df-18d21e97-7134-4870-a0ae-f211229fdc21 button.colab-df-convert');\n",
              "      buttonEl.style.display =\n",
              "        google.colab.kernel.accessAllowed ? 'block' : 'none';\n",
              "\n",
              "      async function convertToInteractive(key) {\n",
              "        const element = document.querySelector('#df-18d21e97-7134-4870-a0ae-f211229fdc21');\n",
              "        const dataTable =\n",
              "          await google.colab.kernel.invokeFunction('convertToInteractive',\n",
              "                                                    [key], {});\n",
              "        if (!dataTable) return;\n",
              "\n",
              "        const docLinkHtml = 'Like what you see? Visit the ' +\n",
              "          '<a target=\"_blank\" href=https://colab.research.google.com/notebooks/data_table.ipynb>data table notebook</a>'\n",
              "          + ' to learn more about interactive tables.';\n",
              "        element.innerHTML = '';\n",
              "        dataTable['output_type'] = 'display_data';\n",
              "        await google.colab.output.renderOutput(dataTable, element);\n",
              "        const docLink = document.createElement('div');\n",
              "        docLink.innerHTML = docLinkHtml;\n",
              "        element.appendChild(docLink);\n",
              "      }\n",
              "    </script>\n",
              "  </div>\n",
              "\n",
              "\n",
              "<div id=\"df-1bcd47da-903f-4328-badf-ccc06702a3a9\">\n",
              "  <button class=\"colab-df-quickchart\" onclick=\"quickchart('df-1bcd47da-903f-4328-badf-ccc06702a3a9')\"\n",
              "            title=\"Suggest charts.\"\n",
              "            style=\"display:none;\">\n",
              "\n",
              "<svg xmlns=\"http://www.w3.org/2000/svg\" height=\"24px\"viewBox=\"0 0 24 24\"\n",
              "     width=\"24px\">\n",
              "    <g>\n",
              "        <path d=\"M19 3H5c-1.1 0-2 .9-2 2v14c0 1.1.9 2 2 2h14c1.1 0 2-.9 2-2V5c0-1.1-.9-2-2-2zM9 17H7v-7h2v7zm4 0h-2V7h2v10zm4 0h-2v-4h2v4z\"/>\n",
              "    </g>\n",
              "</svg>\n",
              "  </button>\n",
              "\n",
              "<style>\n",
              "  .colab-df-quickchart {\n",
              "      --bg-color: #E8F0FE;\n",
              "      --fill-color: #1967D2;\n",
              "      --hover-bg-color: #E2EBFA;\n",
              "      --hover-fill-color: #174EA6;\n",
              "      --disabled-fill-color: #AAA;\n",
              "      --disabled-bg-color: #DDD;\n",
              "  }\n",
              "\n",
              "  [theme=dark] .colab-df-quickchart {\n",
              "      --bg-color: #3B4455;\n",
              "      --fill-color: #D2E3FC;\n",
              "      --hover-bg-color: #434B5C;\n",
              "      --hover-fill-color: #FFFFFF;\n",
              "      --disabled-bg-color: #3B4455;\n",
              "      --disabled-fill-color: #666;\n",
              "  }\n",
              "\n",
              "  .colab-df-quickchart {\n",
              "    background-color: var(--bg-color);\n",
              "    border: none;\n",
              "    border-radius: 50%;\n",
              "    cursor: pointer;\n",
              "    display: none;\n",
              "    fill: var(--fill-color);\n",
              "    height: 32px;\n",
              "    padding: 0;\n",
              "    width: 32px;\n",
              "  }\n",
              "\n",
              "  .colab-df-quickchart:hover {\n",
              "    background-color: var(--hover-bg-color);\n",
              "    box-shadow: 0 1px 2px rgba(60, 64, 67, 0.3), 0 1px 3px 1px rgba(60, 64, 67, 0.15);\n",
              "    fill: var(--button-hover-fill-color);\n",
              "  }\n",
              "\n",
              "  .colab-df-quickchart-complete:disabled,\n",
              "  .colab-df-quickchart-complete:disabled:hover {\n",
              "    background-color: var(--disabled-bg-color);\n",
              "    fill: var(--disabled-fill-color);\n",
              "    box-shadow: none;\n",
              "  }\n",
              "\n",
              "  .colab-df-spinner {\n",
              "    border: 2px solid var(--fill-color);\n",
              "    border-color: transparent;\n",
              "    border-bottom-color: var(--fill-color);\n",
              "    animation:\n",
              "      spin 1s steps(1) infinite;\n",
              "  }\n",
              "\n",
              "  @keyframes spin {\n",
              "    0% {\n",
              "      border-color: transparent;\n",
              "      border-bottom-color: var(--fill-color);\n",
              "      border-left-color: var(--fill-color);\n",
              "    }\n",
              "    20% {\n",
              "      border-color: transparent;\n",
              "      border-left-color: var(--fill-color);\n",
              "      border-top-color: var(--fill-color);\n",
              "    }\n",
              "    30% {\n",
              "      border-color: transparent;\n",
              "      border-left-color: var(--fill-color);\n",
              "      border-top-color: var(--fill-color);\n",
              "      border-right-color: var(--fill-color);\n",
              "    }\n",
              "    40% {\n",
              "      border-color: transparent;\n",
              "      border-right-color: var(--fill-color);\n",
              "      border-top-color: var(--fill-color);\n",
              "    }\n",
              "    60% {\n",
              "      border-color: transparent;\n",
              "      border-right-color: var(--fill-color);\n",
              "    }\n",
              "    80% {\n",
              "      border-color: transparent;\n",
              "      border-right-color: var(--fill-color);\n",
              "      border-bottom-color: var(--fill-color);\n",
              "    }\n",
              "    90% {\n",
              "      border-color: transparent;\n",
              "      border-bottom-color: var(--fill-color);\n",
              "    }\n",
              "  }\n",
              "</style>\n",
              "\n",
              "  <script>\n",
              "    async function quickchart(key) {\n",
              "      const quickchartButtonEl =\n",
              "        document.querySelector('#' + key + ' button');\n",
              "      quickchartButtonEl.disabled = true;  // To prevent multiple clicks.\n",
              "      quickchartButtonEl.classList.add('colab-df-spinner');\n",
              "      try {\n",
              "        const charts = await google.colab.kernel.invokeFunction(\n",
              "            'suggestCharts', [key], {});\n",
              "      } catch (error) {\n",
              "        console.error('Error during call to suggestCharts:', error);\n",
              "      }\n",
              "      quickchartButtonEl.classList.remove('colab-df-spinner');\n",
              "      quickchartButtonEl.classList.add('colab-df-quickchart-complete');\n",
              "    }\n",
              "    (() => {\n",
              "      let quickchartButtonEl =\n",
              "        document.querySelector('#df-1bcd47da-903f-4328-badf-ccc06702a3a9 button');\n",
              "      quickchartButtonEl.style.display =\n",
              "        google.colab.kernel.accessAllowed ? 'block' : 'none';\n",
              "    })();\n",
              "  </script>\n",
              "</div>\n",
              "    </div>\n",
              "  </div>\n"
            ]
          },
          "metadata": {},
          "execution_count": 9
        }
      ]
    },
    {
      "cell_type": "code",
      "source": [
        "header = df.iloc[:6].fillna(\" \").sum(axis=0)\n",
        "df.columns = header\n",
        "df.drop(index=range(6))"
      ],
      "metadata": {
        "colab": {
          "base_uri": "https://localhost:8080/",
          "height": 258
        },
        "id": "HBlKMgNNQAad",
        "outputId": "b6f1c18b-6c22-432e-c160-87105b6650c9"
      },
      "id": "HBlKMgNNQAad",
      "execution_count": null,
      "outputs": [
        {
          "output_type": "execute_result",
          "data": {
            "text/plain": [
              "    Disability Category     Participants     Ballots Completed    \\\n",
              "6                   Blind                 5                    1   \n",
              "7              Low Vision                 5                    2   \n",
              "8                     NaN               NaN                  NaN   \n",
              "9               Dexterity                 5                    4   \n",
              "10               Mobility                 3                    3   \n",
              "\n",
              "   Ballots Incomplete/ Terminated     Accuracy      Time to complete  \n",
              "6                                4    34.5%, n=1       1199 sec, n=1  \n",
              "7                                3     98.3% n=2       1716 sec, n=3  \n",
              "8                              NaN  (97.7%, n=3)     (1934 sec, n=2)  \n",
              "9                                1    98.3%, n=4     1672.1 sec, n=4  \n",
              "10                               0    95.4%, n=3       1416 sec, n=3  "
            ],
            "text/html": [
              "\n",
              "  <div id=\"df-52153f1f-a2a5-4224-b890-eb4242286749\" class=\"colab-df-container\">\n",
              "    <div>\n",
              "<style scoped>\n",
              "    .dataframe tbody tr th:only-of-type {\n",
              "        vertical-align: middle;\n",
              "    }\n",
              "\n",
              "    .dataframe tbody tr th {\n",
              "        vertical-align: top;\n",
              "    }\n",
              "\n",
              "    .dataframe thead th {\n",
              "        text-align: right;\n",
              "    }\n",
              "</style>\n",
              "<table border=\"1\" class=\"dataframe\">\n",
              "  <thead>\n",
              "    <tr style=\"text-align: right;\">\n",
              "      <th></th>\n",
              "      <th>Disability Category</th>\n",
              "      <th>Participants</th>\n",
              "      <th>Ballots Completed</th>\n",
              "      <th>Ballots Incomplete/ Terminated</th>\n",
              "      <th>Accuracy</th>\n",
              "      <th>Time to complete</th>\n",
              "    </tr>\n",
              "  </thead>\n",
              "  <tbody>\n",
              "    <tr>\n",
              "      <th>6</th>\n",
              "      <td>Blind</td>\n",
              "      <td>5</td>\n",
              "      <td>1</td>\n",
              "      <td>4</td>\n",
              "      <td>34.5%, n=1</td>\n",
              "      <td>1199 sec, n=1</td>\n",
              "    </tr>\n",
              "    <tr>\n",
              "      <th>7</th>\n",
              "      <td>Low Vision</td>\n",
              "      <td>5</td>\n",
              "      <td>2</td>\n",
              "      <td>3</td>\n",
              "      <td>98.3% n=2</td>\n",
              "      <td>1716 sec, n=3</td>\n",
              "    </tr>\n",
              "    <tr>\n",
              "      <th>8</th>\n",
              "      <td>NaN</td>\n",
              "      <td>NaN</td>\n",
              "      <td>NaN</td>\n",
              "      <td>NaN</td>\n",
              "      <td>(97.7%, n=3)</td>\n",
              "      <td>(1934 sec, n=2)</td>\n",
              "    </tr>\n",
              "    <tr>\n",
              "      <th>9</th>\n",
              "      <td>Dexterity</td>\n",
              "      <td>5</td>\n",
              "      <td>4</td>\n",
              "      <td>1</td>\n",
              "      <td>98.3%, n=4</td>\n",
              "      <td>1672.1 sec, n=4</td>\n",
              "    </tr>\n",
              "    <tr>\n",
              "      <th>10</th>\n",
              "      <td>Mobility</td>\n",
              "      <td>3</td>\n",
              "      <td>3</td>\n",
              "      <td>0</td>\n",
              "      <td>95.4%, n=3</td>\n",
              "      <td>1416 sec, n=3</td>\n",
              "    </tr>\n",
              "  </tbody>\n",
              "</table>\n",
              "</div>\n",
              "    <div class=\"colab-df-buttons\">\n",
              "\n",
              "  <div class=\"colab-df-container\">\n",
              "    <button class=\"colab-df-convert\" onclick=\"convertToInteractive('df-52153f1f-a2a5-4224-b890-eb4242286749')\"\n",
              "            title=\"Convert this dataframe to an interactive table.\"\n",
              "            style=\"display:none;\">\n",
              "\n",
              "  <svg xmlns=\"http://www.w3.org/2000/svg\" height=\"24px\" viewBox=\"0 -960 960 960\">\n",
              "    <path d=\"M120-120v-720h720v720H120Zm60-500h600v-160H180v160Zm220 220h160v-160H400v160Zm0 220h160v-160H400v160ZM180-400h160v-160H180v160Zm440 0h160v-160H620v160ZM180-180h160v-160H180v160Zm440 0h160v-160H620v160Z\"/>\n",
              "  </svg>\n",
              "    </button>\n",
              "\n",
              "  <style>\n",
              "    .colab-df-container {\n",
              "      display:flex;\n",
              "      gap: 12px;\n",
              "    }\n",
              "\n",
              "    .colab-df-convert {\n",
              "      background-color: #E8F0FE;\n",
              "      border: none;\n",
              "      border-radius: 50%;\n",
              "      cursor: pointer;\n",
              "      display: none;\n",
              "      fill: #1967D2;\n",
              "      height: 32px;\n",
              "      padding: 0 0 0 0;\n",
              "      width: 32px;\n",
              "    }\n",
              "\n",
              "    .colab-df-convert:hover {\n",
              "      background-color: #E2EBFA;\n",
              "      box-shadow: 0px 1px 2px rgba(60, 64, 67, 0.3), 0px 1px 3px 1px rgba(60, 64, 67, 0.15);\n",
              "      fill: #174EA6;\n",
              "    }\n",
              "\n",
              "    .colab-df-buttons div {\n",
              "      margin-bottom: 4px;\n",
              "    }\n",
              "\n",
              "    [theme=dark] .colab-df-convert {\n",
              "      background-color: #3B4455;\n",
              "      fill: #D2E3FC;\n",
              "    }\n",
              "\n",
              "    [theme=dark] .colab-df-convert:hover {\n",
              "      background-color: #434B5C;\n",
              "      box-shadow: 0px 1px 3px 1px rgba(0, 0, 0, 0.15);\n",
              "      filter: drop-shadow(0px 1px 2px rgba(0, 0, 0, 0.3));\n",
              "      fill: #FFFFFF;\n",
              "    }\n",
              "  </style>\n",
              "\n",
              "    <script>\n",
              "      const buttonEl =\n",
              "        document.querySelector('#df-52153f1f-a2a5-4224-b890-eb4242286749 button.colab-df-convert');\n",
              "      buttonEl.style.display =\n",
              "        google.colab.kernel.accessAllowed ? 'block' : 'none';\n",
              "\n",
              "      async function convertToInteractive(key) {\n",
              "        const element = document.querySelector('#df-52153f1f-a2a5-4224-b890-eb4242286749');\n",
              "        const dataTable =\n",
              "          await google.colab.kernel.invokeFunction('convertToInteractive',\n",
              "                                                    [key], {});\n",
              "        if (!dataTable) return;\n",
              "\n",
              "        const docLinkHtml = 'Like what you see? Visit the ' +\n",
              "          '<a target=\"_blank\" href=https://colab.research.google.com/notebooks/data_table.ipynb>data table notebook</a>'\n",
              "          + ' to learn more about interactive tables.';\n",
              "        element.innerHTML = '';\n",
              "        dataTable['output_type'] = 'display_data';\n",
              "        await google.colab.output.renderOutput(dataTable, element);\n",
              "        const docLink = document.createElement('div');\n",
              "        docLink.innerHTML = docLinkHtml;\n",
              "        element.appendChild(docLink);\n",
              "      }\n",
              "    </script>\n",
              "  </div>\n",
              "\n",
              "\n",
              "<div id=\"df-8ce216e1-56e1-4e40-a408-1aabe979244a\">\n",
              "  <button class=\"colab-df-quickchart\" onclick=\"quickchart('df-8ce216e1-56e1-4e40-a408-1aabe979244a')\"\n",
              "            title=\"Suggest charts.\"\n",
              "            style=\"display:none;\">\n",
              "\n",
              "<svg xmlns=\"http://www.w3.org/2000/svg\" height=\"24px\"viewBox=\"0 0 24 24\"\n",
              "     width=\"24px\">\n",
              "    <g>\n",
              "        <path d=\"M19 3H5c-1.1 0-2 .9-2 2v14c0 1.1.9 2 2 2h14c1.1 0 2-.9 2-2V5c0-1.1-.9-2-2-2zM9 17H7v-7h2v7zm4 0h-2V7h2v10zm4 0h-2v-4h2v4z\"/>\n",
              "    </g>\n",
              "</svg>\n",
              "  </button>\n",
              "\n",
              "<style>\n",
              "  .colab-df-quickchart {\n",
              "      --bg-color: #E8F0FE;\n",
              "      --fill-color: #1967D2;\n",
              "      --hover-bg-color: #E2EBFA;\n",
              "      --hover-fill-color: #174EA6;\n",
              "      --disabled-fill-color: #AAA;\n",
              "      --disabled-bg-color: #DDD;\n",
              "  }\n",
              "\n",
              "  [theme=dark] .colab-df-quickchart {\n",
              "      --bg-color: #3B4455;\n",
              "      --fill-color: #D2E3FC;\n",
              "      --hover-bg-color: #434B5C;\n",
              "      --hover-fill-color: #FFFFFF;\n",
              "      --disabled-bg-color: #3B4455;\n",
              "      --disabled-fill-color: #666;\n",
              "  }\n",
              "\n",
              "  .colab-df-quickchart {\n",
              "    background-color: var(--bg-color);\n",
              "    border: none;\n",
              "    border-radius: 50%;\n",
              "    cursor: pointer;\n",
              "    display: none;\n",
              "    fill: var(--fill-color);\n",
              "    height: 32px;\n",
              "    padding: 0;\n",
              "    width: 32px;\n",
              "  }\n",
              "\n",
              "  .colab-df-quickchart:hover {\n",
              "    background-color: var(--hover-bg-color);\n",
              "    box-shadow: 0 1px 2px rgba(60, 64, 67, 0.3), 0 1px 3px 1px rgba(60, 64, 67, 0.15);\n",
              "    fill: var(--button-hover-fill-color);\n",
              "  }\n",
              "\n",
              "  .colab-df-quickchart-complete:disabled,\n",
              "  .colab-df-quickchart-complete:disabled:hover {\n",
              "    background-color: var(--disabled-bg-color);\n",
              "    fill: var(--disabled-fill-color);\n",
              "    box-shadow: none;\n",
              "  }\n",
              "\n",
              "  .colab-df-spinner {\n",
              "    border: 2px solid var(--fill-color);\n",
              "    border-color: transparent;\n",
              "    border-bottom-color: var(--fill-color);\n",
              "    animation:\n",
              "      spin 1s steps(1) infinite;\n",
              "  }\n",
              "\n",
              "  @keyframes spin {\n",
              "    0% {\n",
              "      border-color: transparent;\n",
              "      border-bottom-color: var(--fill-color);\n",
              "      border-left-color: var(--fill-color);\n",
              "    }\n",
              "    20% {\n",
              "      border-color: transparent;\n",
              "      border-left-color: var(--fill-color);\n",
              "      border-top-color: var(--fill-color);\n",
              "    }\n",
              "    30% {\n",
              "      border-color: transparent;\n",
              "      border-left-color: var(--fill-color);\n",
              "      border-top-color: var(--fill-color);\n",
              "      border-right-color: var(--fill-color);\n",
              "    }\n",
              "    40% {\n",
              "      border-color: transparent;\n",
              "      border-right-color: var(--fill-color);\n",
              "      border-top-color: var(--fill-color);\n",
              "    }\n",
              "    60% {\n",
              "      border-color: transparent;\n",
              "      border-right-color: var(--fill-color);\n",
              "    }\n",
              "    80% {\n",
              "      border-color: transparent;\n",
              "      border-right-color: var(--fill-color);\n",
              "      border-bottom-color: var(--fill-color);\n",
              "    }\n",
              "    90% {\n",
              "      border-color: transparent;\n",
              "      border-bottom-color: var(--fill-color);\n",
              "    }\n",
              "  }\n",
              "</style>\n",
              "\n",
              "  <script>\n",
              "    async function quickchart(key) {\n",
              "      const quickchartButtonEl =\n",
              "        document.querySelector('#' + key + ' button');\n",
              "      quickchartButtonEl.disabled = true;  // To prevent multiple clicks.\n",
              "      quickchartButtonEl.classList.add('colab-df-spinner');\n",
              "      try {\n",
              "        const charts = await google.colab.kernel.invokeFunction(\n",
              "            'suggestCharts', [key], {});\n",
              "      } catch (error) {\n",
              "        console.error('Error during call to suggestCharts:', error);\n",
              "      }\n",
              "      quickchartButtonEl.classList.remove('colab-df-spinner');\n",
              "      quickchartButtonEl.classList.add('colab-df-quickchart-complete');\n",
              "    }\n",
              "    (() => {\n",
              "      let quickchartButtonEl =\n",
              "        document.querySelector('#df-8ce216e1-56e1-4e40-a408-1aabe979244a button');\n",
              "      quickchartButtonEl.style.display =\n",
              "        google.colab.kernel.accessAllowed ? 'block' : 'none';\n",
              "    })();\n",
              "  </script>\n",
              "</div>\n",
              "    </div>\n",
              "  </div>\n"
            ]
          },
          "metadata": {},
          "execution_count": 13
        }
      ]
    },
    {
      "cell_type": "markdown",
      "id": "f098e4ca",
      "metadata": {
        "id": "f098e4ca"
      },
      "source": [
        "3. Извлеките текст из изображения data/text.jpg. Обработайте полученную строку."
      ]
    },
    {
      "cell_type": "code",
      "source": [
        "!pip install pytesseract"
      ],
      "metadata": {
        "id": "jp-eAqXBRbkM"
      },
      "id": "jp-eAqXBRbkM",
      "execution_count": null,
      "outputs": []
    },
    {
      "cell_type": "code",
      "source": [
        "!sudo apt install tesseract-ocr"
      ],
      "metadata": {
        "id": "OL-UX5lURp2s"
      },
      "id": "OL-UX5lURp2s",
      "execution_count": null,
      "outputs": []
    },
    {
      "cell_type": "code",
      "source": [
        "!sudo apt install tesseract-ocr-rus"
      ],
      "metadata": {
        "id": "3RS7yI60R3uL"
      },
      "id": "3RS7yI60R3uL",
      "execution_count": null,
      "outputs": []
    },
    {
      "cell_type": "code",
      "source": [
        "import pytesseract\n",
        "from PIL import Image"
      ],
      "metadata": {
        "id": "RP0SUtg7R9rm"
      },
      "id": "RP0SUtg7R9rm",
      "execution_count": null,
      "outputs": []
    },
    {
      "cell_type": "code",
      "source": [
        "img = Image.open(\"text.jpg\")\n",
        "s = pytesseract.image_to_string(img, lang=\"rus\")"
      ],
      "metadata": {
        "id": "nMQxtaxRSAcU"
      },
      "id": "nMQxtaxRSAcU",
      "execution_count": null,
      "outputs": []
    },
    {
      "cell_type": "markdown",
      "id": "610d0f40",
      "metadata": {
        "id": "610d0f40"
      },
      "source": [
        "## Задачи для самостоятельного решения"
      ]
    },
    {
      "cell_type": "code",
      "source": [
        "from google.colab import drive\n",
        "drive.mount('/content/drive')"
      ],
      "metadata": {
        "colab": {
          "base_uri": "https://localhost:8080/"
        },
        "id": "J9TRkBrVUaFV",
        "outputId": "751556a7-c1a4-4131-82b7-11b85d48e56f"
      },
      "id": "J9TRkBrVUaFV",
      "execution_count": null,
      "outputs": [
        {
          "output_type": "stream",
          "name": "stdout",
          "text": [
            "Mounted at /content/drive\n"
          ]
        }
      ]
    },
    {
      "cell_type": "code",
      "source": [
        "!pip install PyPDF2"
      ],
      "metadata": {
        "colab": {
          "base_uri": "https://localhost:8080/"
        },
        "id": "i5M01P3zUMFR",
        "outputId": "da088278-1bd1-465a-b6fc-0c730907a4cb"
      },
      "id": "i5M01P3zUMFR",
      "execution_count": null,
      "outputs": [
        {
          "output_type": "stream",
          "name": "stdout",
          "text": [
            "Collecting PyPDF2\n",
            "  Downloading pypdf2-3.0.1-py3-none-any.whl (232 kB)\n",
            "\u001b[2K     \u001b[90m━━━━━━━━━━━━━━━━━━━━━━━━━━━━━━━━━━━━━━━\u001b[0m \u001b[32m232.6/232.6 kB\u001b[0m \u001b[31m3.6 MB/s\u001b[0m eta \u001b[36m0:00:00\u001b[0m\n",
            "\u001b[?25hInstalling collected packages: PyPDF2\n",
            "Successfully installed PyPDF2-3.0.1\n"
          ]
        }
      ]
    },
    {
      "cell_type": "code",
      "source": [
        "from PyPDF2 import PdfReader\n",
        "import re"
      ],
      "metadata": {
        "id": "s4pYdebiUqmH"
      },
      "id": "s4pYdebiUqmH",
      "execution_count": null,
      "outputs": []
    },
    {
      "cell_type": "markdown",
      "id": "9626b430",
      "metadata": {
        "id": "9626b430"
      },
      "source": [
        "<p class=\"task\" id=\"1\"></p>\n",
        "\n",
        "1\\. Считайте файл `pdf/rpd_tobd_22.pdf`. Извлеките из файла содержание дисциплины (раздел 5.1) в виде словаря, где ключ - это название темы, а значение - содержание темы. Выведите полученный словарь на экран. Выведите на экран количество тем курса."
      ]
    },
    {
      "cell_type": "code",
      "source": [
        "reader = PdfReader(\"/content/drive/MyDrive/NLP/data/pdf/rpd_tobd_22.pdf\")\n",
        "pages = reader.pages[6:10]\n",
        "text = ' '.join([p.extract_text().replace('\\n', '') for p in pages])\n",
        "text"
      ],
      "metadata": {
        "colab": {
          "base_uri": "https://localhost:8080/",
          "height": 187
        },
        "id": "wlRFJWJdUpaa",
        "outputId": "dd12fa0e-e2bd-4502-aaa6-d2c0355c0a3a"
      },
      "id": "wlRFJWJdUpaa",
      "execution_count": null,
      "outputs": [
        {
          "output_type": "execute_result",
          "data": {
            "text/plain": [
              "'  6 Очная форма обучения, 2021 г.п. и т.д.   Вид учебной работы по   дисциплине  Всего  (в з.е. и часах)  Семестр 3  (в часах)  Семестр 4  (в часах)  Общая трудоёмкость   дисциплины  7/252  108 144 Контактная работа - Аудиторные занятия  100 50 50 Лекции  32 16 16 Семинары, практические занятия  68 34 34 Самостоятельная работа  152 58 94 Вид текущего контроля  контрольн ые  работы  контрольная   работа  контрольная   работа  Вид промежуточной аттестации  Зачет, экзамен  зачет  экзамен   5. Содержание дисциплины, структурированное по темам (разделам) дисциплины с указанием их объемов (в академических часах) и видов учебных занятий  5.1. Содержание дисциплины  Тема 1. Библиотека NumPy  и Pandas .  В рамках темы рассматривается технологический стек Python для об-работки и анализа данных, возможности Python как glue language, специ-фика библиотеки NumPy и ее роль в экосистеме Python. Организация мас-сивов в NumPy: хранение данных, создание массивов, прин ципы реализации операций с едиными исходными данными. Универсальные функции и при-менение функций по осям в NumPy. Принцип распространения значений при выполнении операций в NumPy: общий алгоритм и примеры Маскиро-вание и прихотливое индексирование в NumPy.  В рамках темы рассматриваются возможности библиотеки Pandas. Ор-ганизация Pandas DataFrame и организация индексации для DataFrame и Series; применение универсальных функций и работа с пустыми значениями в Pandas . Объединение данных из нескольких Pandas DataFrame: общая ло-гика и примеры. Рассматривается операция GroupBy в Pandas DataFrame и реализация в ней подхода «разбиение, применение и объединение».        7 Тема 2. Профилирование процессов обработки данных , библио-тека Numba  и векторизация  в Numpy  и Numba . В рамках темы рассматривается профилирование реализации алгорит-мов на Python, принципы решения задачи оптимизации производительности алгоритма. Библиотека Numba: принципы работы, базовые примеры ис-пользования. Векторизация в numpy: ключевые параметры функц ии, при-меры применения, использование обобщенной сигнатуры функции.   Тема 3. Использование различных форматов файлов в задачах об-работки данных.  Принципы работы с файлами, файлы и операционные системы. Спе-цифика текстовых и бинарных файлов, форматы файлов CSV и Pickle, пред-ставление данных в этих форматах и взаимодействие с ними в Python.  Задача сериализации и десериализации данных и использование раз-личных форматов файлов для ее решения. Описание формата файла JSON и пример описания данных в этом формате и  взаимодействия с ним в Python.  Формат XML и модель DOM: общая характеристика, пример описа-ния данных в XML и DOM, работа с ними с помощью библиотеки BeautifulSoup.  Проблематика форматов файлов для хранения и обработки больших данных. Форматы файлов NPY и HDF общая характеристика, пример взаи-модействие с данными этих форматов в Python   Тема 4. Взаимодействие с базой данных и Excel  в приложениях об-работки данных.  Взаимодействие из Python с базой данных на примере API SQLite . Ба-зовые возможности работы с тран закциями . Возможности использования Excel  для внешних приложений обработки данных. Взаимодействие с Excel из Python с помощью библиотеки XLWings: принципы работы и примеры использования.   Тема 5. Работа со строками в приложениях обработки данных . Основы работы с регулярными выражениями: базовый синтаксис, примеры . Модуль re в Python. Примеры использования регулярных выраже-ний. Использования хэширования при работе со строками. Строки в библио-теке numpy .    8           Тема 6. Введение в обработку текста на есте ственном языке в за-дачах обработки данных.  Сегментация и токенезация текста на естественном языке, стеммминг и лемматизация, примеры на Python. Использование мемоизации на при-мере работы со строками. Расстояние Левеншнтейна: определение, алго-ритм эффективн ого поиска оптимального редакционного предписания, при-мер поиска на Python . Векторное представление текста на естественном языке: общий алгоритм подходов TF; TF -IDF.  Тема 7. Параллельная обработка данных.  В рамках темы рассматривается специфика современного аппарат-ного обеспечения для обработки больших данных и проблема масштабиру-емости параллельных вычислений. Многопроцессорные архитектуры с об-щей и разделяемой памятью – специфика и сравнение.  Подходы к д екомпозиции крупных вычислительных задач на подза-дачи для параллельного исполнения. Модели параллельного программиро-вания и их сочетаемость с архитектурами параллельных вычислительных систем. Специфика различия между потоками и процессами.  Проблема Global Interpreter Lock в Python и способы обхода ее огра-ничений. Модуль Python  multiprocessing – назначение и основные возмож-ности, API multiprocessing.Pool.   Тема 8. Библиотека Dask .  В рамках темы рассматривается библиотека для анализа больших объ-емов данных Python  Dask , различные предлагаемые ей подходы к обработке данных. В частности, три ключевых структуры данных Dask: Dask.Array, Dask.DataFrame и Dask.Bag их специфика и принцип выбора структур дан-ных при решении задач. Рассматривается граф зависимостей зада ч, как клю-чевая структура для организации параллельной обработки данных в Python  Dask . Рассматривается принцип и примеры использования распараллелива-ние алгоритмов с помощью dask.delayed .  Рассматривается структура данных Dask.Array, специфика ее реализа-ции и применения, процедура создания, поддерживаемые Dask.Array опера-ции и ее отличия от NumPy ndarray. Рассматривается структура данных Dask.DataFrame, специфика ее реализации и применения, процедура созда-ния, ограничения использования Dask.DataFrame. Расс матриваются опера-ции мэппинга в Dask.DataFrame и операции Dask.DataFrame работающие со    9 скользящим окном. Рассматривается структура данных Dask.Bag, специ-фика ее реализации и применения, процедура создания, поддерживаемые Dask.Bag операции. Организация вычи слений с помощью Map / Filter / Reduce : общий принцип и специфика параллельной реализации обработки данных с помощью Dask.Bag.   Тема 9. Обзор проблем обработки больших данных и вычисления общего назначения на GPU  Большие данные – определение и причины воз никновения задач обра-ботки больших данных. Вызовы «Больших данных»: объем данных, слабая структурированность данных, связность данных, обработка данных с помо-щью независимых сервисов. Специфика аппаратного обеспечения для ре-шения задач обработки больших да нных. П роблема выбора типичных средств обработки данных, адекватных различным объемам данных. Прин-цип обработки данных на базе операций map / filter / reduce , принципы ар-хитектуры hadoop . Источники больших данных и прикладные задачи обра-ботки больших данны х. История развития и общая характеристика GPU . Архитектура Nvidia  CUDA . Принципы организации вычислений в архитектуре Nvidia  CUDA . Знакомство с библиотекой PyTorch . Понятие тензора в PyTorch . Базовые операции с тензорами в PyTorch . 5.2. Учебно -тематический план   № п/п Наименование темы (раздела) дисциплины  Трудоемкость в часах  Формы текущего контроля успевае-мости  Всего  Контактная работа - Аудиторная работа  Само-стоя-тельная работа  Общая, в т.ч.:  Лекции  Семинары, практические занятия  1 Библиотека NumPy и Pandas  24 12 4 8 12 Участие в решении задач на практиче-ских заня-тиях. Об-суждения по резуль-2 Профилирование процессов обра-ботки данных, библиотека Numba  и вектори-зация в Numpy  и Numba  18 8 2 6 10 '"
            ],
            "application/vnd.google.colaboratory.intrinsic+json": {
              "type": "string"
            }
          },
          "metadata": {},
          "execution_count": 44
        }
      ]
    },
    {
      "cell_type": "code",
      "source": [
        "pattern_title = r\"Тема (\\d+)\\. ([^.]+)\"\n",
        "\n",
        "matches = re.findall(pattern_title, text)\n",
        "\n",
        "themes_dict = {}\n",
        "\n",
        "for match in matches:\n",
        "    number, name = match\n",
        "    pattern_content = re.escape(f\"Тема {number}. {name}\") + r\"(.*?)(?=Тема \\d+\\.|$)\"\n",
        "    content = re.search(pattern_content, text).group(1).strip()\n",
        "    name = f\"Тема {number}. {name}\"\n",
        "    themes_dict[name] = content\n",
        "\n",
        "themes_dict"
      ],
      "metadata": {
        "colab": {
          "base_uri": "https://localhost:8080/"
        },
        "id": "2aLGW38kbOht",
        "outputId": "11a79efa-f335-4a15-bea9-adabc06d7f2c"
      },
      "id": "2aLGW38kbOht",
      "execution_count": null,
      "outputs": [
        {
          "output_type": "execute_result",
          "data": {
            "text/plain": [
              "{'Тема 1. Библиотека NumPy  и Pandas ': '.  В рамках темы рассматривается технологический стек Python для об-работки и анализа данных, возможности Python как glue language, специ-фика библиотеки NumPy и ее роль в экосистеме Python. Организация мас-сивов в NumPy: хранение данных, создание массивов, прин ципы реализации операций с едиными исходными данными. Универсальные функции и при-менение функций по осям в NumPy. Принцип распространения значений при выполнении операций в NumPy: общий алгоритм и примеры Маскиро-вание и прихотливое индексирование в NumPy.  В рамках темы рассматриваются возможности библиотеки Pandas. Ор-ганизация Pandas DataFrame и организация индексации для DataFrame и Series; применение универсальных функций и работа с пустыми значениями в Pandas . Объединение данных из нескольких Pandas DataFrame: общая ло-гика и примеры. Рассматривается операция GroupBy в Pandas DataFrame и реализация в ней подхода «разбиение, применение и объединение».        7',\n",
              " 'Тема 2. Профилирование процессов обработки данных , библио-тека Numba  и векторизация  в Numpy  и Numba ': '. В рамках темы рассматривается профилирование реализации алгорит-мов на Python, принципы решения задачи оптимизации производительности алгоритма. Библиотека Numba: принципы работы, базовые примеры ис-пользования. Векторизация в numpy: ключевые параметры функц ии, при-меры применения, использование обобщенной сигнатуры функции.',\n",
              " 'Тема 3. Использование различных форматов файлов в задачах об-работки данных': '.  Принципы работы с файлами, файлы и операционные системы. Спе-цифика текстовых и бинарных файлов, форматы файлов CSV и Pickle, пред-ставление данных в этих форматах и взаимодействие с ними в Python.  Задача сериализации и десериализации данных и использование раз-личных форматов файлов для ее решения. Описание формата файла JSON и пример описания данных в этом формате и  взаимодействия с ним в Python.  Формат XML и модель DOM: общая характеристика, пример описа-ния данных в XML и DOM, работа с ними с помощью библиотеки BeautifulSoup.  Проблематика форматов файлов для хранения и обработки больших данных. Форматы файлов NPY и HDF общая характеристика, пример взаи-модействие с данными этих форматов в Python',\n",
              " 'Тема 4. Взаимодействие с базой данных и Excel  в приложениях об-работки данных': '.  Взаимодействие из Python с базой данных на примере API SQLite . Ба-зовые возможности работы с тран закциями . Возможности использования Excel  для внешних приложений обработки данных. Взаимодействие с Excel из Python с помощью библиотеки XLWings: принципы работы и примеры использования.',\n",
              " 'Тема 5. Работа со строками в приложениях обработки данных ': '. Основы работы с регулярными выражениями: базовый синтаксис, примеры . Модуль re в Python. Примеры использования регулярных выраже-ний. Использования хэширования при работе со строками. Строки в библио-теке numpy .    8',\n",
              " 'Тема 6. Введение в обработку текста на есте ственном языке в за-дачах обработки данных': '.  Сегментация и токенезация текста на естественном языке, стеммминг и лемматизация, примеры на Python. Использование мемоизации на при-мере работы со строками. Расстояние Левеншнтейна: определение, алго-ритм эффективн ого поиска оптимального редакционного предписания, при-мер поиска на Python . Векторное представление текста на естественном языке: общий алгоритм подходов TF; TF -IDF.',\n",
              " 'Тема 7. Параллельная обработка данных': '.  В рамках темы рассматривается специфика современного аппарат-ного обеспечения для обработки больших данных и проблема масштабиру-емости параллельных вычислений. Многопроцессорные архитектуры с об-щей и разделяемой памятью – специфика и сравнение.  Подходы к д екомпозиции крупных вычислительных задач на подза-дачи для параллельного исполнения. Модели параллельного программиро-вания и их сочетаемость с архитектурами параллельных вычислительных систем. Специфика различия между потоками и процессами.  Проблема Global Interpreter Lock в Python и способы обхода ее огра-ничений. Модуль Python  multiprocessing – назначение и основные возмож-ности, API multiprocessing.Pool.',\n",
              " 'Тема 8. Библиотека Dask ': '.  В рамках темы рассматривается библиотека для анализа больших объ-емов данных Python  Dask , различные предлагаемые ей подходы к обработке данных. В частности, три ключевых структуры данных Dask: Dask.Array, Dask.DataFrame и Dask.Bag их специфика и принцип выбора структур дан-ных при решении задач. Рассматривается граф зависимостей зада ч, как клю-чевая структура для организации параллельной обработки данных в Python  Dask . Рассматривается принцип и примеры использования распараллелива-ние алгоритмов с помощью dask.delayed .  Рассматривается структура данных Dask.Array, специфика ее реализа-ции и применения, процедура создания, поддерживаемые Dask.Array опера-ции и ее отличия от NumPy ndarray. Рассматривается структура данных Dask.DataFrame, специфика ее реализации и применения, процедура созда-ния, ограничения использования Dask.DataFrame. Расс матриваются опера-ции мэппинга в Dask.DataFrame и операции Dask.DataFrame работающие со    9 скользящим окном. Рассматривается структура данных Dask.Bag, специ-фика ее реализации и применения, процедура создания, поддерживаемые Dask.Bag операции. Организация вычи слений с помощью Map / Filter / Reduce : общий принцип и специфика параллельной реализации обработки данных с помощью Dask.Bag.',\n",
              " 'Тема 9. Обзор проблем обработки больших данных и вычисления общего назначения на GPU  Большие данные – определение и причины воз никновения задач обра-ботки больших данных': '. Вызовы «Больших данных»: объем данных, слабая структурированность данных, связность данных, обработка данных с помо-щью независимых сервисов. Специфика аппаратного обеспечения для ре-шения задач обработки больших да нных. П роблема выбора типичных средств обработки данных, адекватных различным объемам данных. Прин-цип обработки данных на базе операций map / filter / reduce , принципы ар-хитектуры hadoop . Источники больших данных и прикладные задачи обра-ботки больших данны х. История развития и общая характеристика GPU . Архитектура Nvidia  CUDA . Принципы организации вычислений в архитектуре Nvidia  CUDA . Знакомство с библиотекой PyTorch . Понятие тензора в PyTorch . Базовые операции с тензорами в PyTorch . 5.2. Учебно -тематический план   № п/п Наименование темы (раздела) дисциплины  Трудоемкость в часах  Формы текущего контроля успевае-мости  Всего  Контактная работа - Аудиторная работа  Само-стоя-тельная работа  Общая, в т.ч.:  Лекции  Семинары, практические занятия  1 Библиотека NumPy и Pandas  24 12 4 8 12 Участие в решении задач на практиче-ских заня-тиях. Об-суждения по резуль-2 Профилирование процессов обра-ботки данных, библиотека Numba  и вектори-зация в Numpy  и Numba  18 8 2 6 10'}"
            ]
          },
          "metadata": {},
          "execution_count": 55
        }
      ]
    },
    {
      "cell_type": "markdown",
      "id": "ea2f522c",
      "metadata": {
        "id": "ea2f522c"
      },
      "source": [
        "<p class=\"task\" id=\"2\"></p>\n",
        "\n",
        "2\\. Для всех РПД из каталога `pdf` извлеките названия и количество тем курса. Представьте результат в виде `pd.DataFrame`, где в качестве индекса выступает название файла, столбцы называются \"Тема 1\", \"Тема 2\" и т.д., а в ячейках содержится название темы (без номера)."
      ]
    },
    {
      "cell_type": "markdown",
      "id": "989c640d",
      "metadata": {
        "id": "989c640d"
      },
      "source": [
        "<p class=\"task\" id=\"3\"></p>\n",
        "\n",
        "3\\. Считайте файл `pdf/rpd_tobd_22.pdf`. Извлеките из раздела 5.3 таблицу с содержанием семинаров и представьте в виде `pd.DataFrame`. Выведите на экран количество строк в полученной таблице и саму таблцу."
      ]
    },
    {
      "cell_type": "markdown",
      "id": "d590f13c",
      "metadata": {
        "id": "d590f13c"
      },
      "source": [
        "<p class=\"task\" id=\"4\"></p>\n",
        "\n",
        "4\\. Считайте файл `docx/metodichka_azur_poluitog.docx`. На основе содержимого файла создайте таблицу `pd.DataFrame` со следующими столбцами: \"номер упражнение\", \"текст упражнение\", \"кол-во рисунков в тексте\". Каждый абзац в тексте упражнения должен начинаться с символа \"\\t\". Выведите полученную таблицу на экран."
      ]
    },
    {
      "cell_type": "markdown",
      "id": "ab2a40d4",
      "metadata": {
        "id": "ab2a40d4"
      },
      "source": [
        "<p class=\"task\" id=\"5\"></p>\n",
        "\n",
        "5\\. В файлах каталога `imgs` лежат 2 типа сканов: уведомления и пояснительные записки. Создайте `pd.DataFrame` с двумя столбцами: название файла и тип документа. Тип документа определите, воспользовавшись средством для распознавания текста и найдя ключевые слова."
      ]
    },
    {
      "cell_type": "markdown",
      "id": "ef07eaef",
      "metadata": {
        "id": "ef07eaef"
      },
      "source": [
        "## Обратная связь\n",
        "- [ ] Хочу получить обратную связь по решению"
      ]
    }
  ],
  "metadata": {
    "kernelspec": {
      "display_name": "Python 3 (ipykernel)",
      "language": "python",
      "name": "python3"
    },
    "language_info": {
      "codemirror_mode": {
        "name": "ipython",
        "version": 3
      },
      "file_extension": ".py",
      "mimetype": "text/x-python",
      "name": "python",
      "nbconvert_exporter": "python",
      "pygments_lexer": "ipython3",
      "version": "3.9.13"
    },
    "colab": {
      "provenance": []
    }
  },
  "nbformat": 4,
  "nbformat_minor": 5
}