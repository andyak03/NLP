{
 "cells": [
  {
   "cell_type": "markdown",
   "id": "3a564d5f",
   "metadata": {
    "id": "3a564d5f"
   },
   "source": [
    "#  Word2vec\n",
    "\n",
    "__Автор задач: Блохин Н.В. (NVBlokhin@fa.ru)__\n",
    "\n",
    "Материалы:\n",
    "* Deep Learning with PyTorch (2020) Авторы: Eli Stevens, Luca Antiga, Thomas Viehmann\n",
    "* https://radimrehurek.com/gensim/models/word2vec.html\n",
    "* https://radimrehurek.com/gensim/auto_examples/tutorials/run_word2vec.html\n",
    "* https://pytorch.org/text/stable/vocab.html\n",
    "* https://github.com/OlgaChernytska/word2vec-pytorch\n",
    "* https://www.baeldung.com/cs/nlps-word2vec-negative-sampling\n",
    "* https://towardsdatascience.com/implementing-word2vec-in-pytorch-from-the-ground-up-c7fe5bf99889"
   ]
  },
  {
   "cell_type": "markdown",
   "id": "c9ecd663",
   "metadata": {
    "id": "c9ecd663"
   },
   "source": [
    "## Задачи для совместного разбора"
   ]
  },
  {
   "cell_type": "markdown",
   "id": "1843b512",
   "metadata": {
    "id": "1843b512"
   },
   "source": [
    "1\\. Рассмотрите основные шаги подготовки данных для обучения skip-gram модели"
   ]
  },
  {
   "cell_type": "code",
   "execution_count": 2,
   "id": "31545f32",
   "metadata": {
    "executionInfo": {
     "elapsed": 413,
     "status": "ok",
     "timestamp": 1697627202463,
     "user": {
      "displayName": "Никита Блохин",
      "userId": "16402972581398673009"
     },
     "user_tz": -180
    },
    "id": "31545f32"
   },
   "outputs": [],
   "source": [
    "text = \"Спящий котик мило моргает своими яркими глазками\""
   ]
  },
  {
   "cell_type": "code",
   "execution_count": 4,
   "id": "-lbuLspvd2Gv",
   "metadata": {
    "executionInfo": {
     "elapsed": 452,
     "status": "ok",
     "timestamp": 1697627231604,
     "user": {
      "displayName": "Никита Блохин",
      "userId": "16402972581398673009"
     },
     "user_tz": -180
    },
    "id": "-lbuLspvd2Gv"
   },
   "outputs": [],
   "source": [
    "from torchtext.vocab import build_vocab_from_iterator"
   ]
  },
  {
   "cell_type": "code",
   "execution_count": 7,
   "id": "EQsYe-IZd6Dw",
   "metadata": {
    "colab": {
     "base_uri": "https://localhost:8080/"
    },
    "executionInfo": {
     "elapsed": 8,
     "status": "ok",
     "timestamp": 1697627325611,
     "user": {
      "displayName": "Никита Блохин",
      "userId": "16402972581398673009"
     },
     "user_tz": -180
    },
    "id": "EQsYe-IZd6Dw",
    "outputId": "a5ba0516-b7f8-415e-f27a-c8726b71e6db"
   },
   "outputs": [
    {
     "data": {
      "text/plain": [
       "[['спящий', 'котик', 'мило', 'моргает', 'своими', 'яркими', 'глазками']]"
      ]
     },
     "execution_count": 7,
     "metadata": {},
     "output_type": "execute_result"
    }
   ],
   "source": [
    "corpus = [\n",
    "    text.lower().split()\n",
    "]\n",
    "corpus"
   ]
  },
  {
   "cell_type": "code",
   "execution_count": 8,
   "id": "GVt7P8CaeAxA",
   "metadata": {
    "colab": {
     "base_uri": "https://localhost:8080/"
    },
    "executionInfo": {
     "elapsed": 6,
     "status": "ok",
     "timestamp": 1697627358923,
     "user": {
      "displayName": "Никита Блохин",
      "userId": "16402972581398673009"
     },
     "user_tz": -180
    },
    "id": "GVt7P8CaeAxA",
    "outputId": "1af4f42a-a826-4c0a-c3ec-7df9a048c0d6"
   },
   "outputs": [
    {
     "data": {
      "text/plain": [
       "[[5, 1, 2, 3, 4, 6, 0]]"
      ]
     },
     "execution_count": 8,
     "metadata": {},
     "output_type": "execute_result"
    }
   ],
   "source": [
    "vocab = build_vocab_from_iterator(corpus, )\n",
    "\n",
    "corpus_i = [\n",
    "    vocab.lookup_indices(t)\n",
    "    for t in corpus\n",
    "]\n",
    "corpus_i"
   ]
  },
  {
   "cell_type": "code",
   "execution_count": 11,
   "id": "aQ6KM3aXeGJQ",
   "metadata": {
    "executionInfo": {
     "elapsed": 3,
     "status": "ok",
     "timestamp": 1697627584797,
     "user": {
      "displayName": "Никита Блохин",
      "userId": "16402972581398673009"
     },
     "user_tz": -180
    },
    "id": "aQ6KM3aXeGJQ"
   },
   "outputs": [],
   "source": [
    "example = corpus_i[0]\n",
    "inputs, outputs = [], []\n",
    "\n",
    "for idx, word in enumerate(example):\n",
    "  if idx == 0 or idx == len(example) - 1:\n",
    "    continue\n",
    "  inputs.append(word)\n",
    "  outputs.append(example[idx-1])\n",
    "\n",
    "  inputs.append(word)\n",
    "  outputs.append(example[idx+1])"
   ]
  },
  {
   "cell_type": "code",
   "execution_count": 28,
   "id": "eKADwd90fGNq",
   "metadata": {
    "colab": {
     "base_uri": "https://localhost:8080/",
     "height": 363
    },
    "executionInfo": {
     "elapsed": 8,
     "status": "ok",
     "timestamp": 1697628238980,
     "user": {
      "displayName": "Никита Блохин",
      "userId": "16402972581398673009"
     },
     "user_tz": -180
    },
    "id": "eKADwd90fGNq",
    "outputId": "be0a85ae-0625-40a2-b99c-d837d3611058"
   },
   "outputs": [
    {
     "data": {
      "text/html": [
       "\n",
       "  <div id=\"df-f18f8718-1c22-4720-a27d-e9344e19291f\" class=\"colab-df-container\">\n",
       "    <div>\n",
       "<style scoped>\n",
       "    .dataframe tbody tr th:only-of-type {\n",
       "        vertical-align: middle;\n",
       "    }\n",
       "\n",
       "    .dataframe tbody tr th {\n",
       "        vertical-align: top;\n",
       "    }\n",
       "\n",
       "    .dataframe thead th {\n",
       "        text-align: right;\n",
       "    }\n",
       "</style>\n",
       "<table border=\"1\" class=\"dataframe\">\n",
       "  <thead>\n",
       "    <tr style=\"text-align: right;\">\n",
       "      <th></th>\n",
       "      <th>x</th>\n",
       "      <th>y</th>\n",
       "    </tr>\n",
       "  </thead>\n",
       "  <tbody>\n",
       "    <tr>\n",
       "      <th>0</th>\n",
       "      <td>1</td>\n",
       "      <td>5</td>\n",
       "    </tr>\n",
       "    <tr>\n",
       "      <th>1</th>\n",
       "      <td>1</td>\n",
       "      <td>2</td>\n",
       "    </tr>\n",
       "    <tr>\n",
       "      <th>2</th>\n",
       "      <td>2</td>\n",
       "      <td>1</td>\n",
       "    </tr>\n",
       "    <tr>\n",
       "      <th>3</th>\n",
       "      <td>2</td>\n",
       "      <td>3</td>\n",
       "    </tr>\n",
       "    <tr>\n",
       "      <th>4</th>\n",
       "      <td>3</td>\n",
       "      <td>2</td>\n",
       "    </tr>\n",
       "    <tr>\n",
       "      <th>5</th>\n",
       "      <td>3</td>\n",
       "      <td>4</td>\n",
       "    </tr>\n",
       "    <tr>\n",
       "      <th>6</th>\n",
       "      <td>4</td>\n",
       "      <td>3</td>\n",
       "    </tr>\n",
       "    <tr>\n",
       "      <th>7</th>\n",
       "      <td>4</td>\n",
       "      <td>6</td>\n",
       "    </tr>\n",
       "    <tr>\n",
       "      <th>8</th>\n",
       "      <td>6</td>\n",
       "      <td>4</td>\n",
       "    </tr>\n",
       "    <tr>\n",
       "      <th>9</th>\n",
       "      <td>6</td>\n",
       "      <td>0</td>\n",
       "    </tr>\n",
       "  </tbody>\n",
       "</table>\n",
       "</div>\n",
       "    <div class=\"colab-df-buttons\">\n",
       "\n",
       "  <div class=\"colab-df-container\">\n",
       "    <button class=\"colab-df-convert\" onclick=\"convertToInteractive('df-f18f8718-1c22-4720-a27d-e9344e19291f')\"\n",
       "            title=\"Convert this dataframe to an interactive table.\"\n",
       "            style=\"display:none;\">\n",
       "\n",
       "  <svg xmlns=\"http://www.w3.org/2000/svg\" height=\"24px\" viewBox=\"0 -960 960 960\">\n",
       "    <path d=\"M120-120v-720h720v720H120Zm60-500h600v-160H180v160Zm220 220h160v-160H400v160Zm0 220h160v-160H400v160ZM180-400h160v-160H180v160Zm440 0h160v-160H620v160ZM180-180h160v-160H180v160Zm440 0h160v-160H620v160Z\"/>\n",
       "  </svg>\n",
       "    </button>\n",
       "\n",
       "  <style>\n",
       "    .colab-df-container {\n",
       "      display:flex;\n",
       "      gap: 12px;\n",
       "    }\n",
       "\n",
       "    .colab-df-convert {\n",
       "      background-color: #E8F0FE;\n",
       "      border: none;\n",
       "      border-radius: 50%;\n",
       "      cursor: pointer;\n",
       "      display: none;\n",
       "      fill: #1967D2;\n",
       "      height: 32px;\n",
       "      padding: 0 0 0 0;\n",
       "      width: 32px;\n",
       "    }\n",
       "\n",
       "    .colab-df-convert:hover {\n",
       "      background-color: #E2EBFA;\n",
       "      box-shadow: 0px 1px 2px rgba(60, 64, 67, 0.3), 0px 1px 3px 1px rgba(60, 64, 67, 0.15);\n",
       "      fill: #174EA6;\n",
       "    }\n",
       "\n",
       "    .colab-df-buttons div {\n",
       "      margin-bottom: 4px;\n",
       "    }\n",
       "\n",
       "    [theme=dark] .colab-df-convert {\n",
       "      background-color: #3B4455;\n",
       "      fill: #D2E3FC;\n",
       "    }\n",
       "\n",
       "    [theme=dark] .colab-df-convert:hover {\n",
       "      background-color: #434B5C;\n",
       "      box-shadow: 0px 1px 3px 1px rgba(0, 0, 0, 0.15);\n",
       "      filter: drop-shadow(0px 1px 2px rgba(0, 0, 0, 0.3));\n",
       "      fill: #FFFFFF;\n",
       "    }\n",
       "  </style>\n",
       "\n",
       "    <script>\n",
       "      const buttonEl =\n",
       "        document.querySelector('#df-f18f8718-1c22-4720-a27d-e9344e19291f button.colab-df-convert');\n",
       "      buttonEl.style.display =\n",
       "        google.colab.kernel.accessAllowed ? 'block' : 'none';\n",
       "\n",
       "      async function convertToInteractive(key) {\n",
       "        const element = document.querySelector('#df-f18f8718-1c22-4720-a27d-e9344e19291f');\n",
       "        const dataTable =\n",
       "          await google.colab.kernel.invokeFunction('convertToInteractive',\n",
       "                                                    [key], {});\n",
       "        if (!dataTable) return;\n",
       "\n",
       "        const docLinkHtml = 'Like what you see? Visit the ' +\n",
       "          '<a target=\"_blank\" href=https://colab.research.google.com/notebooks/data_table.ipynb>data table notebook</a>'\n",
       "          + ' to learn more about interactive tables.';\n",
       "        element.innerHTML = '';\n",
       "        dataTable['output_type'] = 'display_data';\n",
       "        await google.colab.output.renderOutput(dataTable, element);\n",
       "        const docLink = document.createElement('div');\n",
       "        docLink.innerHTML = docLinkHtml;\n",
       "        element.appendChild(docLink);\n",
       "      }\n",
       "    </script>\n",
       "  </div>\n",
       "\n",
       "\n",
       "<div id=\"df-dad04903-abf0-4821-a63a-044dff2c4269\">\n",
       "  <button class=\"colab-df-quickchart\" onclick=\"quickchart('df-dad04903-abf0-4821-a63a-044dff2c4269')\"\n",
       "            title=\"Suggest charts.\"\n",
       "            style=\"display:none;\">\n",
       "\n",
       "<svg xmlns=\"http://www.w3.org/2000/svg\" height=\"24px\"viewBox=\"0 0 24 24\"\n",
       "     width=\"24px\">\n",
       "    <g>\n",
       "        <path d=\"M19 3H5c-1.1 0-2 .9-2 2v14c0 1.1.9 2 2 2h14c1.1 0 2-.9 2-2V5c0-1.1-.9-2-2-2zM9 17H7v-7h2v7zm4 0h-2V7h2v10zm4 0h-2v-4h2v4z\"/>\n",
       "    </g>\n",
       "</svg>\n",
       "  </button>\n",
       "\n",
       "<style>\n",
       "  .colab-df-quickchart {\n",
       "      --bg-color: #E8F0FE;\n",
       "      --fill-color: #1967D2;\n",
       "      --hover-bg-color: #E2EBFA;\n",
       "      --hover-fill-color: #174EA6;\n",
       "      --disabled-fill-color: #AAA;\n",
       "      --disabled-bg-color: #DDD;\n",
       "  }\n",
       "\n",
       "  [theme=dark] .colab-df-quickchart {\n",
       "      --bg-color: #3B4455;\n",
       "      --fill-color: #D2E3FC;\n",
       "      --hover-bg-color: #434B5C;\n",
       "      --hover-fill-color: #FFFFFF;\n",
       "      --disabled-bg-color: #3B4455;\n",
       "      --disabled-fill-color: #666;\n",
       "  }\n",
       "\n",
       "  .colab-df-quickchart {\n",
       "    background-color: var(--bg-color);\n",
       "    border: none;\n",
       "    border-radius: 50%;\n",
       "    cursor: pointer;\n",
       "    display: none;\n",
       "    fill: var(--fill-color);\n",
       "    height: 32px;\n",
       "    padding: 0;\n",
       "    width: 32px;\n",
       "  }\n",
       "\n",
       "  .colab-df-quickchart:hover {\n",
       "    background-color: var(--hover-bg-color);\n",
       "    box-shadow: 0 1px 2px rgba(60, 64, 67, 0.3), 0 1px 3px 1px rgba(60, 64, 67, 0.15);\n",
       "    fill: var(--button-hover-fill-color);\n",
       "  }\n",
       "\n",
       "  .colab-df-quickchart-complete:disabled,\n",
       "  .colab-df-quickchart-complete:disabled:hover {\n",
       "    background-color: var(--disabled-bg-color);\n",
       "    fill: var(--disabled-fill-color);\n",
       "    box-shadow: none;\n",
       "  }\n",
       "\n",
       "  .colab-df-spinner {\n",
       "    border: 2px solid var(--fill-color);\n",
       "    border-color: transparent;\n",
       "    border-bottom-color: var(--fill-color);\n",
       "    animation:\n",
       "      spin 1s steps(1) infinite;\n",
       "  }\n",
       "\n",
       "  @keyframes spin {\n",
       "    0% {\n",
       "      border-color: transparent;\n",
       "      border-bottom-color: var(--fill-color);\n",
       "      border-left-color: var(--fill-color);\n",
       "    }\n",
       "    20% {\n",
       "      border-color: transparent;\n",
       "      border-left-color: var(--fill-color);\n",
       "      border-top-color: var(--fill-color);\n",
       "    }\n",
       "    30% {\n",
       "      border-color: transparent;\n",
       "      border-left-color: var(--fill-color);\n",
       "      border-top-color: var(--fill-color);\n",
       "      border-right-color: var(--fill-color);\n",
       "    }\n",
       "    40% {\n",
       "      border-color: transparent;\n",
       "      border-right-color: var(--fill-color);\n",
       "      border-top-color: var(--fill-color);\n",
       "    }\n",
       "    60% {\n",
       "      border-color: transparent;\n",
       "      border-right-color: var(--fill-color);\n",
       "    }\n",
       "    80% {\n",
       "      border-color: transparent;\n",
       "      border-right-color: var(--fill-color);\n",
       "      border-bottom-color: var(--fill-color);\n",
       "    }\n",
       "    90% {\n",
       "      border-color: transparent;\n",
       "      border-bottom-color: var(--fill-color);\n",
       "    }\n",
       "  }\n",
       "</style>\n",
       "\n",
       "  <script>\n",
       "    async function quickchart(key) {\n",
       "      const quickchartButtonEl =\n",
       "        document.querySelector('#' + key + ' button');\n",
       "      quickchartButtonEl.disabled = true;  // To prevent multiple clicks.\n",
       "      quickchartButtonEl.classList.add('colab-df-spinner');\n",
       "      try {\n",
       "        const charts = await google.colab.kernel.invokeFunction(\n",
       "            'suggestCharts', [key], {});\n",
       "      } catch (error) {\n",
       "        console.error('Error during call to suggestCharts:', error);\n",
       "      }\n",
       "      quickchartButtonEl.classList.remove('colab-df-spinner');\n",
       "      quickchartButtonEl.classList.add('colab-df-quickchart-complete');\n",
       "    }\n",
       "    (() => {\n",
       "      let quickchartButtonEl =\n",
       "        document.querySelector('#df-dad04903-abf0-4821-a63a-044dff2c4269 button');\n",
       "      quickchartButtonEl.style.display =\n",
       "        google.colab.kernel.accessAllowed ? 'block' : 'none';\n",
       "    })();\n",
       "  </script>\n",
       "</div>\n",
       "    </div>\n",
       "  </div>\n"
      ],
      "text/plain": [
       "   x  y\n",
       "0  1  5\n",
       "1  1  2\n",
       "2  2  1\n",
       "3  2  3\n",
       "4  3  2\n",
       "5  3  4\n",
       "6  4  3\n",
       "7  4  6\n",
       "8  6  4\n",
       "9  6  0"
      ]
     },
     "execution_count": 28,
     "metadata": {},
     "output_type": "execute_result"
    }
   ],
   "source": [
    "import pandas as pd\n",
    "\n",
    "pd.DataFrame({\"x\": inputs, \"y\": outputs})"
   ]
  },
  {
   "cell_type": "code",
   "execution_count": 14,
   "id": "PFva8wuifYKC",
   "metadata": {
    "executionInfo": {
     "elapsed": 3,
     "status": "ok",
     "timestamp": 1697627633394,
     "user": {
      "displayName": "Никита Блохин",
      "userId": "16402972581398673009"
     },
     "user_tz": -180
    },
    "id": "PFva8wuifYKC"
   },
   "outputs": [],
   "source": [
    "import torch as th\n",
    "\n",
    "inputs = th.tensor(inputs, dtype=th.long)\n",
    "outputs = th.tensor(outputs, dtype=th.long)"
   ]
  },
  {
   "cell_type": "markdown",
   "id": "98ad623c",
   "metadata": {
    "id": "98ad623c"
   },
   "source": [
    "2\\. Рассмотрите основные шаги по настройке skip-gram модели"
   ]
  },
  {
   "cell_type": "code",
   "execution_count": 16,
   "id": "JwAmDFa5fl5A",
   "metadata": {
    "executionInfo": {
     "elapsed": 3,
     "status": "ok",
     "timestamp": 1697627756204,
     "user": {
      "displayName": "Никита Блохин",
      "userId": "16402972581398673009"
     },
     "user_tz": -180
    },
    "id": "JwAmDFa5fl5A"
   },
   "outputs": [],
   "source": [
    "import torch.nn as nn\n",
    "\n",
    "embeddings = nn.Embedding(num_embeddings=len(vocab), embedding_dim=300)"
   ]
  },
  {
   "cell_type": "code",
   "execution_count": 18,
   "id": "I6EWuWC2f9Sq",
   "metadata": {
    "colab": {
     "base_uri": "https://localhost:8080/"
    },
    "executionInfo": {
     "elapsed": 6,
     "status": "ok",
     "timestamp": 1697627779447,
     "user": {
      "displayName": "Никита Блохин",
      "userId": "16402972581398673009"
     },
     "user_tz": -180
    },
    "id": "I6EWuWC2f9Sq",
    "outputId": "0845f820-506c-4e7e-d7e4-657033473c50"
   },
   "outputs": [
    {
     "data": {
      "text/plain": [
       "(10, torch.Size([10, 300]))"
      ]
     },
     "execution_count": 18,
     "metadata": {},
     "output_type": "execute_result"
    }
   ],
   "source": [
    "len(inputs), embeddings(inputs).shape"
   ]
  },
  {
   "cell_type": "code",
   "execution_count": 19,
   "id": "vNMKTzWQgeY7",
   "metadata": {
    "colab": {
     "base_uri": "https://localhost:8080/"
    },
    "executionInfo": {
     "elapsed": 4,
     "status": "ok",
     "timestamp": 1697627893065,
     "user": {
      "displayName": "Никита Блохин",
      "userId": "16402972581398673009"
     },
     "user_tz": -180
    },
    "id": "vNMKTzWQgeY7",
    "outputId": "e7d3fdcc-a543-4ba4-913d-d97325920155"
   },
   "outputs": [
    {
     "data": {
      "text/plain": [
       "7"
      ]
     },
     "execution_count": 19,
     "metadata": {},
     "output_type": "execute_result"
    }
   ],
   "source": [
    "len(vocab)"
   ]
  },
  {
   "cell_type": "code",
   "execution_count": 20,
   "id": "BRQpmXpVgZYI",
   "metadata": {
    "executionInfo": {
     "elapsed": 2,
     "status": "ok",
     "timestamp": 1697627910495,
     "user": {
      "displayName": "Никита Блохин",
      "userId": "16402972581398673009"
     },
     "user_tz": -180
    },
    "id": "BRQpmXpVgZYI"
   },
   "outputs": [],
   "source": [
    "fc = nn.Linear(in_features=300, out_features=len(vocab))"
   ]
  },
  {
   "cell_type": "code",
   "execution_count": null,
   "id": "c1cC2jxwgi-C",
   "metadata": {
    "id": "c1cC2jxwgi-C"
   },
   "outputs": [],
   "source": [
    "x_e = embeddings(inputs)\n",
    "out = fc(x_e)\n",
    "out"
   ]
  },
  {
   "cell_type": "code",
   "execution_count": 24,
   "id": "EKrW8F4SgtJg",
   "metadata": {
    "colab": {
     "base_uri": "https://localhost:8080/"
    },
    "executionInfo": {
     "elapsed": 5,
     "status": "ok",
     "timestamp": 1697627958404,
     "user": {
      "displayName": "Никита Блохин",
      "userId": "16402972581398673009"
     },
     "user_tz": -180
    },
    "id": "EKrW8F4SgtJg",
    "outputId": "9cccdfeb-36c8-4e8f-8c8d-3d2cfdb67e16"
   },
   "outputs": [
    {
     "data": {
      "text/plain": [
       "tensor([5, 2, 1, 3, 2, 4, 3, 6, 4, 0])"
      ]
     },
     "execution_count": 24,
     "metadata": {},
     "output_type": "execute_result"
    }
   ],
   "source": [
    "outputs"
   ]
  },
  {
   "cell_type": "code",
   "execution_count": 27,
   "id": "ZsTRyA1BgzDI",
   "metadata": {
    "colab": {
     "base_uri": "https://localhost:8080/"
    },
    "executionInfo": {
     "elapsed": 8,
     "status": "ok",
     "timestamp": 1697628043160,
     "user": {
      "displayName": "Никита Блохин",
      "userId": "16402972581398673009"
     },
     "user_tz": -180
    },
    "id": "ZsTRyA1BgzDI",
    "outputId": "51b408e8-cd8f-441f-be2a-d61b848175a4"
   },
   "outputs": [
    {
     "data": {
      "text/plain": [
       "tensor(2.0006, grad_fn=<NllLossBackward0>)"
      ]
     },
     "execution_count": 27,
     "metadata": {},
     "output_type": "execute_result"
    }
   ],
   "source": [
    "model = nn.Sequential(\n",
    "    nn.Embedding(num_embeddings=len(vocab), embedding_dim=300),\n",
    "    nn.Linear(in_features=300, out_features=len(vocab))\n",
    ")\n",
    "criterion = nn.CrossEntropyLoss()\n",
    "\n",
    "out = model(inputs)\n",
    "loss = criterion(out, outputs)\n",
    "loss"
   ]
  },
  {
   "cell_type": "code",
   "execution_count": 33,
   "id": "CdjhvjZ0hu-h",
   "metadata": {
    "executionInfo": {
     "elapsed": 409,
     "status": "ok",
     "timestamp": 1697628455861,
     "user": {
      "displayName": "Никита Блохин",
      "userId": "16402972581398673009"
     },
     "user_tz": -180
    },
    "id": "CdjhvjZ0hu-h"
   },
   "outputs": [],
   "source": [
    "embeddings = nn.Embedding(\n",
    "    num_embeddings=len(vocab),\n",
    "    embedding_dim=16,\n",
    "    max_norm=1\n",
    ")\n",
    "\n",
    "inputs_e = embeddings(inputs)\n",
    "outputs_e = embeddings(outputs)"
   ]
  },
  {
   "cell_type": "code",
   "execution_count": 34,
   "id": "-z1ZgejHiNpK",
   "metadata": {
    "colab": {
     "base_uri": "https://localhost:8080/"
    },
    "executionInfo": {
     "elapsed": 424,
     "status": "ok",
     "timestamp": 1697628458150,
     "user": {
      "displayName": "Никита Блохин",
      "userId": "16402972581398673009"
     },
     "user_tz": -180
    },
    "id": "-z1ZgejHiNpK",
    "outputId": "d396ceb3-21b4-4f32-b763-c656a261095f"
   },
   "outputs": [
    {
     "data": {
      "text/plain": [
       "tensor(5)"
      ]
     },
     "execution_count": 34,
     "metadata": {},
     "output_type": "execute_result"
    }
   ],
   "source": [
    "outputs[0]"
   ]
  },
  {
   "cell_type": "code",
   "execution_count": 38,
   "id": "b0q0sU_9iRwR",
   "metadata": {
    "colab": {
     "base_uri": "https://localhost:8080/"
    },
    "executionInfo": {
     "elapsed": 437,
     "status": "ok",
     "timestamp": 1697628495248,
     "user": {
      "displayName": "Никита Блохин",
      "userId": "16402972581398673009"
     },
     "user_tz": -180
    },
    "id": "b0q0sU_9iRwR",
    "outputId": "5abb5b52-9204-4fde-e4ef-a16c9096ac7c"
   },
   "outputs": [
    {
     "data": {
      "text/plain": [
       "tensor(0.0742, grad_fn=<DotBackward0>)"
      ]
     },
     "execution_count": 38,
     "metadata": {},
     "output_type": "execute_result"
    }
   ],
   "source": [
    "inputs_e[0] @ outputs_e[0]"
   ]
  },
  {
   "cell_type": "code",
   "execution_count": 39,
   "id": "JC1dCaW1iZfA",
   "metadata": {
    "colab": {
     "base_uri": "https://localhost:8080/"
    },
    "executionInfo": {
     "elapsed": 359,
     "status": "ok",
     "timestamp": 1697628504213,
     "user": {
      "displayName": "Никита Блохин",
      "userId": "16402972581398673009"
     },
     "user_tz": -180
    },
    "id": "JC1dCaW1iZfA",
    "outputId": "c3d8b06c-e978-4b6f-e574-01c75d01557e"
   },
   "outputs": [
    {
     "data": {
      "text/plain": [
       "(tensor(5), tensor(1))"
      ]
     },
     "execution_count": 39,
     "metadata": {},
     "output_type": "execute_result"
    }
   ],
   "source": [
    "outputs[0], inputs[0]"
   ]
  },
  {
   "cell_type": "code",
   "execution_count": 41,
   "id": "AJtQSKtwi3Kv",
   "metadata": {
    "colab": {
     "base_uri": "https://localhost:8080/"
    },
    "executionInfo": {
     "elapsed": 5,
     "status": "ok",
     "timestamp": 1697628601195,
     "user": {
      "displayName": "Никита Блохин",
      "userId": "16402972581398673009"
     },
     "user_tz": -180
    },
    "id": "AJtQSKtwi3Kv",
    "outputId": "15a4772d-b941-4fce-863d-13a1a1d6d7e7"
   },
   "outputs": [
    {
     "data": {
      "text/plain": [
       "torch.Size([10, 10])"
      ]
     },
     "execution_count": 41,
     "metadata": {},
     "output_type": "execute_result"
    }
   ],
   "source": [
    "(inputs_e @ outputs_e.T).shape"
   ]
  },
  {
   "cell_type": "code",
   "execution_count": 47,
   "id": "S5GtCY2Zkpie",
   "metadata": {
    "executionInfo": {
     "elapsed": 3,
     "status": "ok",
     "timestamp": 1697629166780,
     "user": {
      "displayName": "Никита Блохин",
      "userId": "16402972581398673009"
     },
     "user_tz": -180
    },
    "id": "S5GtCY2Zkpie"
   },
   "outputs": [],
   "source": [
    "y_pred = th.tensor([\n",
    "    [1, 0.0742]\n",
    "]) # логиты\n",
    "# y_pred.softmax(dim=1) # вероятности\n",
    "# y_pred.sigmoid()\n",
    "y = [0]"
   ]
  },
  {
   "cell_type": "code",
   "execution_count": null,
   "id": "2I52ZfAxjJqK",
   "metadata": {
    "id": "2I52ZfAxjJqK"
   },
   "outputs": [],
   "source": [
    "o = inputs_e.view(-1, 1, 16).bmm(outputs_e.view(-1, 16, 1))\n",
    "o"
   ]
  },
  {
   "cell_type": "markdown",
   "id": "4d7b6d63",
   "metadata": {
    "id": "4d7b6d63"
   },
   "source": [
    "## Задачи для самостоятельного решения"
   ]
  },
  {
   "cell_type": "code",
   "execution_count": 8,
   "id": "62fcedfa",
   "metadata": {},
   "outputs": [
    {
     "name": "stderr",
     "output_type": "stream",
     "text": [
      "[nltk_data] Error loading stopwords: <urlopen error [SSL:\n",
      "[nltk_data]     CERTIFICATE_VERIFY_FAILED] certificate verify failed:\n",
      "[nltk_data]     unable to get local issuer certificate (_ssl.c:992)>\n",
      "[nltk_data] Error loading punkt: <urlopen error [SSL:\n",
      "[nltk_data]     CERTIFICATE_VERIFY_FAILED] certificate verify failed:\n",
      "[nltk_data]     unable to get local issuer certificate (_ssl.c:992)>\n"
     ]
    }
   ],
   "source": [
    "import pandas as pd\n",
    "import re\n",
    "import nltk\n",
    "from nltk.corpus import stopwords\n",
    "from nltk.tokenize import sent_tokenize\n",
    "nltk.download('stopwords')\n",
    "nltk.download('punkt')\n",
    "stop_words = set(stopwords.words('russian'))"
   ]
  },
  {
   "cell_type": "markdown",
   "id": "604e329f",
   "metadata": {
    "id": "604e329f"
   },
   "source": [
    "<p class=\"task\" id=\"1\"></p>\n",
    "\n",
    "1\\. Загрузите тексты новостей из файла `news_500.csv`. Удалите из текстов все знаки препинания и символы не из русского алфавита, приведите все слова к нижнему регистру и удалите стоп-слова. Разбейте текст каждой новости на фрагменты по 3 предложения и сохраните в виде списка строк. Выведите на экран длину полученного списка.\n",
    "\n",
    "- [x] Проверено на семинаре"
   ]
  },
  {
   "cell_type": "code",
   "execution_count": 53,
   "id": "3576c54f",
   "metadata": {},
   "outputs": [],
   "source": [
    "data = pd.read_csv('data/news_500.csv')\n",
    "data = data.sample(2)"
   ]
  },
  {
   "cell_type": "code",
   "execution_count": 54,
   "id": "3db9618d",
   "metadata": {},
   "outputs": [],
   "source": [
    "def clean_text(text):\n",
    "    cleaned_text = re.sub(r'[^\\w\\sа-яА-Я]', '', text)\n",
    "    words = cleaned_text.lower().split()\n",
    "    words = [word for word in words if word not in stop_words]\n",
    "    return ' '.join(words)"
   ]
  },
  {
   "cell_type": "code",
   "execution_count": 55,
   "id": "43275d56",
   "metadata": {},
   "outputs": [
    {
     "data": {
      "text/plain": [
       "[['Сейчас на территории нашей страны действует около 8 000 обменных пунктов, две трети из которых расположены в Москве. Как отметили в ГУБЭП, на протяжении последних лет \"обменники\" стали предметом особого внимания преступников, которые используют их для легализации преступно нажитых средств и ухода от налогов. Сотрудники подразделений УБЭП совместно с представителями Банка России провели проверку деятельности обменных пунктов и пришли к выводу, что \"карательными мерами\" изменить ситуацию нельзя.',\n",
       "  'Необходимо вносить изменения в законодательство. В МВД пока предпочитают подробно не комментировать те меры, которые будут предложены этим ведомством руководству Центробанка. Однако, как полагают многие аналитики, часть этих предложений будет касаться статуса справок об обмене валюты, которые выдаются гражданам при обмене денег.',\n",
       "  'На данный момент справка о купле-продаже валюты является разрешением на ее вывоз, ее также обязаны принимать как документ, подтверждающий легальное происхождение денег. Также хорошо известно, что многие пункты обмена валюты не выполняют даже тех требований, которые уже существуют. Практически нигде, кроме отделений крупных банков, у лица, пришедшего менять деньги,  не спрашивают паспорт, хотя его наличие - обязательное условие для покупки иностранной валюты на российские рубли.'],\n",
       " ['Об этом РБК сообщили в пресс-службе главы российского государства. Таким образом, Владимир Путин ознакомится с позициями обeих сторон, участвующих в палестино-израильском конфликте. Напомним, что в минувший понедельник в Кремле прошли переговоры российского президента с министром иностранных дел Израиля Шимоном Пересом, в ходе которых обсуждались пути прекращения палестино-израильского конфликта.',\n",
       "  'Основной темой переговоров Шимона Переса с российским руководством стало обсуждение конкретных шагов, которые следует предпринять палестинцам и израильтянам для прекращения насилия и возвращения за стол переговоров. При этом в Москве считают, что каждая из сторон должна пройти свою часть пути к стабилизации и урегулированию. Россия, со своей стороны, готова оказать необходимое содействие для сближения позиций Израиля и Палестины.',\n",
       "  'В Москве исходят из того, что развитие взаимовыгодных связей отвечает долгосрочным интересам обеих стран и является фактором содействия укреплению стабильности на Ближнем Востоке. Впрочем, и у палестинского лидера найдется тема для беседы с российским президентом. Подтверждая позицию России о полном неприятии и осуждении терроризма во всех его формах и проявлениях, МИД РФ, тем не менее, считает, что \"явно неадекватное применение Израилем военной силы нельзя ничем оправдать и объяснить\", и \"стороны должны немедленно предпринять эффективные встречные меры по разрядке напряженности\".']]"
      ]
     },
     "execution_count": 55,
     "metadata": {},
     "output_type": "execute_result"
    }
   ],
   "source": [
    "fragmented_text = []\n",
    "for news_text in data['text']:\n",
    "    sentences = sent_tokenize(news_text)\n",
    "    fragments = [' '.join(sentences[i:i+3]) for i in range(0, len(sentences), 3)]\n",
    "    fragmented_text.append(fragments)\n",
    "\n",
    "\n",
    "fragmented_text"
   ]
  },
  {
   "cell_type": "markdown",
   "id": "49cb99c9",
   "metadata": {
    "id": "49cb99c9"
   },
   "source": [
    "<p class=\"task\" id=\"2\"></p>\n",
    "\n",
    "2\\. Настройте модель Word2Vec из пакета `gensim`. Для валидации выведите на экран информацию о ближайших словах для нескольких случайно выбранных токенов из обучающей выборки.\n",
    "\n",
    "- [ ] Проверено на семинаре"
   ]
  },
  {
   "cell_type": "markdown",
   "id": "d22ce44c",
   "metadata": {
    "id": "d22ce44c"
   },
   "source": [
    "<p class=\"task\" id=\"3\"></p>\n",
    "\n",
    "3. Опишите класс `W2VDataset`, который реализует в себе логику получения контекстного окна для обучения skip-gram модели. При создании словаря игнорируйте токены, которые встретились меньше 20 раз. Продемонстрируйте пример работы.\n",
    "\n",
    "![image.png](attachment:image.png)\n",
    "\n",
    "- [ ] Проверено на семинаре"
   ]
  },
  {
   "cell_type": "markdown",
   "id": "2baa4164",
   "metadata": {
    "id": "2baa4164"
   },
   "source": [
    "<p class=\"task\" id=\"4\"></p>\n",
    "\n",
    "4\\. Реализуйте и настройте skip-gram модель. Перед началом обучения выберите случайным образом несколько слов из датасета и для каждого из них выведите на экран 3 ближайших слова в смысле косинусной близости между эмбеддингами. В процессе настройки для валидации периодически выводите на экран информацию о ближайших словах для этих слов. Выведите на экран график значения функции потерь в зависимости от номера эпохи.  \n",
    "\n",
    "![image.png](attachment:image.png)\n",
    "\n",
    "- [ ] Проверено на семинаре"
   ]
  },
  {
   "cell_type": "markdown",
   "id": "4696acda",
   "metadata": {
    "id": "4696acda"
   },
   "source": [
    "<p class=\"task\" id=\"5\"></p>\n",
    "\n",
    "5\\. Реализуйте класс `NegativeSampler`, который позволяет сгенерировать набор отрицательных примеров. Для генерации отрицательных примеров выбирайте токены пропорционально величине $C(w)^{\\frac{3}{4}}$, где $C(w)$ - частота токена в корпусе.\n",
    "\n",
    "\n",
    "- [ ] Проверено на семинаре"
   ]
  },
  {
   "cell_type": "markdown",
   "id": "983cd8e5",
   "metadata": {
    "id": "983cd8e5"
   },
   "source": [
    "<p class=\"task\" id=\"6\"></p>\n",
    "\n",
    "6\\. Реализуйте и настройте skip-gram модель с использованием negative sampling. Перед началом обучения выберите случайным образом несколько слов из датасета и для каждого из них выведите на экран 3 ближайших слова в смысле косинусной близости между эмбеддингами. В процессе настройки для валидации периодически выводите на экран информацию о ближайших словах для этих слов. Выведите на экран график значения функции потерь в зависимости от номера эпохи.  \n",
    "\n",
    "- [ ] Проверено на семинаре"
   ]
  },
  {
   "cell_type": "markdown",
   "id": "66caa919",
   "metadata": {
    "id": "66caa919"
   },
   "source": [
    "## Обратная связь\n",
    "- [ ] Хочу получить обратную связь по решению"
   ]
  }
 ],
 "metadata": {
  "colab": {
   "provenance": []
  },
  "kernelspec": {
   "display_name": "Python 3 (ipykernel)",
   "language": "python",
   "name": "python3"
  },
  "language_info": {
   "codemirror_mode": {
    "name": "ipython",
    "version": 3
   },
   "file_extension": ".py",
   "mimetype": "text/x-python",
   "name": "python",
   "nbconvert_exporter": "python",
   "pygments_lexer": "ipython3",
   "version": "3.10.9"
  }
 },
 "nbformat": 4,
 "nbformat_minor": 5
}
