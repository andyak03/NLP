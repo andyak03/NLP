{
 "cells": [
  {
   "cell_type": "markdown",
   "id": "3a564d5f",
   "metadata": {
    "id": "3a564d5f"
   },
   "source": [
    "#  Генерация текста с использованием рекуррентных нейронных сетей\n",
    "\n",
    "__Автор задач: Блохин Н.В. (NVBlokhin@fa.ru)__\n",
    "\n",
    "Материалы:\n",
    "* Николенко С., Кадурин А., Архангельская Е. Глубокое обучение.\n",
    "* https://pytorch.org/docs/stable/nn.html#recurrent-layers\n",
    "* https://pytorch.org/tutorials/intermediate/char_rnn_generation_tutorial.html\n"
   ]
  },
  {
   "cell_type": "markdown",
   "id": "c9ecd663",
   "metadata": {
    "id": "c9ecd663"
   },
   "source": [
    "## Задачи для совместного разбора"
   ]
  },
  {
   "cell_type": "markdown",
   "id": "8f8b28c1",
   "metadata": {
    "id": "8f8b28c1"
   },
   "source": [
    "1\\. Рассмотрите основные шаги обучения модели для генерации текста с использованием RNN.\n",
    "\n",
    "![text gen](https://www.tensorflow.org/static/text/tutorials/images/text_generation_sampling.png)"
   ]
  },
  {
   "cell_type": "code",
   "execution_count": null,
   "id": "RdZxElm_x7eh",
   "metadata": {
    "id": "RdZxElm_x7eh"
   },
   "outputs": [],
   "source": [
    "import torch as th\n",
    "import torch.nn as nn"
   ]
  },
  {
   "cell_type": "code",
   "execution_count": null,
   "id": "U6xdoEZ5x_XH",
   "metadata": {
    "colab": {
     "base_uri": "https://localhost:8080/"
    },
    "executionInfo": {
     "elapsed": 438,
     "status": "ok",
     "timestamp": 1699427766604,
     "user": {
      "displayName": "Никита Блохин",
      "userId": "16402972581398673009"
     },
     "user_tz": -180
    },
    "id": "U6xdoEZ5x_XH",
    "outputId": "cd82d32b-e392-410c-a6c5-0f7f8b15f45d"
   },
   "outputs": [
    {
     "data": {
      "text/plain": [
       "torch.Size([16, 5])"
      ]
     },
     "execution_count": 2,
     "metadata": {},
     "output_type": "execute_result"
    }
   ],
   "source": [
    "batch_size, seq_len = 16, 5\n",
    "x = th.randint(0, 10, size=(batch_size, seq_len))\n",
    "x.shape"
   ]
  },
  {
   "cell_type": "code",
   "execution_count": null,
   "id": "XJwrXUarycxh",
   "metadata": {
    "colab": {
     "base_uri": "https://localhost:8080/"
    },
    "executionInfo": {
     "elapsed": 210,
     "status": "ok",
     "timestamp": 1699427909132,
     "user": {
      "displayName": "Никита Блохин",
      "userId": "16402972581398673009"
     },
     "user_tz": -180
    },
    "id": "XJwrXUarycxh",
    "outputId": "d5938be9-90cc-48e8-d640-fa4e05b5cb55"
   },
   "outputs": [
    {
     "data": {
      "text/plain": [
       "torch.Size([16, 5, 32])"
      ]
     },
     "execution_count": 4,
     "metadata": {},
     "output_type": "execute_result"
    }
   ],
   "source": [
    "embedding_dim = 32\n",
    "embedding = nn.Embedding(\n",
    "    num_embeddings=10,\n",
    "    embedding_dim=embedding_dim\n",
    ")\n",
    "x_e = embedding(x)\n",
    "x_e.shape"
   ]
  },
  {
   "cell_type": "code",
   "execution_count": null,
   "id": "w7hkPZjSzY3f",
   "metadata": {
    "colab": {
     "base_uri": "https://localhost:8080/"
    },
    "executionInfo": {
     "elapsed": 6,
     "status": "ok",
     "timestamp": 1699428015162,
     "user": {
      "displayName": "Никита Блохин",
      "userId": "16402972581398673009"
     },
     "user_tz": -180
    },
    "id": "w7hkPZjSzY3f",
    "outputId": "29dd6205-3899-49bf-caa1-2c659fdf82b8"
   },
   "outputs": [
    {
     "data": {
      "text/plain": [
       "torch.Size([10, 32])"
      ]
     },
     "execution_count": 5,
     "metadata": {},
     "output_type": "execute_result"
    }
   ],
   "source": [
    "embedding.weight.shape"
   ]
  },
  {
   "cell_type": "code",
   "execution_count": null,
   "id": "DL9bx_CFzAyp",
   "metadata": {
    "colab": {
     "base_uri": "https://localhost:8080/"
    },
    "executionInfo": {
     "elapsed": 4,
     "status": "ok",
     "timestamp": 1699428055321,
     "user": {
      "displayName": "Никита Блохин",
      "userId": "16402972581398673009"
     },
     "user_tz": -180
    },
    "id": "DL9bx_CFzAyp",
    "outputId": "1dcdbc23-9432-46cf-d258-33b33841abb7"
   },
   "outputs": [
    {
     "name": "stdout",
     "output_type": "stream",
     "text": [
      "torch.Size([16, 5, 15]) torch.Size([1, 16, 15])\n"
     ]
    }
   ],
   "source": [
    "hidden_size = 15\n",
    "rnn = nn.RNN(\n",
    "    input_size=embedding_dim,\n",
    "    hidden_size=hidden_size,\n",
    "    batch_first=True,\n",
    ")\n",
    "out, h = rnn(x_e)\n",
    "print(out.shape, h.shape)"
   ]
  },
  {
   "cell_type": "code",
   "execution_count": null,
   "id": "s547pxT1zsEv",
   "metadata": {
    "colab": {
     "base_uri": "https://localhost:8080/"
    },
    "executionInfo": {
     "elapsed": 6,
     "status": "ok",
     "timestamp": 1699428104897,
     "user": {
      "displayName": "Никита Блохин",
      "userId": "16402972581398673009"
     },
     "user_tz": -180
    },
    "id": "s547pxT1zsEv",
    "outputId": "c04cc10b-8369-4c9c-b658-ebfdb12cd33a"
   },
   "outputs": [
    {
     "data": {
      "text/plain": [
       "torch.Size([5, 15])"
      ]
     },
     "execution_count": 7,
     "metadata": {},
     "output_type": "execute_result"
    }
   ],
   "source": [
    "out[0]"
   ]
  },
  {
   "cell_type": "code",
   "execution_count": null,
   "id": "KhsKSWR0z3Xv",
   "metadata": {
    "colab": {
     "base_uri": "https://localhost:8080/"
    },
    "executionInfo": {
     "elapsed": 5,
     "status": "ok",
     "timestamp": 1699428152565,
     "user": {
      "displayName": "Никита Блохин",
      "userId": "16402972581398673009"
     },
     "user_tz": -180
    },
    "id": "KhsKSWR0z3Xv",
    "outputId": "e3c72c41-63e0-4951-a9be-1d098c02935b"
   },
   "outputs": [
    {
     "data": {
      "text/plain": [
       "tensor([-0.1368,  0.2714,  0.6290, -0.1286, -0.6385, -0.7978,  0.5825, -0.5952,\n",
       "        -0.3692, -0.2634,  0.3295, -0.1316,  0.5934,  0.4368,  0.3552],\n",
       "       grad_fn=<SelectBackward0>)"
      ]
     },
     "execution_count": 9,
     "metadata": {},
     "output_type": "execute_result"
    }
   ],
   "source": [
    "out[0][1]"
   ]
  },
  {
   "cell_type": "code",
   "execution_count": null,
   "id": "PaiFfUhQ0B6K",
   "metadata": {
    "colab": {
     "base_uri": "https://localhost:8080/"
    },
    "executionInfo": {
     "elapsed": 5,
     "status": "ok",
     "timestamp": 1699428481756,
     "user": {
      "displayName": "Никита Блохин",
      "userId": "16402972581398673009"
     },
     "user_tz": -180
    },
    "id": "PaiFfUhQ0B6K",
    "outputId": "f9113a72-bde0-4916-c0ff-da177067a8f4"
   },
   "outputs": [
    {
     "data": {
      "text/plain": [
       "tensor([[0, 3, 5, 3, 0],\n",
       "        [1, 7, 7, 7, 5],\n",
       "        [1, 3, 9, 3, 5],\n",
       "        [5, 0, 7, 9, 7]])"
      ]
     },
     "execution_count": 18,
     "metadata": {},
     "output_type": "execute_result"
    }
   ],
   "source": [
    "x[:4]"
   ]
  },
  {
   "cell_type": "code",
   "execution_count": null,
   "id": "rgayc_25zjeD",
   "metadata": {
    "colab": {
     "base_uri": "https://localhost:8080/"
    },
    "executionInfo": {
     "elapsed": 227,
     "status": "ok",
     "timestamp": 1699428223869,
     "user": {
      "displayName": "Никита Блохин",
      "userId": "16402972581398673009"
     },
     "user_tz": -180
    },
    "id": "rgayc_25zjeD",
    "outputId": "7f5ba2e8-9cee-4231-c557-9be1b3acc85b"
   },
   "outputs": [
    {
     "data": {
      "text/plain": [
       "tensor([[0, 3, 5, 3],\n",
       "        [1, 7, 7, 7],\n",
       "        [1, 3, 9, 3],\n",
       "        [5, 0, 7, 9]])"
      ]
     },
     "execution_count": 11,
     "metadata": {},
     "output_type": "execute_result"
    }
   ],
   "source": [
    "x[:, :-1][:4]"
   ]
  },
  {
   "cell_type": "code",
   "execution_count": null,
   "id": "9RMFWzGM0KhH",
   "metadata": {
    "colab": {
     "base_uri": "https://localhost:8080/"
    },
    "executionInfo": {
     "elapsed": 203,
     "status": "ok",
     "timestamp": 1699428239066,
     "user": {
      "displayName": "Никита Блохин",
      "userId": "16402972581398673009"
     },
     "user_tz": -180
    },
    "id": "9RMFWzGM0KhH",
    "outputId": "18f8ce56-65cd-4162-a11d-9df693d8668a"
   },
   "outputs": [
    {
     "data": {
      "text/plain": [
       "tensor([[3, 5, 3, 0],\n",
       "        [7, 7, 7, 5],\n",
       "        [3, 9, 3, 5],\n",
       "        [0, 7, 9, 7]])"
      ]
     },
     "execution_count": 12,
     "metadata": {},
     "output_type": "execute_result"
    }
   ],
   "source": [
    "x[:, 1:][:4]"
   ]
  },
  {
   "cell_type": "code",
   "execution_count": null,
   "id": "ThyXWmdC0Y7R",
   "metadata": {
    "colab": {
     "base_uri": "https://localhost:8080/"
    },
    "executionInfo": {
     "elapsed": 4,
     "status": "ok",
     "timestamp": 1699428298311,
     "user": {
      "displayName": "Никита Блохин",
      "userId": "16402972581398673009"
     },
     "user_tz": -180
    },
    "id": "ThyXWmdC0Y7R",
    "outputId": "daa14113-ac2b-4ac3-b5a3-5603155df7df"
   },
   "outputs": [
    {
     "data": {
      "text/plain": [
       "torch.Size([16, 4, 15])"
      ]
     },
     "execution_count": 13,
     "metadata": {},
     "output_type": "execute_result"
    }
   ],
   "source": [
    "x_train = x[:, :-1]\n",
    "x_train_e = embedding(x_train)\n",
    "out, h = rnn(x_train_e)\n",
    "out.shape"
   ]
  },
  {
   "cell_type": "code",
   "execution_count": null,
   "id": "sQDLOe0w0eyY",
   "metadata": {
    "colab": {
     "base_uri": "https://localhost:8080/"
    },
    "executionInfo": {
     "elapsed": 309,
     "status": "ok",
     "timestamp": 1699428410941,
     "user": {
      "displayName": "Никита Блохин",
      "userId": "16402972581398673009"
     },
     "user_tz": -180
    },
    "id": "sQDLOe0w0eyY",
    "outputId": "5b146aa0-daa2-4509-c9df-a9a1acf5f600"
   },
   "outputs": [
    {
     "data": {
      "text/plain": [
       "torch.Size([64, 15])"
      ]
     },
     "execution_count": 16,
     "metadata": {},
     "output_type": "execute_result"
    }
   ],
   "source": [
    "out_2d = out.reshape(16 * 4, 15)\n",
    "out_2d.shape"
   ]
  },
  {
   "cell_type": "code",
   "execution_count": null,
   "id": "nLMzdGOr0515",
   "metadata": {
    "colab": {
     "base_uri": "https://localhost:8080/"
    },
    "executionInfo": {
     "elapsed": 5,
     "status": "ok",
     "timestamp": 1699428436828,
     "user": {
      "displayName": "Никита Блохин",
      "userId": "16402972581398673009"
     },
     "user_tz": -180
    },
    "id": "nLMzdGOr0515",
    "outputId": "c8f1cd1d-7ce1-4b9e-f1b1-082f3b669bd0"
   },
   "outputs": [
    {
     "data": {
      "text/plain": [
       "torch.Size([64, 10])"
      ]
     },
     "execution_count": 17,
     "metadata": {},
     "output_type": "execute_result"
    }
   ],
   "source": [
    "fc = nn.Linear(hidden_size, 10)\n",
    "fc(out_2d).shape"
   ]
  },
  {
   "cell_type": "markdown",
   "id": "4d7b6d63",
   "metadata": {
    "id": "4d7b6d63"
   },
   "source": [
    "## Задачи для самостоятельного решения"
   ]
  },
  {
   "cell_type": "code",
   "execution_count": null,
   "id": "cJ4i9eQt_VP1",
   "metadata": {
    "id": "cJ4i9eQt_VP1"
   },
   "outputs": [],
   "source": [
    "import torch\n",
    "import torch.nn as nn\n",
    "import pandas as pd\n",
    "from torch.utils.data import Dataset, DataLoader\n",
    "from torchtext.vocab import build_vocab_from_iterator\n",
    "import torchtext.transforms as T\n",
    "import numpy as np\n",
    "import torch.optim as optim\n",
    "import matplotlib.pyplot as plt"
   ]
  },
  {
   "cell_type": "code",
   "execution_count": null,
   "id": "4G_gUuBa_OZQ",
   "metadata": {
    "colab": {
     "base_uri": "https://localhost:8080/"
    },
    "executionInfo": {
     "elapsed": 14303,
     "status": "ok",
     "timestamp": 1699968001528,
     "user": {
      "displayName": "Nikita Matuskov",
      "userId": "13790330490192234090"
     },
     "user_tz": -180
    },
    "id": "4G_gUuBa_OZQ",
    "outputId": "a672cb10-9751-4fe6-aa6e-cda561a50d71"
   },
   "outputs": [
    {
     "name": "stdout",
     "output_type": "stream",
     "text": [
      "Mounted at /content/drive\n"
     ]
    }
   ],
   "source": [
    "from google.colab import drive\n",
    "drive.mount('/content/drive')"
   ]
  },
  {
   "cell_type": "markdown",
   "id": "e9c5b920",
   "metadata": {
    "id": "e9c5b920"
   },
   "source": [
    "<p class=\"task\" id=\"1\"></p>\n",
    "\n",
    "### 1\n",
    "Считайте файл `pets_ru_en.csv`, приведите имена питомцев к нижнем регистру. Создайте Vocab на основе загруженных данных (токен - __буква__). Добавьте в словарь специальные токены `<PAD>`, `<SOS>`, `<EOS>`. Выведите на экран количество токенов в полученном словаре.\n",
    "\n",
    "- [ ] Проверено на семинаре"
   ]
  },
  {
   "cell_type": "code",
   "execution_count": null,
   "id": "9d9rVSe7_UAV",
   "metadata": {
    "colab": {
     "base_uri": "https://localhost:8080/",
     "height": 206
    },
    "executionInfo": {
     "elapsed": 410,
     "status": "ok",
     "timestamp": 1699985010799,
     "user": {
      "displayName": "Nikita Matuskov",
      "userId": "13790330490192234090"
     },
     "user_tz": -180
    },
    "id": "9d9rVSe7_UAV",
    "outputId": "f2fce0fc-0e94-4c8a-afe4-d55598e30b18"
   },
   "outputs": [
    {
     "data": {
      "text/html": [
       "\n",
       "  <div id=\"df-b6559874-264f-4789-9826-78f5e6385ca9\" class=\"colab-df-container\">\n",
       "    <div>\n",
       "<style scoped>\n",
       "    .dataframe tbody tr th:only-of-type {\n",
       "        vertical-align: middle;\n",
       "    }\n",
       "\n",
       "    .dataframe tbody tr th {\n",
       "        vertical-align: top;\n",
       "    }\n",
       "\n",
       "    .dataframe thead th {\n",
       "        text-align: right;\n",
       "    }\n",
       "</style>\n",
       "<table border=\"1\" class=\"dataframe\">\n",
       "  <thead>\n",
       "    <tr style=\"text-align: right;\">\n",
       "      <th></th>\n",
       "      <th>имя</th>\n",
       "      <th>язык</th>\n",
       "    </tr>\n",
       "  </thead>\n",
       "  <tbody>\n",
       "    <tr>\n",
       "      <th>0</th>\n",
       "      <td>Acapella</td>\n",
       "      <td>en</td>\n",
       "    </tr>\n",
       "    <tr>\n",
       "      <th>1</th>\n",
       "      <td>Achilles</td>\n",
       "      <td>en</td>\n",
       "    </tr>\n",
       "    <tr>\n",
       "      <th>2</th>\n",
       "      <td>Adriana</td>\n",
       "      <td>en</td>\n",
       "    </tr>\n",
       "    <tr>\n",
       "      <th>3</th>\n",
       "      <td>Alpha</td>\n",
       "      <td>en</td>\n",
       "    </tr>\n",
       "    <tr>\n",
       "      <th>4</th>\n",
       "      <td>Alyssum</td>\n",
       "      <td>en</td>\n",
       "    </tr>\n",
       "  </tbody>\n",
       "</table>\n",
       "</div>\n",
       "    <div class=\"colab-df-buttons\">\n",
       "\n",
       "  <div class=\"colab-df-container\">\n",
       "    <button class=\"colab-df-convert\" onclick=\"convertToInteractive('df-b6559874-264f-4789-9826-78f5e6385ca9')\"\n",
       "            title=\"Convert this dataframe to an interactive table.\"\n",
       "            style=\"display:none;\">\n",
       "\n",
       "  <svg xmlns=\"http://www.w3.org/2000/svg\" height=\"24px\" viewBox=\"0 -960 960 960\">\n",
       "    <path d=\"M120-120v-720h720v720H120Zm60-500h600v-160H180v160Zm220 220h160v-160H400v160Zm0 220h160v-160H400v160ZM180-400h160v-160H180v160Zm440 0h160v-160H620v160ZM180-180h160v-160H180v160Zm440 0h160v-160H620v160Z\"/>\n",
       "  </svg>\n",
       "    </button>\n",
       "\n",
       "  <style>\n",
       "    .colab-df-container {\n",
       "      display:flex;\n",
       "      gap: 12px;\n",
       "    }\n",
       "\n",
       "    .colab-df-convert {\n",
       "      background-color: #E8F0FE;\n",
       "      border: none;\n",
       "      border-radius: 50%;\n",
       "      cursor: pointer;\n",
       "      display: none;\n",
       "      fill: #1967D2;\n",
       "      height: 32px;\n",
       "      padding: 0 0 0 0;\n",
       "      width: 32px;\n",
       "    }\n",
       "\n",
       "    .colab-df-convert:hover {\n",
       "      background-color: #E2EBFA;\n",
       "      box-shadow: 0px 1px 2px rgba(60, 64, 67, 0.3), 0px 1px 3px 1px rgba(60, 64, 67, 0.15);\n",
       "      fill: #174EA6;\n",
       "    }\n",
       "\n",
       "    .colab-df-buttons div {\n",
       "      margin-bottom: 4px;\n",
       "    }\n",
       "\n",
       "    [theme=dark] .colab-df-convert {\n",
       "      background-color: #3B4455;\n",
       "      fill: #D2E3FC;\n",
       "    }\n",
       "\n",
       "    [theme=dark] .colab-df-convert:hover {\n",
       "      background-color: #434B5C;\n",
       "      box-shadow: 0px 1px 3px 1px rgba(0, 0, 0, 0.15);\n",
       "      filter: drop-shadow(0px 1px 2px rgba(0, 0, 0, 0.3));\n",
       "      fill: #FFFFFF;\n",
       "    }\n",
       "  </style>\n",
       "\n",
       "    <script>\n",
       "      const buttonEl =\n",
       "        document.querySelector('#df-b6559874-264f-4789-9826-78f5e6385ca9 button.colab-df-convert');\n",
       "      buttonEl.style.display =\n",
       "        google.colab.kernel.accessAllowed ? 'block' : 'none';\n",
       "\n",
       "      async function convertToInteractive(key) {\n",
       "        const element = document.querySelector('#df-b6559874-264f-4789-9826-78f5e6385ca9');\n",
       "        const dataTable =\n",
       "          await google.colab.kernel.invokeFunction('convertToInteractive',\n",
       "                                                    [key], {});\n",
       "        if (!dataTable) return;\n",
       "\n",
       "        const docLinkHtml = 'Like what you see? Visit the ' +\n",
       "          '<a target=\"_blank\" href=https://colab.research.google.com/notebooks/data_table.ipynb>data table notebook</a>'\n",
       "          + ' to learn more about interactive tables.';\n",
       "        element.innerHTML = '';\n",
       "        dataTable['output_type'] = 'display_data';\n",
       "        await google.colab.output.renderOutput(dataTable, element);\n",
       "        const docLink = document.createElement('div');\n",
       "        docLink.innerHTML = docLinkHtml;\n",
       "        element.appendChild(docLink);\n",
       "      }\n",
       "    </script>\n",
       "  </div>\n",
       "\n",
       "\n",
       "<div id=\"df-c165ca6e-5d5d-44e5-9e88-3d6aa2f078df\">\n",
       "  <button class=\"colab-df-quickchart\" onclick=\"quickchart('df-c165ca6e-5d5d-44e5-9e88-3d6aa2f078df')\"\n",
       "            title=\"Suggest charts\"\n",
       "            style=\"display:none;\">\n",
       "\n",
       "<svg xmlns=\"http://www.w3.org/2000/svg\" height=\"24px\"viewBox=\"0 0 24 24\"\n",
       "     width=\"24px\">\n",
       "    <g>\n",
       "        <path d=\"M19 3H5c-1.1 0-2 .9-2 2v14c0 1.1.9 2 2 2h14c1.1 0 2-.9 2-2V5c0-1.1-.9-2-2-2zM9 17H7v-7h2v7zm4 0h-2V7h2v10zm4 0h-2v-4h2v4z\"/>\n",
       "    </g>\n",
       "</svg>\n",
       "  </button>\n",
       "\n",
       "<style>\n",
       "  .colab-df-quickchart {\n",
       "      --bg-color: #E8F0FE;\n",
       "      --fill-color: #1967D2;\n",
       "      --hover-bg-color: #E2EBFA;\n",
       "      --hover-fill-color: #174EA6;\n",
       "      --disabled-fill-color: #AAA;\n",
       "      --disabled-bg-color: #DDD;\n",
       "  }\n",
       "\n",
       "  [theme=dark] .colab-df-quickchart {\n",
       "      --bg-color: #3B4455;\n",
       "      --fill-color: #D2E3FC;\n",
       "      --hover-bg-color: #434B5C;\n",
       "      --hover-fill-color: #FFFFFF;\n",
       "      --disabled-bg-color: #3B4455;\n",
       "      --disabled-fill-color: #666;\n",
       "  }\n",
       "\n",
       "  .colab-df-quickchart {\n",
       "    background-color: var(--bg-color);\n",
       "    border: none;\n",
       "    border-radius: 50%;\n",
       "    cursor: pointer;\n",
       "    display: none;\n",
       "    fill: var(--fill-color);\n",
       "    height: 32px;\n",
       "    padding: 0;\n",
       "    width: 32px;\n",
       "  }\n",
       "\n",
       "  .colab-df-quickchart:hover {\n",
       "    background-color: var(--hover-bg-color);\n",
       "    box-shadow: 0 1px 2px rgba(60, 64, 67, 0.3), 0 1px 3px 1px rgba(60, 64, 67, 0.15);\n",
       "    fill: var(--button-hover-fill-color);\n",
       "  }\n",
       "\n",
       "  .colab-df-quickchart-complete:disabled,\n",
       "  .colab-df-quickchart-complete:disabled:hover {\n",
       "    background-color: var(--disabled-bg-color);\n",
       "    fill: var(--disabled-fill-color);\n",
       "    box-shadow: none;\n",
       "  }\n",
       "\n",
       "  .colab-df-spinner {\n",
       "    border: 2px solid var(--fill-color);\n",
       "    border-color: transparent;\n",
       "    border-bottom-color: var(--fill-color);\n",
       "    animation:\n",
       "      spin 1s steps(1) infinite;\n",
       "  }\n",
       "\n",
       "  @keyframes spin {\n",
       "    0% {\n",
       "      border-color: transparent;\n",
       "      border-bottom-color: var(--fill-color);\n",
       "      border-left-color: var(--fill-color);\n",
       "    }\n",
       "    20% {\n",
       "      border-color: transparent;\n",
       "      border-left-color: var(--fill-color);\n",
       "      border-top-color: var(--fill-color);\n",
       "    }\n",
       "    30% {\n",
       "      border-color: transparent;\n",
       "      border-left-color: var(--fill-color);\n",
       "      border-top-color: var(--fill-color);\n",
       "      border-right-color: var(--fill-color);\n",
       "    }\n",
       "    40% {\n",
       "      border-color: transparent;\n",
       "      border-right-color: var(--fill-color);\n",
       "      border-top-color: var(--fill-color);\n",
       "    }\n",
       "    60% {\n",
       "      border-color: transparent;\n",
       "      border-right-color: var(--fill-color);\n",
       "    }\n",
       "    80% {\n",
       "      border-color: transparent;\n",
       "      border-right-color: var(--fill-color);\n",
       "      border-bottom-color: var(--fill-color);\n",
       "    }\n",
       "    90% {\n",
       "      border-color: transparent;\n",
       "      border-bottom-color: var(--fill-color);\n",
       "    }\n",
       "  }\n",
       "</style>\n",
       "\n",
       "  <script>\n",
       "    async function quickchart(key) {\n",
       "      const quickchartButtonEl =\n",
       "        document.querySelector('#' + key + ' button');\n",
       "      quickchartButtonEl.disabled = true;  // To prevent multiple clicks.\n",
       "      quickchartButtonEl.classList.add('colab-df-spinner');\n",
       "      try {\n",
       "        const charts = await google.colab.kernel.invokeFunction(\n",
       "            'suggestCharts', [key], {});\n",
       "      } catch (error) {\n",
       "        console.error('Error during call to suggestCharts:', error);\n",
       "      }\n",
       "      quickchartButtonEl.classList.remove('colab-df-spinner');\n",
       "      quickchartButtonEl.classList.add('colab-df-quickchart-complete');\n",
       "    }\n",
       "    (() => {\n",
       "      let quickchartButtonEl =\n",
       "        document.querySelector('#df-c165ca6e-5d5d-44e5-9e88-3d6aa2f078df button');\n",
       "      quickchartButtonEl.style.display =\n",
       "        google.colab.kernel.accessAllowed ? 'block' : 'none';\n",
       "    })();\n",
       "  </script>\n",
       "</div>\n",
       "    </div>\n",
       "  </div>\n"
      ],
      "text/plain": [
       "        имя язык\n",
       "0  Acapella   en\n",
       "1  Achilles   en\n",
       "2   Adriana   en\n",
       "3     Alpha   en\n",
       "4   Alyssum   en"
      ]
     },
     "execution_count": 314,
     "metadata": {},
     "output_type": "execute_result"
    }
   ],
   "source": [
    "data = pd.read_csv(\"/content/drive/MyDrive/data/pets_ru_en.csv\")\n",
    "data.head()"
   ]
  },
  {
   "cell_type": "code",
   "execution_count": null,
   "id": "akGx4MWSAlEQ",
   "metadata": {
    "colab": {
     "base_uri": "https://localhost:8080/"
    },
    "executionInfo": {
     "elapsed": 2,
     "status": "ok",
     "timestamp": 1699985011228,
     "user": {
      "displayName": "Nikita Matuskov",
      "userId": "13790330490192234090"
     },
     "user_tz": -180
    },
    "id": "akGx4MWSAlEQ",
    "outputId": "a66b7bff-22ff-4b53-db3d-0b3c859a01d9"
   },
   "outputs": [
    {
     "data": {
      "text/plain": [
       "(2894, 2)"
      ]
     },
     "execution_count": 315,
     "metadata": {},
     "output_type": "execute_result"
    }
   ],
   "source": [
    "data['имя'] = data['имя'].str.lower()\n",
    "data = data.drop_duplicates(subset=['имя'])\n",
    "data.shape"
   ]
  },
  {
   "cell_type": "code",
   "execution_count": null,
   "id": "PgFRqLvVBDEn",
   "metadata": {
    "id": "PgFRqLvVBDEn"
   },
   "outputs": [],
   "source": [
    "vocab = build_vocab_from_iterator(data['имя'].tolist(), specials=['<UNK>', '<PAD>', '<SOS>', '<EOS>'])\n",
    "vocab.set_default_index(0)"
   ]
  },
  {
   "cell_type": "code",
   "execution_count": null,
   "id": "QLNDNmMbBrgQ",
   "metadata": {
    "colab": {
     "base_uri": "https://localhost:8080/"
    },
    "executionInfo": {
     "elapsed": 3,
     "status": "ok",
     "timestamp": 1699985011995,
     "user": {
      "displayName": "Nikita Matuskov",
      "userId": "13790330490192234090"
     },
     "user_tz": -180
    },
    "id": "QLNDNmMbBrgQ",
    "outputId": "3fa766d1-e81e-479b-aba5-93733c318578"
   },
   "outputs": [
    {
     "data": {
      "text/plain": [
       "64"
      ]
     },
     "execution_count": 317,
     "metadata": {},
     "output_type": "execute_result"
    }
   ],
   "source": [
    "len(vocab)"
   ]
  },
  {
   "cell_type": "code",
   "execution_count": null,
   "id": "iaWCafQ8yaKf",
   "metadata": {
    "id": "iaWCafQ8yaKf"
   },
   "outputs": [],
   "source": [
    "# ИСПОЛЬЗУЕТСЯ В ДАЛЬНЕЙШЕМ, ОБРАТИТЕ ВНИМАНИЕ!!!\n",
    "sos_idx = vocab.lookup_indices(['<SOS>'])[0]\n",
    "eos_idx = vocab.lookup_indices(['<EOS>'])[0]\n",
    "pad_idx = vocab.lookup_indices(['<PAD>'])[0]"
   ]
  },
  {
   "cell_type": "markdown",
   "id": "1fe1170d",
   "metadata": {
    "id": "1fe1170d"
   },
   "source": [
    "<p class=\"task\" id=\"2\"></p>\n",
    "\n",
    "### 2\n",
    "Создайте класс `PetsGenDataset`. Используя преобразования, сделайте длины наборов индексов одинаковой фиксированной длины (подходящее значение определите сами) и добавьте в начало каждого набора индекс `<SOS>`, а в конец - индекс токена `<EOS>`. Реализуйте `__getitem__` таким образом, чтобы он возвращал кортеж `(x, y)` в соответствии с приведенным рисунком. Создайте объект `DataLoader` с размером батча 128 и включенным `shuffle`. Выведите на экран размер `x` и `y` из одного батча.\n",
    "\n",
    "<img src=\"data:image/png;base64,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\">\n",
    "\n",
    "- [ ] Проверено на семинаре"
   ]
  },
  {
   "cell_type": "code",
   "execution_count": null,
   "id": "WvEySthLSeSn",
   "metadata": {
    "id": "WvEySthLSeSn"
   },
   "outputs": [],
   "source": [
    "class PetsGenDataset(Dataset):\n",
    "    def __init__(self, dataframe, transform):\n",
    "        self.dataframe = dataframe\n",
    "        self.transform = transform\n",
    "\n",
    "    def __len__(self):\n",
    "        return len(self.dataframe)\n",
    "\n",
    "    def __getitem__(self, index):\n",
    "        names = self.dataframe.iloc[index]['имя']\n",
    "\n",
    "        if isinstance(names, str):\n",
    "            names = [names]\n",
    "        else:\n",
    "            names = names.tolist()\n",
    "\n",
    "        tokens = list(map(lambda x: self.transform([i for i in x]), names))\n",
    "\n",
    "        if len(tokens) == 1:\n",
    "            return (tokens[0][:-1], tokens[0][1:])\n",
    "\n",
    "        return list(map(lambda x: (x[:-1], x[1:]), tokens))"
   ]
  },
  {
   "cell_type": "code",
   "execution_count": null,
   "id": "BtqbBwfNPsUb",
   "metadata": {
    "colab": {
     "base_uri": "https://localhost:8080/"
    },
    "executionInfo": {
     "elapsed": 2,
     "status": "ok",
     "timestamp": 1699985015435,
     "user": {
      "displayName": "Nikita Matuskov",
      "userId": "13790330490192234090"
     },
     "user_tz": -180
    },
    "id": "BtqbBwfNPsUb",
    "outputId": "7f2d3255-fc7d-480c-a1ae-cc74abba86c3"
   },
   "outputs": [
    {
     "name": "stdout",
     "output_type": "stream",
     "text": [
      "[(tensor([ 2,  7, 25,  7, 28,  6, 18, 18,  7]), tensor([ 7, 25,  7, 28,  6, 18, 18,  7,  3]))] \n",
      "\n",
      "[(tensor([ 2,  7, 25,  7, 28,  6, 18, 18,  7]), tensor([ 7, 25,  7, 28,  6, 18, 18,  7,  3])), (tensor([ 2,  7, 25, 32, 15, 18, 18,  6, 19]), tensor([ 7, 25, 32, 15, 18, 18,  6, 19,  3]))]\n"
     ]
    }
   ],
   "source": [
    "transform = T.Sequential(\n",
    "    T.VocabTransform(vocab),\n",
    "    T.Truncate(max_seq_len=8),\n",
    "    T.AddToken(sos_idx, begin=True),\n",
    "    T.AddToken(eos_idx, begin=False),\n",
    "    T.ToTensor(),\n",
    "    T.PadTransform(max_length=10, pad_value=pad_idx),\n",
    ")\n",
    "\n",
    "petsdataset = PetsGenDataset(data, transform)\n",
    "\n",
    "print(petsdataset[0], '\\n')\n",
    "print(petsdataset[:2])"
   ]
  },
  {
   "cell_type": "code",
   "execution_count": null,
   "id": "tjkVqRxGVohC",
   "metadata": {
    "colab": {
     "base_uri": "https://localhost:8080/"
    },
    "executionInfo": {
     "elapsed": 376,
     "status": "ok",
     "timestamp": 1699973893334,
     "user": {
      "displayName": "Nikita Matuskov",
      "userId": "13790330490192234090"
     },
     "user_tz": -180
    },
    "id": "tjkVqRxGVohC",
    "outputId": "5f2f1759-37ef-45ec-fce7-d9cb68477b28"
   },
   "outputs": [
    {
     "name": "stdout",
     "output_type": "stream",
     "text": [
      "torch.Size([200, 9]) torch.Size([200, 9])\n"
     ]
    }
   ],
   "source": [
    "loader = DataLoader(petsdataset, batch_size=128, shuffle=True)\n",
    "\n",
    "for x, y in loader:\n",
    "  print(x.shape, y.shape)\n",
    "  break"
   ]
  },
  {
   "cell_type": "markdown",
   "id": "08ab0366",
   "metadata": {
    "id": "08ab0366"
   },
   "source": [
    "<p class=\"task\" id=\"3\"></p>\n",
    "\n",
    "### 3\n",
    "Напишите функцию, которая генерирует имя питомца при помощи обученной модели:\n",
    "  * построение начинается с последовательности единичной длины, состоящей из индекса токена `<SOS>`;\n",
    "  * начальное скрытое состояние RNN `h_t = None`;\n",
    "  * в результате прогона последнего токена из построенной последовательности через модель получаете новое скрытое состояние `h_t` и распределение над всеми токенами из словаря;\n",
    "  * выбираете 1 токен пропорционально вероятности и добавляете его в последовательность (можно воспользоваться `torch.multinomial`);\n",
    "  * повторяете эти действия до тех пор, пока не сгенерирован токен `<EOS>` или не превышена максимальная длина последовательности;\n",
    "  * функция возвращает строку из букв с первой заглавной буквой.\n",
    "  \n",
    "- [ ] Проверено на семинаре"
   ]
  },
  {
   "cell_type": "code",
   "execution_count": null,
   "id": "IZ2DdO7-qyUB",
   "metadata": {
    "id": "IZ2DdO7-qyUB"
   },
   "outputs": [],
   "source": [
    "class Net(nn.Module):\n",
    "    def __init__(self, input_size, embedding_size, hidden_size):\n",
    "        super().__init__()\n",
    "\n",
    "        self.emb = nn.Embedding(input_size, embedding_size)\n",
    "        self.rnn = nn.RNN(embedding_size, hidden_size, batch_first=True)\n",
    "        self.linear = nn.Linear(hidden_size, input_size)\n",
    "\n",
    "    def forward(self, x):\n",
    "        emb = self.emb(x)\n",
    "        out, h = self.rnn(emb)\n",
    "        out = out.reshape(out.shape[0]*out.shape[1], out.shape[2])\n",
    "        out = self.linear(out)\n",
    "        return out"
   ]
  },
  {
   "cell_type": "code",
   "execution_count": null,
   "id": "G51u08pNsJAz",
   "metadata": {
    "colab": {
     "base_uri": "https://localhost:8080/",
     "height": 492
    },
    "executionInfo": {
     "elapsed": 25080,
     "status": "ok",
     "timestamp": 1699982816361,
     "user": {
      "displayName": "Nikita Matuskov",
      "userId": "13790330490192234090"
     },
     "user_tz": -180
    },
    "id": "G51u08pNsJAz",
    "outputId": "a822e8bf-cb14-479c-a8d1-9c1ae066f8e6"
   },
   "outputs": [
    {
     "name": "stdout",
     "output_type": "stream",
     "text": [
      "epoch=5, epoch_loss=26.251498222351074\n",
      "epoch=10, epoch_loss=25.20685875415802\n",
      "epoch=15, epoch_loss=24.54433524608612\n",
      "epoch=20, epoch_loss=24.023458123207092\n",
      "epoch=25, epoch_loss=23.700105786323547\n",
      "epoch=30, epoch_loss=23.302077531814575\n"
     ]
    },
    {
     "data": {
      "image/png": "[encoded data removed]",
      "text/plain": [
       "<Figure size 1200x400 with 1 Axes>"
      ]
     },
     "metadata": {},
     "output_type": "display_data"
    }
   ],
   "source": [
    "num_epochs = 30\n",
    "\n",
    "model = Net(input_size=len(vocab), embedding_size=100, hidden_size=50)\n",
    "criterion = nn.CrossEntropyLoss()\n",
    "optimizer = optim.Adam(model.parameters(), lr=0.01)\n",
    "\n",
    "train_losses_list = []\n",
    "\n",
    "for epoch in range(1, num_epochs + 1):\n",
    "    epoch_loss = 0.0\n",
    "\n",
    "    for x, y in loader:\n",
    "        output = model(x)\n",
    "        loss = criterion(output, y.view(-1))\n",
    "        loss.backward()\n",
    "        optimizer.step()\n",
    "        optimizer.zero_grad()\n",
    "        epoch_loss += loss.item()\n",
    "\n",
    "    train_losses_list.append(epoch_loss)\n",
    "\n",
    "    if (epoch) % 5 == 0:\n",
    "        print(f'{epoch=}, {epoch_loss=}')\n",
    "\n",
    "plt.figure(figsize=(12, 4))\n",
    "plt.plot(train_losses_list, label='Training Loss')\n",
    "plt.xlabel('Epoch')\n",
    "plt.ylabel('Loss')\n",
    "plt.legend()\n",
    "plt.grid();"
   ]
  },
  {
   "cell_type": "code",
   "execution_count": null,
   "id": "RGr_NlpcpVVB",
   "metadata": {
    "colab": {
     "base_uri": "https://localhost:8080/"
    },
    "executionInfo": {
     "elapsed": 309,
     "status": "ok",
     "timestamp": 1699995944937,
     "user": {
      "displayName": "Nikita Matuskov",
      "userId": "13790330490192234090"
     },
     "user_tz": -180
    },
    "id": "RGr_NlpcpVVB",
    "outputId": "4a223e44-51fd-479f-e993-8187f177ebeb"
   },
   "outputs": [
    {
     "name": "stdout",
     "output_type": "stream",
     "text": [
      "torch.Size([1280, 66])\n",
      "torch.Size([1280])\n"
     ]
    }
   ],
   "source": [
    "for x, y in loader:\n",
    "    output = model(x)\n",
    "    print(output.shape)\n",
    "    print(y.view(-1).shape)\n",
    "    break"
   ]
  },
  {
   "cell_type": "code",
   "execution_count": null,
   "id": "QTC4xfbTutP2",
   "metadata": {
    "id": "QTC4xfbTutP2"
   },
   "outputs": [],
   "source": [
    "def name_generator(model, max_length, vocab):\n",
    "\n",
    "    name = [sos_idx]\n",
    "\n",
    "    while True:\n",
    "        input_tensor = torch.tensor([[name[-1]]])\n",
    "\n",
    "        with torch.no_grad():\n",
    "            out = model(input_tensor)\n",
    "\n",
    "        probs = torch.softmax(out, dim=1)[0]\n",
    "        next_token = torch.multinomial(probs, 1).item()\n",
    "\n",
    "        if next_token not in [sos_idx, eos_idx, pad_idx] and len(name) < max_length:\n",
    "            name.append(next_token)\n",
    "        else:\n",
    "            break\n",
    "\n",
    "    generated_name = ''.join(vocab.lookup_tokens(name[1:])).capitalize()\n",
    "\n",
    "    return generated_name"
   ]
  },
  {
   "cell_type": "code",
   "execution_count": null,
   "id": "JKIKNZ7B1yBF",
   "metadata": {
    "colab": {
     "base_uri": "https://localhost:8080/"
    },
    "executionInfo": {
     "elapsed": 249,
     "status": "ok",
     "timestamp": 1699982461797,
     "user": {
      "displayName": "Nikita Matuskov",
      "userId": "13790330490192234090"
     },
     "user_tz": -180
    },
    "id": "JKIKNZ7B1yBF",
    "outputId": "91d9e42e-1c2c-440b-db52-81c56131308b"
   },
   "outputs": [
    {
     "name": "stdout",
     "output_type": "stream",
     "text": [
      "Bey\n",
      "Gorinane\n",
      "Шугоза\n",
      "Pame\n",
      "Линаририн\n"
     ]
    }
   ],
   "source": [
    "for i in range(5):\n",
    "    print(name_generator(model=model, max_length=10, vocab=vocab))"
   ]
  },
  {
   "cell_type": "markdown",
   "id": "5b720c14",
   "metadata": {
    "id": "5b720c14"
   },
   "source": [
    "<p class=\"task\" id=\"4\"></p>\n",
    "\n",
    "### 4\n",
    "Создайте и обучите модель для генерации имени питомца. Задача классификации ставится как предсказание следующего токена в каждом примере из пакета для каждого элемента последовательности (по прочитанной подстроке предсказывается следующий символ для данной строки). Каждые несколько эпох выводите примеры генерации имен при помощи текущего состояния модели. Игнорируйте токен `<PAD>` при расчете ошибки.\n",
    "\n",
    "Примерная схема реализации метода `forward`:\n",
    "```\n",
    "input_X: [batch_size x seq_len] -> nn.Embedding -> emb_X: [batch_size x seq_len x embedding_size]\n",
    "emb_X: [batch_size x seq_len x embedding_size] -> nn.RNN -> output: [batch_size x seq_len x hidden_size]\n",
    "output: [batch_size x seq_len x hidden_size] -> torch.Tensor.reshape -> output: [batch_size * seq_len x hidden_size]\n",
    "output: [batch_size * seq_len x hidden_size] -> nn.Linear -> output: [batch_size * seq_len x vocab_size]\n",
    "```\n",
    "\n",
    "- [ ] Проверено на семинаре"
   ]
  },
  {
   "cell_type": "code",
   "execution_count": null,
   "id": "3BcoTpbN3J4z",
   "metadata": {
    "colab": {
     "base_uri": "https://localhost:8080/"
    },
    "executionInfo": {
     "elapsed": 21653,
     "status": "ok",
     "timestamp": 1699983040234,
     "user": {
      "displayName": "Nikita Matuskov",
      "userId": "13790330490192234090"
     },
     "user_tz": -180
    },
    "id": "3BcoTpbN3J4z",
    "outputId": "51ceed2b-f918-45a5-8c45-141f029518e5"
   },
   "outputs": [
    {
     "name": "stdout",
     "output_type": "stream",
     "text": [
      "epoch=5 Oderixich\n",
      "epoch=10 Filidenwa\n",
      "epoch=15 Mipevanan\n",
      "epoch=20 Noy\n",
      "epoch=25 Ка\n",
      "epoch=30 Халинила\n"
     ]
    }
   ],
   "source": [
    "num_epochs = 30\n",
    "\n",
    "model = Net(input_size=len(vocab), embedding_size=100, hidden_size=50)\n",
    "criterion = nn.CrossEntropyLoss(ignore_index=pad_idx)\n",
    "optimizer = optim.Adam(model.parameters(), lr=0.01)\n",
    "\n",
    "train_losses_list = []\n",
    "\n",
    "for epoch in range(1, num_epochs + 1):\n",
    "    epoch_loss = 0.0\n",
    "\n",
    "    for x, y in loader:\n",
    "        output = model(x)\n",
    "        loss = criterion(output, y.view(-1))\n",
    "        loss.backward()\n",
    "        optimizer.step()\n",
    "        optimizer.zero_grad()\n",
    "        epoch_loss += loss.item()\n",
    "\n",
    "    train_losses_list.append(epoch_loss)\n",
    "\n",
    "    if (epoch) % 5 == 0:\n",
    "        print(f'{epoch=} {name_generator(model=model, max_length=10, vocab=vocab)}')"
   ]
  },
  {
   "cell_type": "markdown",
   "id": "18054f0a",
   "metadata": {
    "id": "18054f0a"
   },
   "source": [
    "<p class=\"task\" id=\"5\"></p>\n",
    "\n",
    "### 5\n",
    "Считайте файл `pets_ru_en.csv`, приведите имена питомцев к нижнем регистру. Создайте Vocab на основе загруженных данных (токен - __буква__). Добавьте в словарь специальные токены `<PAD>`, `<SOS>`, `<EOS>`, `<RU>`, `<EN>`. Выведите на экран количество токенов в полученном словаре.\n",
    "\n",
    "Модифицируйте датасет `PetsGenDataset` таким образом, чтобы в начало каждого примера добавлялся токен `<RU>`, если это имя питомца на русском, и `<EN>`, если имя на английском. Создайте объект `DataLoader` с размером батча 128 и включенным `shuffle`. Выведите на экран размер `x` и `y` из одного батча.\n",
    "\n",
    "- [ ] Проверено на семинаре"
   ]
  },
  {
   "cell_type": "code",
   "execution_count": null,
   "id": "4ZNHEvv94wLj",
   "metadata": {
    "colab": {
     "base_uri": "https://localhost:8080/",
     "height": 206
    },
    "executionInfo": {
     "elapsed": 383,
     "status": "ok",
     "timestamp": 1699987528100,
     "user": {
      "displayName": "Nikita Matuskov",
      "userId": "13790330490192234090"
     },
     "user_tz": -180
    },
    "id": "4ZNHEvv94wLj",
    "outputId": "02b022a8-734b-41a8-8de7-97625f8c51fa"
   },
   "outputs": [
    {
     "data": {
      "text/html": [
       "\n",
       "  <div id=\"df-e57b89d7-77d0-420e-8939-23c4f1f05ea9\" class=\"colab-df-container\">\n",
       "    <div>\n",
       "<style scoped>\n",
       "    .dataframe tbody tr th:only-of-type {\n",
       "        vertical-align: middle;\n",
       "    }\n",
       "\n",
       "    .dataframe tbody tr th {\n",
       "        vertical-align: top;\n",
       "    }\n",
       "\n",
       "    .dataframe thead th {\n",
       "        text-align: right;\n",
       "    }\n",
       "</style>\n",
       "<table border=\"1\" class=\"dataframe\">\n",
       "  <thead>\n",
       "    <tr style=\"text-align: right;\">\n",
       "      <th></th>\n",
       "      <th>имя</th>\n",
       "      <th>язык</th>\n",
       "    </tr>\n",
       "  </thead>\n",
       "  <tbody>\n",
       "    <tr>\n",
       "      <th>0</th>\n",
       "      <td>Acapella</td>\n",
       "      <td>en</td>\n",
       "    </tr>\n",
       "    <tr>\n",
       "      <th>1</th>\n",
       "      <td>Achilles</td>\n",
       "      <td>en</td>\n",
       "    </tr>\n",
       "    <tr>\n",
       "      <th>2</th>\n",
       "      <td>Adriana</td>\n",
       "      <td>en</td>\n",
       "    </tr>\n",
       "    <tr>\n",
       "      <th>3</th>\n",
       "      <td>Alpha</td>\n",
       "      <td>en</td>\n",
       "    </tr>\n",
       "    <tr>\n",
       "      <th>4</th>\n",
       "      <td>Alyssum</td>\n",
       "      <td>en</td>\n",
       "    </tr>\n",
       "  </tbody>\n",
       "</table>\n",
       "</div>\n",
       "    <div class=\"colab-df-buttons\">\n",
       "\n",
       "  <div class=\"colab-df-container\">\n",
       "    <button class=\"colab-df-convert\" onclick=\"convertToInteractive('df-e57b89d7-77d0-420e-8939-23c4f1f05ea9')\"\n",
       "            title=\"Convert this dataframe to an interactive table.\"\n",
       "            style=\"display:none;\">\n",
       "\n",
       "  <svg xmlns=\"http://www.w3.org/2000/svg\" height=\"24px\" viewBox=\"0 -960 960 960\">\n",
       "    <path d=\"M120-120v-720h720v720H120Zm60-500h600v-160H180v160Zm220 220h160v-160H400v160Zm0 220h160v-160H400v160ZM180-400h160v-160H180v160Zm440 0h160v-160H620v160ZM180-180h160v-160H180v160Zm440 0h160v-160H620v160Z\"/>\n",
       "  </svg>\n",
       "    </button>\n",
       "\n",
       "  <style>\n",
       "    .colab-df-container {\n",
       "      display:flex;\n",
       "      gap: 12px;\n",
       "    }\n",
       "\n",
       "    .colab-df-convert {\n",
       "      background-color: #E8F0FE;\n",
       "      border: none;\n",
       "      border-radius: 50%;\n",
       "      cursor: pointer;\n",
       "      display: none;\n",
       "      fill: #1967D2;\n",
       "      height: 32px;\n",
       "      padding: 0 0 0 0;\n",
       "      width: 32px;\n",
       "    }\n",
       "\n",
       "    .colab-df-convert:hover {\n",
       "      background-color: #E2EBFA;\n",
       "      box-shadow: 0px 1px 2px rgba(60, 64, 67, 0.3), 0px 1px 3px 1px rgba(60, 64, 67, 0.15);\n",
       "      fill: #174EA6;\n",
       "    }\n",
       "\n",
       "    .colab-df-buttons div {\n",
       "      margin-bottom: 4px;\n",
       "    }\n",
       "\n",
       "    [theme=dark] .colab-df-convert {\n",
       "      background-color: #3B4455;\n",
       "      fill: #D2E3FC;\n",
       "    }\n",
       "\n",
       "    [theme=dark] .colab-df-convert:hover {\n",
       "      background-color: #434B5C;\n",
       "      box-shadow: 0px 1px 3px 1px rgba(0, 0, 0, 0.15);\n",
       "      filter: drop-shadow(0px 1px 2px rgba(0, 0, 0, 0.3));\n",
       "      fill: #FFFFFF;\n",
       "    }\n",
       "  </style>\n",
       "\n",
       "    <script>\n",
       "      const buttonEl =\n",
       "        document.querySelector('#df-e57b89d7-77d0-420e-8939-23c4f1f05ea9 button.colab-df-convert');\n",
       "      buttonEl.style.display =\n",
       "        google.colab.kernel.accessAllowed ? 'block' : 'none';\n",
       "\n",
       "      async function convertToInteractive(key) {\n",
       "        const element = document.querySelector('#df-e57b89d7-77d0-420e-8939-23c4f1f05ea9');\n",
       "        const dataTable =\n",
       "          await google.colab.kernel.invokeFunction('convertToInteractive',\n",
       "                                                    [key], {});\n",
       "        if (!dataTable) return;\n",
       "\n",
       "        const docLinkHtml = 'Like what you see? Visit the ' +\n",
       "          '<a target=\"_blank\" href=https://colab.research.google.com/notebooks/data_table.ipynb>data table notebook</a>'\n",
       "          + ' to learn more about interactive tables.';\n",
       "        element.innerHTML = '';\n",
       "        dataTable['output_type'] = 'display_data';\n",
       "        await google.colab.output.renderOutput(dataTable, element);\n",
       "        const docLink = document.createElement('div');\n",
       "        docLink.innerHTML = docLinkHtml;\n",
       "        element.appendChild(docLink);\n",
       "      }\n",
       "    </script>\n",
       "  </div>\n",
       "\n",
       "\n",
       "<div id=\"df-e8255233-37c9-4d75-88cb-6c7cf65fc715\">\n",
       "  <button class=\"colab-df-quickchart\" onclick=\"quickchart('df-e8255233-37c9-4d75-88cb-6c7cf65fc715')\"\n",
       "            title=\"Suggest charts\"\n",
       "            style=\"display:none;\">\n",
       "\n",
       "<svg xmlns=\"http://www.w3.org/2000/svg\" height=\"24px\"viewBox=\"0 0 24 24\"\n",
       "     width=\"24px\">\n",
       "    <g>\n",
       "        <path d=\"M19 3H5c-1.1 0-2 .9-2 2v14c0 1.1.9 2 2 2h14c1.1 0 2-.9 2-2V5c0-1.1-.9-2-2-2zM9 17H7v-7h2v7zm4 0h-2V7h2v10zm4 0h-2v-4h2v4z\"/>\n",
       "    </g>\n",
       "</svg>\n",
       "  </button>\n",
       "\n",
       "<style>\n",
       "  .colab-df-quickchart {\n",
       "      --bg-color: #E8F0FE;\n",
       "      --fill-color: #1967D2;\n",
       "      --hover-bg-color: #E2EBFA;\n",
       "      --hover-fill-color: #174EA6;\n",
       "      --disabled-fill-color: #AAA;\n",
       "      --disabled-bg-color: #DDD;\n",
       "  }\n",
       "\n",
       "  [theme=dark] .colab-df-quickchart {\n",
       "      --bg-color: #3B4455;\n",
       "      --fill-color: #D2E3FC;\n",
       "      --hover-bg-color: #434B5C;\n",
       "      --hover-fill-color: #FFFFFF;\n",
       "      --disabled-bg-color: #3B4455;\n",
       "      --disabled-fill-color: #666;\n",
       "  }\n",
       "\n",
       "  .colab-df-quickchart {\n",
       "    background-color: var(--bg-color);\n",
       "    border: none;\n",
       "    border-radius: 50%;\n",
       "    cursor: pointer;\n",
       "    display: none;\n",
       "    fill: var(--fill-color);\n",
       "    height: 32px;\n",
       "    padding: 0;\n",
       "    width: 32px;\n",
       "  }\n",
       "\n",
       "  .colab-df-quickchart:hover {\n",
       "    background-color: var(--hover-bg-color);\n",
       "    box-shadow: 0 1px 2px rgba(60, 64, 67, 0.3), 0 1px 3px 1px rgba(60, 64, 67, 0.15);\n",
       "    fill: var(--button-hover-fill-color);\n",
       "  }\n",
       "\n",
       "  .colab-df-quickchart-complete:disabled,\n",
       "  .colab-df-quickchart-complete:disabled:hover {\n",
       "    background-color: var(--disabled-bg-color);\n",
       "    fill: var(--disabled-fill-color);\n",
       "    box-shadow: none;\n",
       "  }\n",
       "\n",
       "  .colab-df-spinner {\n",
       "    border: 2px solid var(--fill-color);\n",
       "    border-color: transparent;\n",
       "    border-bottom-color: var(--fill-color);\n",
       "    animation:\n",
       "      spin 1s steps(1) infinite;\n",
       "  }\n",
       "\n",
       "  @keyframes spin {\n",
       "    0% {\n",
       "      border-color: transparent;\n",
       "      border-bottom-color: var(--fill-color);\n",
       "      border-left-color: var(--fill-color);\n",
       "    }\n",
       "    20% {\n",
       "      border-color: transparent;\n",
       "      border-left-color: var(--fill-color);\n",
       "      border-top-color: var(--fill-color);\n",
       "    }\n",
       "    30% {\n",
       "      border-color: transparent;\n",
       "      border-left-color: var(--fill-color);\n",
       "      border-top-color: var(--fill-color);\n",
       "      border-right-color: var(--fill-color);\n",
       "    }\n",
       "    40% {\n",
       "      border-color: transparent;\n",
       "      border-right-color: var(--fill-color);\n",
       "      border-top-color: var(--fill-color);\n",
       "    }\n",
       "    60% {\n",
       "      border-color: transparent;\n",
       "      border-right-color: var(--fill-color);\n",
       "    }\n",
       "    80% {\n",
       "      border-color: transparent;\n",
       "      border-right-color: var(--fill-color);\n",
       "      border-bottom-color: var(--fill-color);\n",
       "    }\n",
       "    90% {\n",
       "      border-color: transparent;\n",
       "      border-bottom-color: var(--fill-color);\n",
       "    }\n",
       "  }\n",
       "</style>\n",
       "\n",
       "  <script>\n",
       "    async function quickchart(key) {\n",
       "      const quickchartButtonEl =\n",
       "        document.querySelector('#' + key + ' button');\n",
       "      quickchartButtonEl.disabled = true;  // To prevent multiple clicks.\n",
       "      quickchartButtonEl.classList.add('colab-df-spinner');\n",
       "      try {\n",
       "        const charts = await google.colab.kernel.invokeFunction(\n",
       "            'suggestCharts', [key], {});\n",
       "      } catch (error) {\n",
       "        console.error('Error during call to suggestCharts:', error);\n",
       "      }\n",
       "      quickchartButtonEl.classList.remove('colab-df-spinner');\n",
       "      quickchartButtonEl.classList.add('colab-df-quickchart-complete');\n",
       "    }\n",
       "    (() => {\n",
       "      let quickchartButtonEl =\n",
       "        document.querySelector('#df-e8255233-37c9-4d75-88cb-6c7cf65fc715 button');\n",
       "      quickchartButtonEl.style.display =\n",
       "        google.colab.kernel.accessAllowed ? 'block' : 'none';\n",
       "    })();\n",
       "  </script>\n",
       "</div>\n",
       "    </div>\n",
       "  </div>\n"
      ],
      "text/plain": [
       "        имя язык\n",
       "0  Acapella   en\n",
       "1  Achilles   en\n",
       "2   Adriana   en\n",
       "3     Alpha   en\n",
       "4   Alyssum   en"
      ]
     },
     "execution_count": 396,
     "metadata": {},
     "output_type": "execute_result"
    }
   ],
   "source": [
    "data = pd.read_csv(\"/content/drive/MyDrive/data/pets_ru_en.csv\")\n",
    "data.head()"
   ]
  },
  {
   "cell_type": "code",
   "execution_count": null,
   "id": "luq-BF6q4x8G",
   "metadata": {
    "colab": {
     "base_uri": "https://localhost:8080/"
    },
    "executionInfo": {
     "elapsed": 7,
     "status": "ok",
     "timestamp": 1699987528731,
     "user": {
      "displayName": "Nikita Matuskov",
      "userId": "13790330490192234090"
     },
     "user_tz": -180
    },
    "id": "luq-BF6q4x8G",
    "outputId": "cc100f8c-9a3e-41d3-c632-e713d39d7f66"
   },
   "outputs": [
    {
     "data": {
      "text/plain": [
       "(2894, 2)"
      ]
     },
     "execution_count": 397,
     "metadata": {},
     "output_type": "execute_result"
    }
   ],
   "source": [
    "data['имя'] = data['имя'].str.lower()\n",
    "data = data.drop_duplicates(subset=['имя'])\n",
    "data.shape"
   ]
  },
  {
   "cell_type": "code",
   "execution_count": null,
   "id": "sjEjhJZf4y-l",
   "metadata": {
    "id": "sjEjhJZf4y-l"
   },
   "outputs": [],
   "source": [
    "vocab = build_vocab_from_iterator(data['имя'].tolist(), specials=['<UNK>', '<PAD>', '<SOS>', '<EOS>', '<RU>', '<EN>'])\n",
    "vocab.set_default_index(0)"
   ]
  },
  {
   "cell_type": "code",
   "execution_count": null,
   "id": "fzdXwqIZ5AGP",
   "metadata": {
    "colab": {
     "base_uri": "https://localhost:8080/"
    },
    "executionInfo": {
     "elapsed": 9,
     "status": "ok",
     "timestamp": 1699987529450,
     "user": {
      "displayName": "Nikita Matuskov",
      "userId": "13790330490192234090"
     },
     "user_tz": -180
    },
    "id": "fzdXwqIZ5AGP",
    "outputId": "5dc56c7a-6947-4c81-817e-cca1d2569052"
   },
   "outputs": [
    {
     "data": {
      "text/plain": [
       "66"
      ]
     },
     "execution_count": 399,
     "metadata": {},
     "output_type": "execute_result"
    }
   ],
   "source": [
    "len(vocab)"
   ]
  },
  {
   "cell_type": "code",
   "execution_count": null,
   "id": "PDO6RFN4_gnc",
   "metadata": {
    "id": "PDO6RFN4_gnc"
   },
   "outputs": [],
   "source": [
    "# ИСПОЛЬЗУЕТСЯ В ДАЛЬНЕЙШЕМ, ОБРАТИТЕ ВНИМАНИЕ!!!\n",
    "sos_idx = vocab.lookup_indices(['<SOS>'])[0]\n",
    "eos_idx = vocab.lookup_indices(['<EOS>'])[0]\n",
    "pad_idx = vocab.lookup_indices(['<PAD>'])[0]\n",
    "ru_idx = vocab.lookup_indices(['<RU>'])[0]\n",
    "en_idx = vocab.lookup_indices(['<EN>'])[0]"
   ]
  },
  {
   "cell_type": "code",
   "execution_count": null,
   "id": "MSUcVInf9tQk",
   "metadata": {
    "id": "MSUcVInf9tQk"
   },
   "outputs": [],
   "source": [
    "class PetsGenDatasetV2(Dataset):\n",
    "    def __init__(self, dataframe, ru_transform, en_transform):\n",
    "        self.dataframe = dataframe\n",
    "        self.ru_transform = ru_transform\n",
    "        self.en_transform = en_transform\n",
    "\n",
    "    def __len__(self):\n",
    "        return len(self.dataframe)\n",
    "\n",
    "    def __getitem__(self, index):\n",
    "        names = self.dataframe.iloc[index]['имя']\n",
    "        languages = self.dataframe.iloc[index]['язык']\n",
    "\n",
    "        if isinstance(names, str):\n",
    "            names = [names]\n",
    "            languages = [languages]\n",
    "        else:\n",
    "            names = names.tolist()\n",
    "            languages = languages.tolist()\n",
    "\n",
    "        tokens_list = []\n",
    "        for i in range(len(names)):\n",
    "            if languages[i] == 'rus':\n",
    "                tokens = self.ru_transform([token for token in names[i]])\n",
    "            else:\n",
    "                tokens = self.en_transform([token for token in names[i]])\n",
    "\n",
    "            tokens_list.append((tokens[:-1], tokens[1:]))\n",
    "\n",
    "        if len(tokens_list) == 1:\n",
    "            return tokens_list[0]\n",
    "\n",
    "        return tokens_list"
   ]
  },
  {
   "cell_type": "code",
   "execution_count": null,
   "id": "xNBEiCD7_Mvq",
   "metadata": {
    "colab": {
     "base_uri": "https://localhost:8080/"
    },
    "executionInfo": {
     "elapsed": 7,
     "status": "ok",
     "timestamp": 1699987529450,
     "user": {
      "displayName": "Nikita Matuskov",
      "userId": "13790330490192234090"
     },
     "user_tz": -180
    },
    "id": "xNBEiCD7_Mvq",
    "outputId": "edf48005-7bee-43e0-8a6e-b0fb887ef8c5"
   },
   "outputs": [
    {
     "name": "stdout",
     "output_type": "stream",
     "text": [
      "(tensor([ 2,  5,  9, 27,  9, 30,  8, 20, 20,  9]), tensor([ 5,  9, 27,  9, 30,  8, 20, 20,  9,  3])) \n",
      "\n",
      "[(tensor([ 2,  5,  9, 27,  9, 30,  8, 20, 20,  9]), tensor([ 5,  9, 27,  9, 30,  8, 20, 20,  9,  3])), (tensor([ 2,  5,  9, 27, 34, 17, 20, 20,  8, 21]), tensor([ 5,  9, 27, 34, 17, 20, 20,  8, 21,  3]))]\n"
     ]
    }
   ],
   "source": [
    "ru = T.Sequential(\n",
    "    T.VocabTransform(vocab),\n",
    "    T.Truncate(max_seq_len=8),\n",
    "    T.AddToken(ru_idx, begin=True),\n",
    "    T.AddToken(sos_idx, begin=True),\n",
    "    T.AddToken(eos_idx, begin=False),\n",
    "    T.ToTensor(),\n",
    "    T.PadTransform(max_length=11, pad_value=pad_idx),\n",
    ")\n",
    "\n",
    "en = T.Sequential(\n",
    "    T.VocabTransform(vocab),\n",
    "    T.Truncate(max_seq_len=8),\n",
    "    T.AddToken(en_idx, begin=True),\n",
    "    T.AddToken(sos_idx, begin=True),\n",
    "    T.AddToken(eos_idx, begin=False),\n",
    "    T.ToTensor(),\n",
    "    T.PadTransform(max_length=11, pad_value=pad_idx),\n",
    ")\n",
    "\n",
    "petsdataset = PetsGenDatasetV2(data, ru_transform=ru, en_transform=en)\n",
    "\n",
    "print(petsdataset[0], '\\n')\n",
    "print(petsdataset[:2])"
   ]
  },
  {
   "cell_type": "code",
   "execution_count": null,
   "id": "Bjr5tfbEAavs",
   "metadata": {
    "colab": {
     "base_uri": "https://localhost:8080/"
    },
    "executionInfo": {
     "elapsed": 5,
     "status": "ok",
     "timestamp": 1699987529451,
     "user": {
      "displayName": "Nikita Matuskov",
      "userId": "13790330490192234090"
     },
     "user_tz": -180
    },
    "id": "Bjr5tfbEAavs",
    "outputId": "6ccf0b30-95b1-4fb4-ce5a-99ecf41de200"
   },
   "outputs": [
    {
     "name": "stdout",
     "output_type": "stream",
     "text": [
      "torch.Size([128, 10]) torch.Size([128, 10])\n"
     ]
    }
   ],
   "source": [
    "loader = DataLoader(petsdataset, batch_size=128, shuffle=True)\n",
    "\n",
    "for x, y in loader:\n",
    "  print(x.shape, y.shape)\n",
    "  break"
   ]
  },
  {
   "cell_type": "markdown",
   "id": "a8f2ded6",
   "metadata": {
    "id": "a8f2ded6"
   },
   "source": [
    "<p class=\"task\" id=\"6\"></p>\n",
    "\n",
    "### 6\n",
    "Модифицируйте функцию для генерации имени, добавив возможность указать первый токен - `<RU>` или `<EN>`. Создайте и обучите модель для генерации имени питомца с указанием языка. Каждые несколько эпох выводите примеры генерации русскоязычных и англоязычных имен при помощи текущего состояния модели . Игнорируйте токен `<PAD>` при расчете ошибки.\n",
    "\n",
    "- [ ] Проверено на семинаре\n"
   ]
  },
  {
   "cell_type": "code",
   "execution_count": null,
   "id": "n7gXo1ynBLPn",
   "metadata": {
    "id": "n7gXo1ynBLPn"
   },
   "outputs": [],
   "source": [
    "def name_generator(model, max_length, vocab, language):\n",
    "\n",
    "    name = [vocab.lookup_indices([language])[0]]\n",
    "\n",
    "    while True:\n",
    "        input_tensor = torch.tensor([[name[-1]]])\n",
    "\n",
    "        with torch.no_grad():\n",
    "            out = model(input_tensor)\n",
    "\n",
    "        probs = torch.softmax(out, dim=1)[0]\n",
    "        next_token = torch.multinomial(probs, 1).item()\n",
    "\n",
    "        if next_token not in [sos_idx, eos_idx, pad_idx, en_idx, ru_idx] and len(name) < max_length:\n",
    "            name.append(next_token)\n",
    "        else:\n",
    "            break\n",
    "\n",
    "    generated_name = ''.join(vocab.lookup_tokens(name[1:])).capitalize()\n",
    "\n",
    "    return generated_name"
   ]
  },
  {
   "cell_type": "code",
   "execution_count": null,
   "id": "MHdRbC1pRapb",
   "metadata": {
    "colab": {
     "base_uri": "https://localhost:8080/"
    },
    "executionInfo": {
     "elapsed": 117405,
     "status": "ok",
     "timestamp": 1699989960874,
     "user": {
      "displayName": "Nikita Matuskov",
      "userId": "13790330490192234090"
     },
     "user_tz": -180
    },
    "id": "MHdRbC1pRapb",
    "outputId": "fc1653a8-abfd-4a51-e5f2-dc5ca51fbde7"
   },
   "outputs": [
    {
     "name": "stdout",
     "output_type": "stream",
     "text": [
      "epoch=10 epoch_loss=49.29436802864075 RU:Чиязанр-л EN:Bi\n",
      "epoch=20 epoch_loss=46.56514871120453 RU:Энy EN:A\n",
      "epoch=30 epoch_loss=45.469998478889465 RU:Белька EN:Bo\n",
      "epoch=40 epoch_loss=44.71468961238861 RU:Синнаша EN:Panaра\n",
      "epoch=50 epoch_loss=44.11175334453583 RU:На EN:Motonidra\n",
      "epoch=60 epoch_loss=43.592082500457764 RU:Херка EN:Ka\n",
      "epoch=70 epoch_loss=43.141414403915405 RU:Мигга юга EN:Warorinod\n",
      "epoch=80 epoch_loss=42.67272984981537 RU:Улелька EN:Pinittith\n",
      "epoch=90 epoch_loss=42.3899062871933 RU:Жеся EN:Glaда\n",
      "epoch=100 epoch_loss=42.04750990867615 RU:Фькани EN:Bakhe\n"
     ]
    }
   ],
   "source": [
    "num_epochs = 100\n",
    "\n",
    "model = Net(input_size=len(vocab), embedding_size=500, hidden_size=50)\n",
    "criterion = nn.CrossEntropyLoss(ignore_index=pad_idx)\n",
    "optimizer = optim.Adam(model.parameters(), lr=0.001)\n",
    "\n",
    "train_losses_list = []\n",
    "\n",
    "for epoch in range(1, num_epochs + 1):\n",
    "    epoch_loss = 0.0\n",
    "\n",
    "    for x, y in loader:\n",
    "        output = model(x)\n",
    "        loss = criterion(output, y.view(-1))\n",
    "        loss.backward()\n",
    "        optimizer.step()\n",
    "        optimizer.zero_grad()\n",
    "        epoch_loss += loss.item()\n",
    "\n",
    "    train_losses_list.append(epoch_loss)\n",
    "\n",
    "    if (epoch) % 10 == 0:\n",
    "        print(f\"{epoch=} {epoch_loss=} RU:{name_generator(model=model, max_length=10, vocab=vocab, language='<RU>')} EN:{name_generator(model=model, max_length=10, vocab=vocab, language='<EN>')}\")"
   ]
  },
  {
   "cell_type": "markdown",
   "id": "66caa919",
   "metadata": {
    "id": "66caa919"
   },
   "source": [
    "## Обратная связь\n",
    "- [x] Хочу получить обратную связь по решению"
   ]
  }
 ],
 "metadata": {
  "colab": {
   "provenance": [
    {
     "file_id": "1RTYs5dplr-jCr-WLm0yx4cz2CjCr5zFc",
     "timestamp": 1699430011173
    }
   ],
   "toc_visible": true
  },
  "kernelspec": {
   "display_name": "Python 3 (ipykernel)",
   "language": "python",
   "name": "python3"
  },
  "language_info": {
   "codemirror_mode": {
    "name": "ipython",
    "version": 3
   },
   "file_extension": ".py",
   "mimetype": "text/x-python",
   "name": "python",
   "nbconvert_exporter": "python",
   "pygments_lexer": "ipython3",
   "version": "3.10.9"
  }
 },
 "nbformat": 4,
 "nbformat_minor": 5
}
