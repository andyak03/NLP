{
 "cells": [
  {
   "cell_type": "markdown",
   "id": "2755bb7e-6c88-48c8-9805-ea3cd0b6e3be",
   "metadata": {},
   "source": [
    "Задание 6. Используя трансформеры сделать генерацию русскоязычного текста. \n",
    "\n",
    "Дообучить трансформер тестами Достоевского и повторить генерацию. Сделать выводы."
   ]
  },
  {
   "cell_type": "code",
   "execution_count": 1,
   "id": "8fd9eb66-9617-4e30-9a04-f31e311b1f26",
   "metadata": {},
   "outputs": [
    {
     "name": "stderr",
     "output_type": "stream",
     "text": [
      "2023-12-31 23:07:27.121388: E tensorflow/compiler/xla/stream_executor/cuda/cuda_dnn.cc:9342] Unable to register cuDNN factory: Attempting to register factory for plugin cuDNN when one has already been registered\n",
      "2023-12-31 23:07:27.121428: E tensorflow/compiler/xla/stream_executor/cuda/cuda_fft.cc:609] Unable to register cuFFT factory: Attempting to register factory for plugin cuFFT when one has already been registered\n",
      "2023-12-31 23:07:27.121467: E tensorflow/compiler/xla/stream_executor/cuda/cuda_blas.cc:1518] Unable to register cuBLAS factory: Attempting to register factory for plugin cuBLAS when one has already been registered\n",
      "2023-12-31 23:07:27.128204: I tensorflow/core/platform/cpu_feature_guard.cc:182] This TensorFlow binary is optimized to use available CPU instructions in performance-critical operations.\n",
      "To enable the following instructions: AVX2 FMA, in other operations, rebuild TensorFlow with the appropriate compiler flags.\n"
     ]
    },
    {
     "name": "stdin",
     "output_type": "stream",
     "text": [
      "Введите строку:  Я люблю хинкали и кавказскую еду\n"
     ]
    },
    {
     "name": "stdout",
     "output_type": "stream",
     "text": [
      "Я люблю хинкали и кавказскую еду.  У меня есть к ним рецепт.  Хочу приготовить хачапури.  Если вы хотите, я вам его приготовлю.  Приготовьте хачапури в мультиварке, и готовьте с нами, вкусно и полезно. \n",
      " Вот и я хочу приготовить хачапури в мультиварке.  Я хочу приготовить хачапури в мультиварке и в мультиварке по оригинальному рецепту.  Я очень люблю хачапури.  А у меня есть к ним рецепт.  Хочу приготовить хачапури в мультиварке. \n",
      " Люблю хачапури, у меня есть рецепт.  Мне очень нравится.  Хочу приготовить хачапури в мультиварке.  У меня есть к ним рецепт.  Хочу приготовить хачапури в мультиварке. \n",
      " Хочу приготовить хачапури в мультиварке.  У меня есть к ним рецепт.  Хочу приготовить хачапури в мультиварке.  У меня есть к ним рецепт.  Хочу приготовить хачапури в мультиварке. \n",
      " Хочу приготовить хачапури в мультиварке.  У меня есть к ним рецепт.  Хочу приготовить хачапури в мультиварке.  У меня есть к ним рецепт.  Хочу приготовить хачапури в мультиварке. \n",
      " Хочу приготовить хачапури в мультиварке.  У меня есть к ним рецепт.  Хочу приготовить хачапури в мультиварке.  У меня есть к ним рецепт.  Хочу приготовить хачапури в мультиварке. \n",
      " Хочу приготовить хачапури в мультиварке.  У меня есть к ним рецепт.  Хочу приготовить хачапури в мультиварке.  У меня есть к ним рецепт.  Хочу приготовить хачапури в мультиварке. \n",
      " Хочу приготовить хачапури в мультиварке.  У меня есть к ним рецепт.  Хочу приготовить хачапури в мультиварке.  У меня есть к ним рецепт.  Хочу приготовить хачапури в мультиварке. \n",
      " Хочу приготовить хачапури в мультиварке.  У меня есть к ним рецепт.  Хочу приготовить хачапури в мультиварке.  У меня есть к ним рецепт.  Хочу приготовить хачапури в мультиварке. \n",
      " Хочу приготовить хачапури в мультиварке.  У меня есть к ним рецепт.  Хочу приготовить ха\n"
     ]
    }
   ],
   "source": [
    "from torch.utils.data import Dataset, DataLoader, TensorDataset\n",
    "import torch\n",
    "from transformers import GPT2LMHeadModel, GPT2Tokenizer, TextDataset, DataCollatorForLanguageModeling, TrainingArguments, Trainer\n",
    "\n",
    "device = torch.device(\"cuda\" if torch.cuda.is_available() else \"cpu\")\n",
    "\n",
    "tokenizer = GPT2Tokenizer.from_pretrained(\"ai-forever/rugpt3small_based_on_gpt2\")\n",
    "model = GPT2LMHeadModel.from_pretrained(\"ai-forever/rugpt3small_based_on_gpt2\").to(device)\n",
    "\n",
    "text_to_generate = input(\"Введите строку: \")\n",
    "\n",
    "input_ids = tokenizer.encode(text_to_generate, return_tensors='pt').to(device)\n",
    "\n",
    "output = model.generate(input_ids, max_length=512, num_return_sequences=1, temperature=0.7, do_sample=True)\n",
    "\n",
    "generated_text = tokenizer.decode(output[0], skip_special_tokens=True)\n",
    "\n",
    "print(generated_text)"
   ]
  },
  {
   "cell_type": "code",
   "execution_count": 1,
   "id": "8d35c73f-cc5c-42b7-8f4c-e012d32f92b2",
   "metadata": {},
   "outputs": [
    {
     "name": "stderr",
     "output_type": "stream",
     "text": [
      "2023-12-31 23:26:44.175272: E tensorflow/compiler/xla/stream_executor/cuda/cuda_dnn.cc:9342] Unable to register cuDNN factory: Attempting to register factory for plugin cuDNN when one has already been registered\n",
      "2023-12-31 23:26:44.175313: E tensorflow/compiler/xla/stream_executor/cuda/cuda_fft.cc:609] Unable to register cuFFT factory: Attempting to register factory for plugin cuFFT when one has already been registered\n",
      "2023-12-31 23:26:44.175351: E tensorflow/compiler/xla/stream_executor/cuda/cuda_blas.cc:1518] Unable to register cuBLAS factory: Attempting to register factory for plugin cuBLAS when one has already been registered\n",
      "2023-12-31 23:26:44.181979: I tensorflow/core/platform/cpu_feature_guard.cc:182] This TensorFlow binary is optimized to use available CPU instructions in performance-critical operations.\n",
      "To enable the following instructions: AVX2 FMA, in other operations, rebuild TensorFlow with the appropriate compiler flags.\n",
      "/home/qtr/anaconda3/envs/rapids-23.12/lib/python3.9/site-packages/transformers/data/datasets/language_modeling.py:53: FutureWarning: This dataset will be removed from the library soon, preprocessing should be handled with the 🤗 Datasets library. You can have a look at this example script for pointers: https://github.com/huggingface/transformers/blob/main/examples/pytorch/language-modeling/run_mlm.py\n",
      "  warnings.warn(\n"
     ]
    },
    {
     "data": {
      "text/html": [
       "\n",
       "    <div>\n",
       "      \n",
       "      <progress value='549' max='549' style='width:300px; height:20px; vertical-align: middle;'></progress>\n",
       "      [549/549 03:12, Epoch 3/3]\n",
       "    </div>\n",
       "    <table border=\"1\" class=\"dataframe\">\n",
       "  <thead>\n",
       " <tr style=\"text-align: left;\">\n",
       "      <th>Step</th>\n",
       "      <th>Training Loss</th>\n",
       "    </tr>\n",
       "  </thead>\n",
       "  <tbody>\n",
       "    <tr>\n",
       "      <td>500</td>\n",
       "      <td>3.384600</td>\n",
       "    </tr>\n",
       "  </tbody>\n",
       "</table><p>"
      ],
      "text/plain": [
       "<IPython.core.display.HTML object>"
      ]
     },
     "metadata": {},
     "output_type": "display_data"
    },
    {
     "data": {
      "text/plain": [
       "TrainOutput(global_step=549, training_loss=3.363464661200407, metrics={'train_runtime': 192.491, 'train_samples_per_second': 45.524, 'train_steps_per_second': 2.852, 'total_flos': 572425519104000.0, 'train_loss': 3.363464661200407, 'epoch': 3.0})"
      ]
     },
     "execution_count": 1,
     "metadata": {},
     "output_type": "execute_result"
    }
   ],
   "source": [
    "from torch.utils.data import Dataset, DataLoader, TensorDataset\n",
    "import torch\n",
    "from transformers import GPT2LMHeadModel, GPT2Tokenizer, TextDataset, DataCollatorForLanguageModeling, TrainingArguments, Trainer\n",
    "device = torch.device(\"cuda\" if torch.cuda.is_available() else \"cpu\")\n",
    "tokenizer = GPT2Tokenizer.from_pretrained(\"ai-forever/rugpt3small_based_on_gpt2\")\n",
    "model = GPT2LMHeadModel.from_pretrained(\"ai-forever/rugpt3small_based_on_gpt2\")\n",
    "model.to(device)\n",
    "\n",
    "file_path = \"dostoevskysmall.txt\"\n",
    "file_path2 =file_path[:70000]\n",
    "\n",
    "dataset = TextDataset(\n",
    "    tokenizer=tokenizer,\n",
    "    file_path=file_path2,\n",
    "    block_size=128,\n",
    ")\n",
    "\n",
    "data_collator = DataCollatorForLanguageModeling(tokenizer=tokenizer, mlm=False)\n",
    "\n",
    "training_args = TrainingArguments(\n",
    "    output_dir='./results', \n",
    "    overwrite_output_dir=True,\n",
    "    num_train_epochs=3,\n",
    "    per_device_train_batch_size=16,\n",
    "    save_steps=1000,\n",
    "    save_total_limit=2,\n",
    "    logging_steps=500,\n",
    "    prediction_loss_only=True,\n",
    ")\n",
    "\n",
    "trainer = Trainer(\n",
    "    model=model,\n",
    "    args=training_args,\n",
    "    data_collator=data_collator,\n",
    "    train_dataset=dataset,\n",
    ")\n",
    "\n",
    "trainer.train()"
   ]
  },
  {
   "cell_type": "code",
   "execution_count": 2,
   "id": "7c3a16de-9b6f-4fcc-89f4-81938f4c46c9",
   "metadata": {},
   "outputs": [
    {
     "name": "stdout",
     "output_type": "stream",
     "text": [
      "Дообученная модель ru gpt3 small on GPT-2 сохранена в ./fine_tuned_gpt2\n"
     ]
    }
   ],
   "source": [
    "output_model_dir = \"./fine_tuned_gpt2\"  \n",
    "\n",
    "import os\n",
    "if not os.path.exists(output_model_dir):\n",
    "    os.makedirs(output_model_dir)\n",
    "\n",
    "model.save_pretrained(output_model_dir)\n",
    "tokenizer.save_pretrained(output_model_dir)\n",
    "\n",
    "print(\"Дообученная модель ru gpt3 small on GPT-2 сохранена в\", output_model_dir)"
   ]
  },
  {
   "cell_type": "markdown",
   "id": "082f683e-3d9f-4839-833f-575663687a90",
   "metadata": {},
   "source": [
    "#тест дообученной модели"
   ]
  },
  {
   "cell_type": "code",
   "execution_count": 3,
   "id": "edc90cc0-1179-419b-a1fb-70ec8e774e64",
   "metadata": {},
   "outputs": [
    {
     "name": "stdin",
     "output_type": "stream",
     "text": [
      "Введите строку:  Я люблю хинкали и кавказскую еду\n"
     ]
    },
    {
     "name": "stdout",
     "output_type": "stream",
     "text": [
      "Я люблю хинкали и кавказскую еду, — сказала она, — но я не умею подавать. Не понимаю я, как можно так быстро, с такой быстротой, так ловко, быстро. Я хочу быть в состоянии, чтобы завтра быть в состоянии. Я хочу, чтобы завтра было в состоянии. Я хочу, чтобы завтра было в состоянии. Я хочу, чтобы послезавтра было в состоянии. Я хочу, чтобы завтра было в состоянии. Я хочу, чтобы завтра было в состоянии. Я хочу, чтобы завтра было в состоянии. Я хочу сделать это завтра. Я люблю хинкали. Я люблю хинкали. Я люблю хинкали. Я люблю хинкали. Я люблю хинкали. Я люблю хинкали. Я люблю хинкали. Я люблю хинкали. Я люблю хинкали. Я люблю хинкали. Я люблю хинкали. Я люблю хинкали. Я люблю хинкали. Я люблю хинкали. Я люблю хинкали. Я люблю хинкали. Я люблю хинкали. Я люблю хинкали. Я люблю хинкали. Я люблю хинкали. Я люблю хинкали. Я люблю хинкали. Я люблю хинкали. Я люблю хинкали. Я люблю хинкали. Я люблю хинкали. Я люблю хинкали. Я люблю хинкали. Я люблю хинкали. Я люблю хинкали. Я люблю хинкали. Я люблю хинкали. Я люблю хинкали. Я люблю хинкали. Я люблю хинкали. Я люблю хинкали. Я люблю хинкали. Я люблю хинкали. Я люблю хинкали. Я люблю хинкали. Я люблю хинкали. Я люблю хинкали. Я люблю хинкали. Я люблю хинкали. Я люблю хинкали. Я люблю хинкали. Я люблю хинкали. Я люблю хинкали. Я люблю хинкали. Я люблю хинкали. Я люблю хинкали. Я люблю хинкали. Я люблю хинкали. Я люблю хинкали. Я люблю хинкали. Я люблю хинкали. Я люблю хинкали. Я люблю хинкали. Я люблю хинкали. Я люблю хинкали. Я люблю хинкали. Я люблю хинкали. Я люблю хинкали. Я люблю хинкали. Я люблю хинкали. Я люблю хинкали. Я люблю х\n"
     ]
    }
   ],
   "source": [
    "from torch.utils.data import Dataset, DataLoader, TensorDataset\n",
    "import torch\n",
    "from transformers import GPT2LMHeadModel, GPT2Tokenizer, TextDataset, DataCollatorForLanguageModeling, TrainingArguments, Trainer\n",
    "\n",
    "device = torch.device(\"cuda\" if torch.cuda.is_available() else \"cpu\")\n",
    "\n",
    "model = GPT2LMHeadModel.from_pretrained(\"./fine_tuned_gpt2\").to(device)\n",
    "tokenizer = GPT2Tokenizer.from_pretrained(\"./fine_tuned_gpt2\")\n",
    "\n",
    "text_to_generate = input(\"Введите строку: \")\n",
    "\n",
    "input_ids = tokenizer.encode(text_to_generate, return_tensors='pt').to(device)\n",
    "\n",
    "output = model.generate(input_ids, max_length=512, num_return_sequences=1, temperature=0.7, do_sample=True)\n",
    "\n",
    "generated_text = tokenizer.decode(output[0], skip_special_tokens=True)\n",
    "\n",
    "print(generated_text)"
   ]
  },
  {
   "cell_type": "code",
   "execution_count": null,
   "id": "612c9e4f-0794-4084-b9f9-935500087ed3",
   "metadata": {},
   "outputs": [],
   "source": []
  }
 ],
 "metadata": {
  "kernelspec": {
   "display_name": "Python 3 (ipykernel)",
   "language": "python",
   "name": "python3"
  },
  "language_info": {
   "codemirror_mode": {
    "name": "ipython",
    "version": 3
   },
   "file_extension": ".py",
   "mimetype": "text/x-python",
   "name": "python",
   "nbconvert_exporter": "python",
   "pygments_lexer": "ipython3",
   "version": "3.9.18"
  }
 },
 "nbformat": 4,
 "nbformat_minor": 5
}
