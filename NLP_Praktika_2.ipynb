{
 "cells": [
  {
   "cell_type": "markdown",
   "id": "70aabef6-f4ff-4e96-b9ff-ab4a2a244da4",
   "metadata": {},
   "source": [
    "Задание 2. На примере задачи классификации текстов определить насколько предобработка текста (стемминг, лемматизация, стоп-слова и т.д.) влияет на качество обучения модели. Сделать выводы.  \n",
    "\n",
    "Датасет:\n",
    "\n",
    "from sklearn.datasets import fetch_20newsgroups\n",
    "\n",
    "newsgroups_train = fetch_20newsgroups(subset='train')\n",
    "\n",
    "Темы: alt.atheism, misc.forsale, soc.religion.christian, talk.politics.mideast\n",
    "\n",
    "Алгоритм МО: логистическая регрессия"
   ]
  },
  {
   "cell_type": "code",
   "execution_count": 2,
   "id": "f6af6426-0e04-4f02-9925-c46402f8a241",
   "metadata": {},
   "outputs": [
    {
     "name": "stderr",
     "output_type": "stream",
     "text": [
      "[nltk_data] Downloading package punkt to /home/qtr/nltk_data...\n",
      "[nltk_data]   Package punkt is already up-to-date!\n",
      "[nltk_data] Downloading package stopwords to /home/qtr/nltk_data...\n",
      "[nltk_data]   Package stopwords is already up-to-date!\n"
     ]
    },
    {
     "name": "stdout",
     "output_type": "stream",
     "text": [
      "Отчет о классификации с предобработкой:\n",
      "                         precision    recall  f1-score   support\n",
      "\n",
      "           alt.atheism       0.90      0.82      0.86       319\n",
      "          misc.forsale       0.94      0.99      0.97       390\n",
      "soc.religion.christian       0.88      0.96      0.92       398\n",
      " talk.politics.mideast       0.98      0.90      0.94       376\n",
      "\n",
      "              accuracy                           0.92      1483\n",
      "             macro avg       0.93      0.92      0.92      1483\n",
      "          weighted avg       0.93      0.92      0.92      1483\n",
      "\n",
      "Отчет о классификации без предобработки:\n",
      "                         precision    recall  f1-score   support\n",
      "\n",
      "           alt.atheism       0.89      0.84      0.87       319\n",
      "          misc.forsale       0.95      0.99      0.97       390\n",
      "soc.religion.christian       0.89      0.97      0.93       398\n",
      " talk.politics.mideast       0.97      0.88      0.92       376\n",
      "\n",
      "              accuracy                           0.93      1483\n",
      "             macro avg       0.93      0.92      0.92      1483\n",
      "          weighted avg       0.93      0.93      0.93      1483\n",
      "\n"
     ]
    }
   ],
   "source": [
    "from sklearn.datasets import fetch_20newsgroups\n",
    "from sklearn.feature_extraction.text import CountVectorizer\n",
    "from sklearn.linear_model import LogisticRegression\n",
    "from sklearn.metrics import classification_report\n",
    "from nltk.stem import SnowballStemmer\n",
    "from nltk.tokenize import word_tokenize\n",
    "from nltk.corpus import stopwords\n",
    "import re\n",
    "import nltk\n",
    "\n",
    "nltk.download('punkt')\n",
    "nltk.download('stopwords')\n",
    "\n",
    "def preprocess_text(text, use_stemming=True, use_stopwords=True):\n",
    "    text = re.sub(\"[^a-zA-Z]\", \" \", text.lower())\n",
    "    \n",
    "    words = word_tokenize(text)\n",
    "\n",
    "    if use_stopwords:\n",
    "        stop_words = set(stopwords.words('english'))\n",
    "        words = [word for word in words if word not in stop_words]\n",
    "\n",
    "    if use_stemming:\n",
    "        stemmer = SnowballStemmer('english')\n",
    "        words = [stemmer.stem(word) for word in words]\n",
    "\n",
    "    return ' '.join(words)\n",
    "\n",
    "categories = ['alt.atheism', 'misc.forsale', 'soc.religion.christian', 'talk.politics.mideast']\n",
    "newsgroups_train = fetch_20newsgroups(subset='train', categories=categories)\n",
    "newsgroups_test = fetch_20newsgroups(subset='test', categories=categories)\n",
    "\n",
    "texts_preprocessed = [preprocess_text(text) for text in newsgroups_train.data]\n",
    "\n",
    "vectorizer_preprocessed = CountVectorizer()\n",
    "X_train_preprocessed = vectorizer_preprocessed.fit_transform(texts_preprocessed)\n",
    "y_train = newsgroups_train.target\n",
    "\n",
    "model_preprocessed = LogisticRegression(max_iter=5000)\n",
    "model_preprocessed.fit(X_train_preprocessed, y_train)\n",
    "\n",
    "vectorizer_raw = CountVectorizer()\n",
    "X_train_raw = vectorizer_raw.fit_transform(newsgroups_train.data)\n",
    "\n",
    "model_raw = LogisticRegression(max_iter=5000)\n",
    "model_raw.fit(X_train_raw, y_train)\n",
    "\n",
    "X_test_preprocessed = vectorizer_preprocessed.transform([preprocess_text(text) for text in newsgroups_test.data])\n",
    "X_test_raw = vectorizer_raw.transform(newsgroups_test.data)\n",
    "y_test = newsgroups_test.target\n",
    "\n",
    "report_preprocessed = classification_report(y_test, model_preprocessed.predict(X_test_preprocessed), target_names=newsgroups_test.target_names)\n",
    "report_raw = classification_report(y_test, model_raw.predict(X_test_raw), target_names=newsgroups_test.target_names)\n",
    "\n",
    "print(\"Отчет о классификации с предобработкой:\\n\", report_preprocessed)\n",
    "print(\"Отчет о классификации без предобработки:\\n\", report_raw)\n"
   ]
  },
  {
   "cell_type": "markdown",
   "id": "10b94228-c67a-438b-bd7e-eb2ea845450a",
   "metadata": {},
   "source": [
    "# Вывод\n",
    "\n",
    "конечно, с текст предобработкой лучше, но для нашего случая особо сильной разницы нет"
   ]
  },
  {
   "cell_type": "code",
   "execution_count": null,
   "id": "dfd65078-ba03-4f22-9feb-3e967fcf4f7c",
   "metadata": {},
   "outputs": [],
   "source": []
  }
 ],
 "metadata": {
  "kernelspec": {
   "display_name": "Python 3 (ipykernel)",
   "language": "python",
   "name": "python3"
  },
  "language_info": {
   "codemirror_mode": {
    "name": "ipython",
    "version": 3
   },
   "file_extension": ".py",
   "mimetype": "text/x-python",
   "name": "python",
   "nbconvert_exporter": "python",
   "pygments_lexer": "ipython3",
   "version": "3.9.18"
  }
 },
 "nbformat": 4,
 "nbformat_minor": 5
}
