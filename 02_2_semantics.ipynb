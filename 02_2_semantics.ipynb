{
  "cells": [
    {
      "cell_type": "markdown",
      "id": "334530cd",
      "metadata": {
        "id": "334530cd"
      },
      "source": [
        "# Компьютерная семантика\n",
        "\n",
        "__Автор задач: Блохин Н.В. (NVBlokhin@fa.ru)__\n",
        "\n",
        "Материалы:\n",
        "* https://www.nltk.org/howto/wordnet.html\n",
        "* https://ruwordnet.ru/ru\n",
        "* https://habr.com/ru/companies/unistar_digital/articles/687148/\n",
        "* https://www.scaler.com/topics/nlp/wordnet-in-nlp/"
      ]
    },
    {
      "cell_type": "markdown",
      "id": "afcdb9cf",
      "metadata": {
        "id": "afcdb9cf"
      },
      "source": [
        "## Задачи для совместного разбора"
      ]
    },
    {
      "cell_type": "markdown",
      "id": "c05553c9",
      "metadata": {
        "id": "c05553c9"
      },
      "source": [
        "1\\. Дано описание классов `Sence` и `Synset`. Создайте объект `Synset` на основе файлов из `data/rwn`."
      ]
    },
    {
      "cell_type": "code",
      "execution_count": null,
      "id": "5b1c62b1",
      "metadata": {
        "id": "5b1c62b1"
      },
      "outputs": [],
      "source": [
        "from dataclasses import dataclass, field\n",
        "\n",
        "@dataclass\n",
        "class Sense:\n",
        "    id: str\n",
        "    name: str\n",
        "    lemma: str\n",
        "    main_word: str\n",
        "    synt_type: str\n",
        "    poses: str\n",
        "    synset_id: str\n",
        "    meaning: str\n",
        "\n",
        "@dataclass\n",
        "class Synset:\n",
        "    id: str\n",
        "    ruthes_name: str\n",
        "    definition: str\n",
        "    part_of_speech: str\n",
        "    senses: list[Sense] = field(default_factory=list)\n",
        "    hyponyms: list[\"Synset\"] = field(default_factory=list, repr=False)\n",
        "    hypernyms: list[\"Synset\"] = field(default_factory=list, repr=False)"
      ]
    },
    {
      "cell_type": "code",
      "execution_count": null,
      "id": "tIKHkUx2Vmam",
      "metadata": {
        "id": "tIKHkUx2Vmam"
      },
      "outputs": [],
      "source": [
        "from bs4 import BeautifulSoup"
      ]
    },
    {
      "cell_type": "code",
      "execution_count": null,
      "id": "SCHCCCJqVwGm",
      "metadata": {
        "id": "SCHCCCJqVwGm"
      },
      "outputs": [],
      "source": [
        "with open(\"./synsets.N.xml\", \"r\", encoding=\"utf8\") as fp:\n",
        "  synsets_bs = BeautifulSoup(fp)"
      ]
    },
    {
      "cell_type": "code",
      "execution_count": null,
      "id": "FvJTCg_pVwB2",
      "metadata": {
        "colab": {
          "base_uri": "https://localhost:8080/"
        },
        "id": "FvJTCg_pVwB2",
        "outputId": "35d404b0-879d-49af-d8ac-aea04b0ff024"
      },
      "outputs": [
        {
          "data": {
            "text/plain": [
              "<synset definition=\"\" id=\"N12658\" part_of_speech=\"N\" ruthes_name=\"КОДИРОВАНИЕ ОТ ЗАВИСИМОСТИ\">\n",
              "<sense id=\"115643\">МЕДИЦИНСКИЙ КОДИРОВАНИЕ</sense>\n",
              "<sense id=\"115640\">КОДИРОВАНИЕ</sense>\n",
              "<sense id=\"115641\">КОДИРОВАНИЕ ОТ ЗАВИСИМОСТЬ</sense>\n",
              "<sense id=\"115642\">КОДИРОВАНИЕ ЗАВИСИМОСТЬ</sense>\n",
              "</synset>"
            ]
          },
          "execution_count": 4,
          "metadata": {},
          "output_type": "execute_result"
        }
      ],
      "source": [
        "example_synset = synsets_bs.find(\"synset\")\n",
        "example_synset"
      ]
    },
    {
      "cell_type": "code",
      "execution_count": null,
      "id": "90U9w5RfWW5_",
      "metadata": {
        "colab": {
          "base_uri": "https://localhost:8080/"
        },
        "id": "90U9w5RfWW5_",
        "outputId": "d09392fd-66f8-4f81-a65d-a9ab4457fb30"
      },
      "outputs": [
        {
          "data": {
            "text/plain": [
              "{'id': 'N12658',\n",
              " 'ruthes_name': 'КОДИРОВАНИЕ ОТ ЗАВИСИМОСТИ',\n",
              " 'definition': '',\n",
              " 'part_of_speech': 'N'}"
            ]
          },
          "execution_count": 5,
          "metadata": {},
          "output_type": "execute_result"
        }
      ],
      "source": [
        "example_synset.attrs"
      ]
    },
    {
      "cell_type": "code",
      "execution_count": null,
      "id": "V1HjpajMWeYP",
      "metadata": {
        "colab": {
          "base_uri": "https://localhost:8080/"
        },
        "id": "V1HjpajMWeYP",
        "outputId": "cab39dc9-f6b5-4bc8-8bf5-69c780319222"
      },
      "outputs": [
        {
          "data": {
            "text/plain": [
              "Synset(id='N12658', ruthes_name='КОДИРОВАНИЕ ОТ ЗАВИСИМОСТИ', definition='', part_of_speech='N', senses=[])"
            ]
          },
          "execution_count": 6,
          "metadata": {},
          "output_type": "execute_result"
        }
      ],
      "source": [
        "synset = Synset(**example_synset.attrs)\n",
        "synset"
      ]
    },
    {
      "cell_type": "code",
      "execution_count": null,
      "id": "s1wO56ZuWky-",
      "metadata": {
        "colab": {
          "base_uri": "https://localhost:8080/",
          "height": 36
        },
        "id": "s1wO56ZuWky-",
        "outputId": "7732fdfb-1ff6-49e6-c60e-9e99e346ac81"
      },
      "outputs": [
        {
          "data": {
            "application/vnd.google.colaboratory.intrinsic+json": {
              "type": "string"
            },
            "text/plain": [
              "'N12658'"
            ]
          },
          "execution_count": 7,
          "metadata": {},
          "output_type": "execute_result"
        }
      ],
      "source": [
        "synset.id"
      ]
    },
    {
      "cell_type": "code",
      "execution_count": null,
      "id": "_ePfzPRJW9Af",
      "metadata": {
        "id": "_ePfzPRJW9Af"
      },
      "outputs": [],
      "source": [
        "with open(\"./senses.N.xml\", \"r\", encoding=\"utf8\") as fp:\n",
        "  senses_bs = BeautifulSoup(fp)"
      ]
    },
    {
      "cell_type": "code",
      "execution_count": null,
      "id": "IDfmzFoLXAXn",
      "metadata": {
        "id": "IDfmzFoLXAXn"
      },
      "outputs": [],
      "source": [
        "senses_list = [\n",
        "    Sense(**sense.attrs)\n",
        "    for sense in senses_bs.find_all(\"sense\", synset_id=synset.id)\n",
        "]\n",
        "synset.senses = senses_list"
      ]
    },
    {
      "cell_type": "code",
      "execution_count": null,
      "id": "Pe5PKHTLXXGB",
      "metadata": {
        "colab": {
          "base_uri": "https://localhost:8080/"
        },
        "id": "Pe5PKHTLXXGB",
        "outputId": "171623fc-3731-46b3-dc4b-34d4d6833fac"
      },
      "outputs": [
        {
          "data": {
            "text/plain": [
              "Synset(id='N12658', ruthes_name='КОДИРОВАНИЕ ОТ ЗАВИСИМОСТИ', definition='', part_of_speech='N', senses=[Sense(id='115643', name='МЕДИЦИНСКОЕ КОДИРОВАНИЕ', lemma='МЕДИЦИНСКИЙ КОДИРОВАНИЕ', main_word='КОДИРОВАНИЕ', synt_type='NG', poses='Adj N', synset_id='N12658', meaning='1'), Sense(id='115640', name='КОДИРОВАНИЕ', lemma='КОДИРОВАНИЕ', main_word='', synt_type='N', poses='', synset_id='N12658', meaning='3'), Sense(id='115641', name='КОДИРОВАНИЕ ОТ ЗАВИСИМОСТИ', lemma='КОДИРОВАНИЕ ОТ ЗАВИСИМОСТЬ', main_word='КОДИРОВАНИЕ', synt_type='NG', poses='N Prep N', synset_id='N12658', meaning='1'), Sense(id='115642', name='КОДИРОВАНИЕ ЗАВИСИМОСТИ', lemma='КОДИРОВАНИЕ ЗАВИСИМОСТЬ', main_word='КОДИРОВАНИЕ', synt_type='NG', poses='N N', synset_id='N12658', meaning='1')])"
            ]
          },
          "execution_count": 11,
          "metadata": {},
          "output_type": "execute_result"
        }
      ],
      "source": [
        "synset"
      ]
    },
    {
      "cell_type": "markdown",
      "id": "610d0f40",
      "metadata": {
        "id": "610d0f40"
      },
      "source": [
        "## Задачи для самостоятельного решения"
      ]
    },
    {
      "cell_type": "code",
      "execution_count": null,
      "id": "YVvUCJk7YfgC",
      "metadata": {
        "colab": {
          "base_uri": "https://localhost:8080/"
        },
        "id": "YVvUCJk7YfgC",
        "outputId": "3ea56536-c340-4a47-aba3-b540db5470f2"
      },
      "outputs": [
        {
          "name": "stdout",
          "output_type": "stream",
          "text": [
            "Drive already mounted at /content/drive; to attempt to forcibly remount, call drive.mount(\"/content/drive\", force_remount=True).\n"
          ]
        }
      ],
      "source": [
        "from google.colab import drive\n",
        "drive.mount('/content/drive')"
      ]
    },
    {
      "cell_type": "code",
      "execution_count": null,
      "id": "FUx7770bYugs",
      "metadata": {
        "id": "FUx7770bYugs"
      },
      "outputs": [],
      "source": [
        "from bs4 import BeautifulSoup\n",
        "from dataclasses import dataclass, field"
      ]
    },
    {
      "cell_type": "code",
      "execution_count": null,
      "id": "lKUwLsDdgCZ2",
      "metadata": {
        "id": "lKUwLsDdgCZ2"
      },
      "outputs": [],
      "source": [
        "@dataclass\n",
        "class Sense:\n",
        "    id: str\n",
        "    name: str\n",
        "    lemma: str\n",
        "    main_word: str\n",
        "    synt_type: str\n",
        "    poses: str\n",
        "    synset_id: str\n",
        "    meaning: str\n",
        "\n",
        "@dataclass\n",
        "class Synset:\n",
        "    id: str\n",
        "    ruthes_name: str\n",
        "    definition: str\n",
        "    part_of_speech: str\n",
        "    senses: list[Sense] = field(default_factory=list)\n",
        "    hyponyms: list[\"Synset\"] = field(default_factory=list, repr=False)\n",
        "    hypernyms: list[\"Synset\"] = field(default_factory=list, repr=False)"
      ]
    },
    {
      "cell_type": "markdown",
      "id": "c13ab336",
      "metadata": {
        "id": "c13ab336"
      },
      "source": [
        "<p class=\"task\" id=\"1\"></p>\n",
        "\n",
        "1\\. На основе файлов `rwn/synsets.A.xml`, `rwn/synsets.N.xml` и `rwn/synsets.V.xml` создайте словарь `synsets`, где ключом является ID синсета, а значением - объекта класса `Synset`. Поля `senses`, `hyponyms`, `hypernyms` оставьте со значениями по умолчанию. Выведите количество объектов в полученном словаре на экран.\n",
        "\n",
        "- [x] Проверено на семинаре"
      ]
    },
    {
      "cell_type": "code",
      "execution_count": null,
      "id": "aYvVsJo4YtYT",
      "metadata": {
        "id": "aYvVsJo4YtYT"
      },
      "outputs": [],
      "source": [
        "with open(\"/content/drive/MyDrive/NLP/data/rwn/synsets.A.xml\", \"r\", encoding=\"utf8\") as fp:\n",
        "  synsets_A_list = BeautifulSoup(fp).find_all(\"synset\")\n",
        "\n",
        "with open(\"/content/drive/MyDrive/NLP/data/rwn/synsets.N.xml\", \"r\", encoding=\"utf8\") as fp:\n",
        "  synsets_N_list = BeautifulSoup(fp).find_all(\"synset\")\n",
        "\n",
        "with open(\"/content/drive/MyDrive/NLP/data/rwn/synsets.V.xml\", \"r\", encoding=\"utf8\") as fp:\n",
        "  synsets_V_list = BeautifulSoup(fp).find_all(\"synset\")"
      ]
    },
    {
      "cell_type": "code",
      "execution_count": null,
      "id": "rskb8vT1Yn9L",
      "metadata": {
        "colab": {
          "base_uri": "https://localhost:8080/"
        },
        "id": "rskb8vT1Yn9L",
        "outputId": "d0d2d966-97de-4d44-ab19-ea4a09ddc6bd"
      },
      "outputs": [
        {
          "data": {
            "text/plain": [
              "<synset definition=\"\" id=\"A1\" part_of_speech=\"Adj\" ruthes_name=\"ПОДПИСКА НА ПЕРИОДИЧЕСКИЕ ИЗДАНИЯ\">\n",
              "<sense id=\"95459\">ПОДПИСНОЙ</sense>\n",
              "</synset>"
            ]
          },
          "execution_count": 8,
          "metadata": {},
          "output_type": "execute_result"
        }
      ],
      "source": [
        "synsets_A_list[0]"
      ]
    },
    {
      "cell_type": "code",
      "execution_count": null,
      "id": "xSldbEeRa_Nh",
      "metadata": {
        "colab": {
          "base_uri": "https://localhost:8080/"
        },
        "id": "xSldbEeRa_Nh",
        "outputId": "98a0975f-55b6-41ea-c7b3-48b4bb30b608"
      },
      "outputs": [
        {
          "data": {
            "text/plain": [
              "49492"
            ]
          },
          "execution_count": 9,
          "metadata": {},
          "output_type": "execute_result"
        }
      ],
      "source": [
        "synsets_A_dict = {Synset(**synset.attrs).id : Synset(**synset.attrs) for synset in synsets_A_list}\n",
        "synsets_N_dict = {Synset(**synset.attrs).id : Synset(**synset.attrs) for synset in synsets_N_list}\n",
        "synsets_V_dict = {Synset(**synset.attrs).id : Synset(**synset.attrs) for synset in synsets_V_list}\n",
        "\n",
        "synsets_all_dict = synsets_A_dict | synsets_N_dict | synsets_V_dict\n",
        "len(synsets_all_dict)"
      ]
    },
    {
      "cell_type": "code",
      "execution_count": null,
      "id": "IRcuHvHmfDLl",
      "metadata": {
        "colab": {
          "base_uri": "https://localhost:8080/"
        },
        "id": "IRcuHvHmfDLl",
        "outputId": "bcecd8b8-2e73-44b0-9dd2-17aae2f09027"
      },
      "outputs": [
        {
          "data": {
            "text/plain": [
              "Synset(id='A100', ruthes_name='САЛЬДО ПО РАСЧЕТАМ', definition='разность между денежными поступлениями и расходами за определенный промежуток времени', part_of_speech='Adj', senses=[])"
            ]
          },
          "execution_count": 10,
          "metadata": {},
          "output_type": "execute_result"
        }
      ],
      "source": [
        "synsets_all_dict['A100']"
      ]
    },
    {
      "cell_type": "markdown",
      "id": "a9a857c6",
      "metadata": {
        "id": "a9a857c6"
      },
      "source": [
        "<p class=\"task\" id=\"2\"></p>\n",
        "\n",
        "2\\. Обновите поле `senses` у объектов в словаре `synsets` на основе файлов `rwn/senses.A.xml`, `rwn/senses.N.xml` и `rwn/senses.V.xml`. Выведите на экран среднее количество синонимов у синсетов.\n",
        "\n",
        "- [x] Проверено на семинаре"
      ]
    },
    {
      "cell_type": "code",
      "execution_count": null,
      "id": "lePoaljJg7R-",
      "metadata": {
        "id": "lePoaljJg7R-"
      },
      "outputs": [],
      "source": [
        "with open(\"/content/drive/MyDrive/NLP/data/rwn/senses.A.xml\", \"r\", encoding=\"utf8\") as fp:\n",
        "  senses_A_list = BeautifulSoup(fp).find_all(\"sense\")\n",
        "\n",
        "with open(\"/content/drive/MyDrive/NLP/data/rwn/senses.N.xml\", \"r\", encoding=\"utf8\") as fp:\n",
        "  senses_N_list = BeautifulSoup(fp).find_all(\"sense\")\n",
        "\n",
        "with open(\"/content/drive/MyDrive/NLP/data/rwn/senses.V.xml\", \"r\", encoding=\"utf8\") as fp:\n",
        "  senses_V_list = BeautifulSoup(fp).find_all(\"sense\")"
      ]
    },
    {
      "cell_type": "code",
      "execution_count": null,
      "id": "ktywxyJfhFlF",
      "metadata": {
        "colab": {
          "base_uri": "https://localhost:8080/"
        },
        "id": "ktywxyJfhFlF",
        "outputId": "77c1c66c-b1be-4719-e818-e0cffa0938b1"
      },
      "outputs": [
        {
          "data": {
            "text/plain": [
              "<sense id=\"95459\" lemma=\"ПОДПИСНОЙ\" main_word=\"\" meaning=\"2\" name=\"ПОДПИСНОЙ\" poses=\"\" synset_id=\"A1\" synt_type=\"Adj\"></sense>"
            ]
          },
          "execution_count": 12,
          "metadata": {},
          "output_type": "execute_result"
        }
      ],
      "source": [
        "senses_A_list[0]"
      ]
    },
    {
      "cell_type": "code",
      "execution_count": null,
      "id": "dVTgTXf_hOAr",
      "metadata": {
        "colab": {
          "base_uri": "https://localhost:8080/"
        },
        "id": "dVTgTXf_hOAr",
        "outputId": "d3f3e570-7539-4e2a-fc89-37234ad0b17d"
      },
      "outputs": [
        {
          "data": {
            "text/plain": [
              "130416"
            ]
          },
          "execution_count": 13,
          "metadata": {},
          "output_type": "execute_result"
        }
      ],
      "source": [
        "senses_A_dict = {Sense(**sense.attrs).id : Sense(**sense.attrs) for sense in senses_A_list}\n",
        "senses_N_dict = {Sense(**sense.attrs).id : Sense(**sense.attrs) for sense in senses_N_list}\n",
        "senses_V_dict = {Sense(**sense.attrs).id : Sense(**sense.attrs) for sense in senses_V_list}\n",
        "\n",
        "senses_all_dict = senses_A_dict | senses_N_dict | senses_V_dict\n",
        "len(senses_all_dict)"
      ]
    },
    {
      "cell_type": "code",
      "execution_count": null,
      "id": "at2_BEEvhjbg",
      "metadata": {
        "id": "at2_BEEvhjbg"
      },
      "outputs": [],
      "source": [
        "for sid, sense in senses_all_dict.items():\n",
        "    synsets_all_dict[sense.synset_id].senses.append(sense)"
      ]
    },
    {
      "cell_type": "code",
      "execution_count": null,
      "id": "dtb38VGgjPqS",
      "metadata": {
        "colab": {
          "base_uri": "https://localhost:8080/"
        },
        "id": "dtb38VGgjPqS",
        "outputId": "7e072ec8-1d25-441a-e6f0-ae2afce9f08d"
      },
      "outputs": [
        {
          "data": {
            "text/plain": [
              "Synset(id='A100', ruthes_name='САЛЬДО ПО РАСЧЕТАМ', definition='разность между денежными поступлениями и расходами за определенный промежуток времени', part_of_speech='Adj', senses=[Sense(id='54387', name='САЛЬДОВЫЙ', lemma='САЛЬДОВЫЙ', main_word='', synt_type='Adj', poses='', synset_id='A100', meaning='1')])"
            ]
          },
          "execution_count": 15,
          "metadata": {},
          "output_type": "execute_result"
        }
      ],
      "source": [
        "synsets_all_dict['A100']"
      ]
    },
    {
      "cell_type": "code",
      "execution_count": null,
      "id": "0u_VGShTkSz4",
      "metadata": {
        "colab": {
          "base_uri": "https://localhost:8080/"
        },
        "id": "0u_VGShTkSz4",
        "outputId": "db4ba8ef-7491-488f-b0d1-f137eb0a2125"
      },
      "outputs": [
        {
          "name": "stdout",
          "output_type": "stream",
          "text": [
            "2.6350925402085186\n"
          ]
        }
      ],
      "source": [
        "count = 0\n",
        "for i in synsets_all_dict.values():\n",
        "    count += len(i.senses)\n",
        "print(count / len(synsets_all_dict))"
      ]
    },
    {
      "cell_type": "markdown",
      "id": "0b01f96d",
      "metadata": {
        "id": "0b01f96d"
      },
      "source": [
        "<p class=\"task\" id=\"3\"></p>\n",
        "\n",
        "3\\. Проанализируйте, какие типы отношений представлены в файле `rwn/relation.xml`. Выведите множество типов отношений на экран.\n",
        "Обновите поля `hyponyms` и `hypernyms` у объектов в словаре `synsets` на основе файла `rwn/relation.xml`.\n",
        "\n",
        "- [ ] Проверено на семинаре"
      ]
    },
    {
      "cell_type": "markdown",
      "id": "ca2816e6",
      "metadata": {
        "id": "ca2816e6"
      },
      "source": [
        "<p class=\"task\" id=\"4\"></p>\n",
        "\n",
        "4\\. Напишите функцию `find_by_name`, которая ищет синсеты по вхождению заданного слова в поле `ruthes_name`. При поиске приводите введенное слово к нормальной форме и не учитывайте регистр слов. Функция должна вернуть список, отсортированный по возрастаю значений расстояния Левенштейна между названием синсета и введенным словом. Продемонстрируйте, какие синсеты находятся по слову \"собака\".\n",
        "\n",
        "- [ ] Проверено на семинаре"
      ]
    },
    {
      "cell_type": "markdown",
      "id": "a7b9daab",
      "metadata": {
        "id": "a7b9daab"
      },
      "source": [
        "<p class=\"task\" id=\"5\"></p>\n",
        "\n",
        "5\\. Для пары слов \"собака\" и \"кошка\" найдите ближайший общий родительский синсет и выведите на экран его название. Синсет `A` назовем родительским синсетом синсета `B`, если от `B` можно подняться к `A` в таксономии синсетов, используя отношения гиперонимии. Найдите общий родительский синсет для пары слов \"кошка\" и \"студент\" и выведите на экран его название.\n",
        "\n",
        "- [ ] Проверено на семинаре"
      ]
    },
    {
      "cell_type": "markdown",
      "id": "9a306bef",
      "metadata": {
        "id": "9a306bef"
      },
      "source": [
        "<p class=\"task\" id=\"6\"></p>\n",
        "\n",
        "6\\. Для каждого слова из представленного текста найдите все возможные синонимы. Набор синонимов получите на основе поля `senses` у объектов `Synset`. В случае обнаружения точного совпадения введенного слова хотя бы с одним элементом из `senses`, весь набор `senses` трактуйте как синонимы. При поиске приводите слово к нормальной форме и не учитывайте регистр слов.\n",
        "\n",
        "Составьте все возможные вариации данного предложения, заменяя слова на найденные синонимы. В случае отсутствия синонимов для какого-то из слов, используйте исходное слово для генерации предложения. Выведите на экран общее количество перефразированных предложений.\n",
        "\n",
        "- [ ] Проверено на семинаре"
      ]
    },
    {
      "cell_type": "code",
      "execution_count": null,
      "id": "b4b0cc9c",
      "metadata": {
        "id": "b4b0cc9c"
      },
      "outputs": [],
      "source": [
        "text = \"Студент ужаснулся когда увидел задачу\""
      ]
    },
    {
      "cell_type": "markdown",
      "id": "724b1c9c",
      "metadata": {
        "id": "724b1c9c"
      },
      "source": [
        "## Обратная связь\n",
        "- [ ] Хочу получить обратную связь по решению"
      ]
    }
  ],
  "metadata": {
    "colab": {
      "provenance": [],
      "toc_visible": true
    },
    "kernelspec": {
      "display_name": "Python 3 (ipykernel)",
      "language": "python",
      "name": "python3"
    },
    "language_info": {
      "codemirror_mode": {
        "name": "ipython",
        "version": 3
      },
      "file_extension": ".py",
      "mimetype": "text/x-python",
      "name": "python",
      "nbconvert_exporter": "python",
      "pygments_lexer": "ipython3",
      "version": "3.9.13"
    }
  },
  "nbformat": 4,
  "nbformat_minor": 5
}
