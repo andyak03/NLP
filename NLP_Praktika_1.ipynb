{
 "cells": [
  {
   "cell_type": "markdown",
   "id": "472a4e5a-56c8-47ca-b4e7-3905470c512f",
   "metadata": {},
   "source": [
    "Задание 1. Сравнить качество методов векторизации CountVectorizer и TF-IDF на примере задачи классификации текстов. Сделать выводы.\n",
    "\n",
    "Датасет:\n",
    "\n",
    "from sklearn.datasets import fetch_20newsgroups\n",
    "\n",
    "newsgroups_train = fetch_20newsgroups(subset='train')\n",
    "\n",
    "Темы: alt.atheism, misc.forsale, soc.religion.christian, talk.politics.mideast\n",
    "\n",
    "Алгоритм МО: логистическая регрессия"
   ]
  },
  {
   "cell_type": "code",
   "execution_count": 1,
   "id": "3dab1451-f7ca-489b-9c33-173b0afb5e46",
   "metadata": {},
   "outputs": [],
   "source": [
    "from sklearn.datasets import fetch_20newsgroups\n",
    "from sklearn.feature_extraction.text import CountVectorizer, TfidfVectorizer\n",
    "from sklearn.linear_model import LogisticRegression\n",
    "from sklearn.pipeline import make_pipeline\n",
    "from sklearn.model_selection import train_test_split\n",
    "from sklearn.metrics import classification_report"
   ]
  },
  {
   "cell_type": "code",
   "execution_count": 2,
   "id": "36a29738-5d1e-45cd-a771-2826d1d56ba7",
   "metadata": {},
   "outputs": [],
   "source": [
    "categories = ['alt.atheism', 'misc.forsale', 'soc.religion.christian', 'talk.politics.mideast']\n",
    "newsgroups_train = fetch_20newsgroups(subset='train', categories=categories)\n",
    "newsgroups_test = fetch_20newsgroups(subset='test', categories=categories)"
   ]
  },
  {
   "cell_type": "code",
   "execution_count": 3,
   "id": "58c1604e-0dae-4f02-bd2d-7673117462aa",
   "metadata": {},
   "outputs": [],
   "source": [
    "count_vectorizer = CountVectorizer()\n",
    "tfidf_vectorizer = TfidfVectorizer()\n"
   ]
  },
  {
   "cell_type": "code",
   "execution_count": 4,
   "id": "94028a86-1ccc-489e-ae15-a814f3876d71",
   "metadata": {},
   "outputs": [],
   "source": [
    "model = LogisticRegression()"
   ]
  },
  {
   "cell_type": "code",
   "execution_count": 7,
   "id": "79d3000a-002d-4220-b95b-1e17f062872b",
   "metadata": {},
   "outputs": [
    {
     "name": "stderr",
     "output_type": "stream",
     "text": [
      "/home/qtr/anaconda3/envs/rapids-23.12/lib/python3.9/site-packages/sklearn/linear_model/_logistic.py:460: ConvergenceWarning: lbfgs failed to converge (status=1):\n",
      "STOP: TOTAL NO. of ITERATIONS REACHED LIMIT.\n",
      "\n",
      "Increase the number of iterations (max_iter) or scale the data as shown in:\n",
      "    https://scikit-learn.org/stable/modules/preprocessing.html\n",
      "Please also refer to the documentation for alternative solver options:\n",
      "    https://scikit-learn.org/stable/modules/linear_model.html#logistic-regression\n",
      "  n_iter_i = _check_optimize_result(\n"
     ]
    },
    {
     "name": "stdout",
     "output_type": "stream",
     "text": [
      "Классификация с использованием CountVectorizer:\n",
      "                         precision    recall  f1-score   support\n",
      "\n",
      "           alt.atheism       0.60      0.83      0.70       319\n",
      "          misc.forsale       1.00      0.42      0.59       390\n",
      "soc.religion.christian       0.73      0.94      0.83       398\n",
      " talk.politics.mideast       0.84      0.82      0.83       376\n",
      "\n",
      "              accuracy                           0.75      1483\n",
      "             macro avg       0.79      0.75      0.74      1483\n",
      "          weighted avg       0.80      0.75      0.74      1483\n",
      "\n",
      "Классификация с использованием TF-IDF:\n",
      "                         precision    recall  f1-score   support\n",
      "\n",
      "           alt.atheism       0.94      0.79      0.86       319\n",
      "          misc.forsale       0.90      0.99      0.94       390\n",
      "soc.religion.christian       0.86      0.95      0.91       398\n",
      " talk.politics.mideast       0.98      0.90      0.94       376\n",
      "\n",
      "              accuracy                           0.92      1483\n",
      "             macro avg       0.92      0.91      0.91      1483\n",
      "          weighted avg       0.92      0.92      0.91      1483\n",
      "\n"
     ]
    }
   ],
   "source": [
    "pipeline_count = make_pipeline(count_vectorizer, model)\n",
    "pipeline_tfidf = make_pipeline(tfidf_vectorizer, model)\n",
    "\n",
    "pipeline_count.fit(newsgroups_train.data, newsgroups_train.target)\n",
    "pipeline_tfidf.fit(newsgroups_train.data, newsgroups_train.target)\n",
    "\n",
    "predictions_count = pipeline_count.predict(newsgroups_test.data)\n",
    "predictions_tfidf = pipeline_tfidf.predict(newsgroups_test.data)\n",
    "\n",
    "report_count = classification_report(newsgroups_test.target, predictions_count, target_names=newsgroups_test.target_names)\n",
    "report_tfidf = classification_report(newsgroups_test.target, predictions_tfidf, target_names=newsgroups_test.target_names)\n",
    "print(\"Классификация с использованием CountVectorizer:\\n\", report_count)\n",
    "print(\"Классификация с использованием TF-IDF:\\n\", report_tfidf)"
   ]
  },
  {
   "cell_type": "markdown",
   "id": "c4316c03-f86f-494c-a621-e8ff86806558",
   "metadata": {},
   "source": [
    "# Вывод\n",
    "\n",
    "tf-idf показывает около идеальное качество классификации"
   ]
  },
  {
   "cell_type": "code",
   "execution_count": null,
   "id": "d68a78ba-1db6-4452-a7fd-9e8ee7e79abb",
   "metadata": {},
   "outputs": [],
   "source": []
  }
 ],
 "metadata": {
  "kernelspec": {
   "display_name": "Python 3 (ipykernel)",
   "language": "python",
   "name": "python3"
  },
  "language_info": {
   "codemirror_mode": {
    "name": "ipython",
    "version": 3
   },
   "file_extension": ".py",
   "mimetype": "text/x-python",
   "name": "python",
   "nbconvert_exporter": "python",
   "pygments_lexer": "ipython3",
   "version": "3.9.18"
  }
 },
 "nbformat": 4,
 "nbformat_minor": 5
}
