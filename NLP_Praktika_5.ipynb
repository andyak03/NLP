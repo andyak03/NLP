{
 "cells": [
  {
   "cell_type": "markdown",
   "id": "0e03d32a-85e3-4fce-ab4b-48ebf2ff269a",
   "metadata": {},
   "source": [
    "Задание 5. Сравнить две модели трансформеров на примере машинного перевода. \n",
    "\n",
    "Перевод следующий: русский -> английский -> испанский -> арабский -> русский. Сделать выводы."
   ]
  },
  {
   "cell_type": "code",
   "execution_count": 1,
   "id": "588266d0-0d2d-4207-ae44-d489acc6f7c0",
   "metadata": {},
   "outputs": [
    {
     "name": "stdout",
     "output_type": "stream",
     "text": [
      "Оригинальный текст: Допустим, я тут что-то должен написать оригинальное. Я люблю хинкали и не только\n",
      "Перевод через Helsinki-NLP: Скажем так, я должен написать что-то оригинальное.\n"
     ]
    }
   ],
   "source": [
    "from transformers import MarianMTModel, MarianTokenizer\n",
    "import torch\n",
    "\n",
    "def translate_helsinki(text, model_name):\n",
    "    tokenizer = MarianTokenizer.from_pretrained(model_name)\n",
    "    model = MarianMTModel.from_pretrained(model_name)\n",
    "    \n",
    "    device = torch.device(\"cuda\" if torch.cuda.is_available() else \"cpu\")\n",
    "    model.to(device)\n",
    "\n",
    "    inputs = tokenizer(text, return_tensors=\"pt\", padding=True)\n",
    "    inputs = {k: v.to(device) for k, v in inputs.items()}\n",
    "\n",
    "    translated = model.generate(**inputs)\n",
    "\n",
    "    return [tokenizer.decode(t, skip_special_tokens=True) for t in translated][0]\n",
    "\n",
    "text = \"Допустим, я тут что-то должен написать оригинальное. Я люблю хинкали и не только\"\n",
    "\n",
    "translated_helsinki = translate_helsinki(text, \"Helsinki-NLP/opus-mt-ru-en\")\n",
    "translated_helsinki = translate_helsinki(translated_helsinki, \"Helsinki-NLP/opus-mt-en-es\")\n",
    "translated_helsinki = translate_helsinki(translated_helsinki, \"Helsinki-NLP/opus-mt-es-ar\")\n",
    "final_helsinki = translate_helsinki(translated_helsinki, \"Helsinki-NLP/opus-mt-ar-ru\")\n",
    "\n",
    "print(\"Оригинальный текст:\", text)\n",
    "print(\"Перевод через Helsinki-NLP:\", final_helsinki)\n"
   ]
  },
  {
   "cell_type": "code",
   "execution_count": 2,
   "id": "bd114968-4b76-4626-b673-4ffc308ce8b4",
   "metadata": {},
   "outputs": [
    {
     "name": "stdout",
     "output_type": "stream",
     "text": [
      "Оригинальный текст: Допустим, я тут что-то должен написать оригинальное. Я люблю хинкали и не только\n",
      "Перевод с использованием Facebook: Мы признаем, что мне нужно что-то написать здесь.Мне нравятся углы, а не только\n"
     ]
    }
   ],
   "source": [
    "from transformers import M2M100ForConditionalGeneration, M2M100Tokenizer\n",
    "import torch\n",
    "\n",
    "def translate(text, model_name, src_lang, tgt_lang, device):\n",
    "    tokenizer = M2M100Tokenizer.from_pretrained(model_name)\n",
    "    model = M2M100ForConditionalGeneration.from_pretrained(model_name).to(device)\n",
    "\n",
    "    tokenizer.src_lang = src_lang\n",
    "    encoded = tokenizer(text, return_tensors=\"pt\").to(device)\n",
    "    generated_tokens = model.generate(**encoded, forced_bos_token_id=tokenizer.get_lang_id(tgt_lang))\n",
    "    return tokenizer.batch_decode(generated_tokens, skip_special_tokens=True)[0]\n",
    "\n",
    "text = \"Допустим, я тут что-то должен написать оригинальное. Я люблю хинкали и не только\"\n",
    "model_name_facebook = \"facebook/m2m100_418M\"\n",
    "\n",
    "device = torch.device(\"cuda\" if torch.cuda.is_available() else \"cpu\")\n",
    "\n",
    "translated_facebook = translate(text, model_name_facebook, \"ru\", \"en\", device)\n",
    "translated_facebook = translate(translated_facebook, model_name_facebook, \"en\", \"es\", device)\n",
    "translated_facebook = translate(translated_facebook, model_name_facebook, \"es\", \"ar\", device)\n",
    "translated_facebook = translate(translated_facebook, model_name_facebook, \"ar\", \"ru\", device)\n",
    "\n",
    "print(\"Оригинальный текст:\", text)\n",
    "print(\"Перевод с использованием Facebook:\", translated_facebook)\n"
   ]
  },
  {
   "cell_type": "markdown",
   "id": "e278705a-e3eb-4cea-a2aa-dc7e1fb3e89b",
   "metadata": {},
   "source": [
    "Вывод: обе модели справились не очень, но шизофазия от фейсбука мне понравилась больше"
   ]
  }
 ],
 "metadata": {
  "kernelspec": {
   "display_name": "Python 3 (ipykernel)",
   "language": "python",
   "name": "python3"
  },
  "language_info": {
   "codemirror_mode": {
    "name": "ipython",
    "version": 3
   },
   "file_extension": ".py",
   "mimetype": "text/x-python",
   "name": "python",
   "nbconvert_exporter": "python",
   "pygments_lexer": "ipython3",
   "version": "3.9.18"
  }
 },
 "nbformat": 4,
 "nbformat_minor": 5
}
