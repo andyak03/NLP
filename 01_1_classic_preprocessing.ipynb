{
  "cells": [
    {
      "cell_type": "markdown",
      "id": "28bd3bfb",
      "metadata": {
        "id": "28bd3bfb"
      },
      "source": [
        "# Базовая обработка текста\n",
        "\n",
        "__Автор задач: Блохин Н.В. (NVBlokhin@fa.ru)__\n",
        "\n",
        "Материалы:\n",
        "* https://www.nltk.org/api/nltk.html\n",
        "* https://pymorphy2.readthedocs.io/en/stable/\n",
        "* https://docs.python.org/3/library/re.html\n",
        "* https://regex101.com/"
      ]
    },
    {
      "cell_type": "markdown",
      "id": "afcdb9cf",
      "metadata": {
        "id": "afcdb9cf"
      },
      "source": [
        "## Задачи для совместного разбора"
      ]
    },
    {
      "cell_type": "markdown",
      "id": "b810046a",
      "metadata": {
        "id": "b810046a"
      },
      "source": [
        "1. Найдите все суммы (число плюс валюта), которые упоминаются в данном тексте. Выведите результат в виде списка кортежей из двух элементов (число, валюта)"
      ]
    },
    {
      "cell_type": "code",
      "execution_count": null,
      "id": "5d4db2e3",
      "metadata": {
        "id": "5d4db2e3"
      },
      "outputs": [],
      "source": [
        "text = '''During my trip to Europe, I exchanged $10.50 for €20,00 at the currency exchange booth.\n",
        "With ¥5000, I bought some souvenirs from a local market.\n",
        "Later, I treated myself to a delicious meal at a restaurant, which cost me £15,99.\n",
        "Finally, I converted 100₹ into the local currency to buy a traditional Indian artwork.'''"
      ]
    },
    {
      "cell_type": "code",
      "execution_count": null,
      "id": "mEScLeUkbzLP",
      "metadata": {
        "id": "mEScLeUkbzLP"
      },
      "outputs": [],
      "source": [
        "import re"
      ]
    },
    {
      "cell_type": "code",
      "execution_count": null,
      "id": "5AFiCkVSb17B",
      "metadata": {
        "id": "5AFiCkVSb17B"
      },
      "outputs": [],
      "source": [
        "patt = re.compile(r\"([$€¥₹£]?)(\\d+[.,]?\\d*)([$€¥₹£]?)\")"
      ]
    },
    {
      "cell_type": "code",
      "execution_count": null,
      "id": "yerluM4TcZa3",
      "metadata": {
        "colab": {
          "base_uri": "https://localhost:8080/"
        },
        "id": "yerluM4TcZa3",
        "outputId": "91bb2ca7-120f-4d9a-bdd2-1bdc10a081d5"
      },
      "outputs": [
        {
          "data": {
            "text/plain": [
              "[('$', '10.50', ''),\n",
              " ('€', '20,00', ''),\n",
              " ('¥', '5000,', ''),\n",
              " ('£', '15,99', ''),\n",
              " ('', '100', '₹')]"
            ]
          },
          "execution_count": 8,
          "metadata": {},
          "output_type": "execute_result"
        }
      ],
      "source": [
        "patt.findall(text)"
      ]
    },
    {
      "cell_type": "code",
      "execution_count": null,
      "id": "953fLAPZc093",
      "metadata": {
        "colab": {
          "base_uri": "https://localhost:8080/"
        },
        "id": "953fLAPZc093",
        "outputId": "398d4d14-0df9-4dc8-810b-ad2c2d14f14a"
      },
      "outputs": [
        {
          "data": {
            "text/plain": [
              "[('$', 10.5), ('€', 20.0), ('¥', 5000.0), ('£', 15.99), ('₹', 100.0)]"
            ]
          },
          "execution_count": 13,
          "metadata": {},
          "output_type": "execute_result"
        }
      ],
      "source": [
        "[\n",
        "    (x1 or x3, float(x2.replace(\",\", \".\")))\n",
        "    for x1, x2, x3 in patt.findall(text)\n",
        "]"
      ]
    },
    {
      "cell_type": "code",
      "execution_count": null,
      "id": "skLy-4xXfbr8",
      "metadata": {
        "colab": {
          "base_uri": "https://localhost:8080/"
        },
        "id": "skLy-4xXfbr8",
        "outputId": "3a622aa7-eeaf-4549-9312-11d626af59b4"
      },
      "outputs": [
        {
          "data": {
            "text/plain": [
              "False"
            ]
          },
          "execution_count": 27,
          "metadata": {},
          "output_type": "execute_result"
        }
      ],
      "source": [
        "True and False and True"
      ]
    },
    {
      "cell_type": "code",
      "execution_count": null,
      "id": "_mGuFCfzfpH3",
      "metadata": {
        "colab": {
          "base_uri": "https://localhost:8080/"
        },
        "id": "_mGuFCfzfpH3",
        "outputId": "da4cd4e0-1c6d-4081-917d-47f3ea1544ab"
      },
      "outputs": [
        {
          "data": {
            "text/plain": [
              "False"
            ]
          },
          "execution_count": 28,
          "metadata": {},
          "output_type": "execute_result"
        }
      ],
      "source": [
        "bool('')"
      ]
    },
    {
      "cell_type": "markdown",
      "id": "d213a50f",
      "metadata": {
        "id": "d213a50f"
      },
      "source": [
        "2\\. Выясните, встречается ли в представленном фрагменте текста тавтология."
      ]
    },
    {
      "cell_type": "code",
      "execution_count": null,
      "id": "-nWivzqHdR3s",
      "metadata": {
        "id": "-nWivzqHdR3s"
      },
      "outputs": [],
      "source": [
        "from nltk import RegexpTokenizer\n",
        "from nltk.stem import SnowballStemmer\n",
        "from nltk.corpus import stopwords"
      ]
    },
    {
      "cell_type": "code",
      "execution_count": null,
      "id": "d7qJtf-IdvrL",
      "metadata": {
        "colab": {
          "base_uri": "https://localhost:8080/"
        },
        "id": "d7qJtf-IdvrL",
        "outputId": "00c624ed-820f-401b-850f-eb522fa8ea57"
      },
      "outputs": [
        {
          "name": "stderr",
          "output_type": "stream",
          "text": [
            "[nltk_data] Downloading package stopwords to /root/nltk_data...\n",
            "[nltk_data]   Unzipping corpora/stopwords.zip.\n"
          ]
        },
        {
          "data": {
            "text/plain": [
              "True"
            ]
          },
          "execution_count": 16,
          "metadata": {},
          "output_type": "execute_result"
        }
      ],
      "source": [
        "import nltk\n",
        "nltk.download('stopwords')"
      ]
    },
    {
      "cell_type": "code",
      "execution_count": null,
      "id": "V1Sr9gjfdqOj",
      "metadata": {
        "id": "V1Sr9gjfdqOj"
      },
      "outputs": [],
      "source": [
        "sw = stopwords.words(\"english\")"
      ]
    },
    {
      "cell_type": "code",
      "execution_count": null,
      "id": "LsviB2Cfdx67",
      "metadata": {
        "id": "LsviB2Cfdx67"
      },
      "outputs": [],
      "source": [
        "tokenizer = RegexpTokenizer(r\"\\w+\")\n",
        "stemmer = SnowballStemmer(\"english\")\n",
        "words = [\n",
        "    stemmer.stem(word)\n",
        "    for word in tokenizer.tokenize(text)\n",
        "    if word.lower() not in sw\n",
        "]"
      ]
    },
    {
      "cell_type": "code",
      "execution_count": null,
      "id": "QTmz9Usud9Ni",
      "metadata": {
        "colab": {
          "base_uri": "https://localhost:8080/"
        },
        "id": "QTmz9Usud9Ni",
        "outputId": "e77d5388-68c5-42f5-cafc-9734f3ab1f4f"
      },
      "outputs": [
        {
          "data": {
            "text/plain": [
              "[('exchang', 2), ('currenc', 2), ('local', 2), ('trip', 1), ('europ', 1)]"
            ]
          },
          "execution_count": 25,
          "metadata": {},
          "output_type": "execute_result"
        }
      ],
      "source": [
        "from collections import Counter\n",
        "Counter(words).most_common(5)"
      ]
    },
    {
      "cell_type": "markdown",
      "id": "610d0f40",
      "metadata": {
        "id": "610d0f40"
      },
      "source": [
        "## Задачи для самостоятельного решения"
      ]
    },
    {
      "cell_type": "code",
      "execution_count": 111,
      "id": "orISSheVhFfA",
      "metadata": {
        "id": "orISSheVhFfA"
      },
      "outputs": [
        {
          "name": "stderr",
          "output_type": "stream",
          "text": [
            "[nltk_data] Downloading package punkt to\n",
            "[nltk_data]     C:\\Users\\ma2si\\AppData\\Roaming\\nltk_data...\n",
            "[nltk_data]   Package punkt is already up-to-date!\n"
          ]
        },
        {
          "data": {
            "text/plain": [
              "True"
            ]
          },
          "execution_count": 111,
          "metadata": {},
          "output_type": "execute_result"
        }
      ],
      "source": [
        "import pandas as pd\n",
        "import torch\n",
        "import pymorphy2\n",
        "import re\n",
        "import numpy as np\n",
        "import nltk\n",
        "from nltk.tokenize import sent_tokenize, word_tokenize\n",
        "import matplotlib.pyplot as plt\n",
        "nltk.download('punkt')"
      ]
    },
    {
      "cell_type": "markdown",
      "id": "fbde51b1",
      "metadata": {
        "id": "fbde51b1"
      },
      "source": [
        "<p class=\"task\" id=\"1\"></p>\n",
        "\n",
        "1\\. Исследуйте, какие формы слова \"кот\" или \"кошка\" встречаются в текстах из файла `moya-semia/Лучше кошки зверя нет 2.csv`. Сгруппируйте найденные слова по начальной форме и представьте результата в виде словаря, где ключом является начальная форма слова, а значением - список форм этого слова, которые встретились в тексте. Примеры подходящих слов: \"котейки\", \"кошечка\", \"котик\" и т.д."
      ]
    },
    {
      "cell_type": "code",
      "execution_count": 46,
      "id": "KL0cw_TSgNsY",
      "metadata": {
        "colab": {
          "base_uri": "https://localhost:8080/",
          "height": 206
        },
        "id": "KL0cw_TSgNsY",
        "outputId": "609993e9-0684-4791-c1a4-4182df1e415d"
      },
      "outputs": [
        {
          "data": {
            "text/html": [
              "<div>\n",
              "<style scoped>\n",
              "    .dataframe tbody tr th:only-of-type {\n",
              "        vertical-align: middle;\n",
              "    }\n",
              "\n",
              "    .dataframe tbody tr th {\n",
              "        vertical-align: top;\n",
              "    }\n",
              "\n",
              "    .dataframe thead th {\n",
              "        text-align: right;\n",
              "    }\n",
              "</style>\n",
              "<table border=\"1\" class=\"dataframe\">\n",
              "  <thead>\n",
              "    <tr style=\"text-align: right;\">\n",
              "      <th></th>\n",
              "      <th>text</th>\n",
              "    </tr>\n",
              "  </thead>\n",
              "  <tbody>\n",
              "    <tr>\n",
              "      <th>0</th>\n",
              "      <td>Завтра мои котейки идут к врачу. А 21-го жду и...</td>\n",
              "    </tr>\n",
              "    <tr>\n",
              "      <th>1</th>\n",
              "      <td>Котя скучает по мужу. Со вторника спит на его ...</td>\n",
              "    </tr>\n",
              "    <tr>\n",
              "      <th>2</th>\n",
              "      <td>Получилось так, что мне пришлось \"отдать\" мою ...</td>\n",
              "    </tr>\n",
              "    <tr>\n",
              "      <th>3</th>\n",
              "      <td>Лучше всего для начала спросить об этом у люде...</td>\n",
              "    </tr>\n",
              "    <tr>\n",
              "      <th>4</th>\n",
              "      <td>что волонтеры принесут, то и насыпалиЗначит, к...</td>\n",
              "    </tr>\n",
              "  </tbody>\n",
              "</table>\n",
              "</div>"
            ],
            "text/plain": [
              "                                                text\n",
              "0  Завтра мои котейки идут к врачу. А 21-го жду и...\n",
              "1  Котя скучает по мужу. Со вторника спит на его ...\n",
              "2  Получилось так, что мне пришлось \"отдать\" мою ...\n",
              "3  Лучше всего для начала спросить об этом у люде...\n",
              "4  что волонтеры принесут, то и насыпалиЗначит, к..."
            ]
          },
          "execution_count": 46,
          "metadata": {},
          "output_type": "execute_result"
        }
      ],
      "source": [
        "csv_file_path = 'data/moya-semia/Лучше кошки зверя нет 2.csv'\n",
        "\n",
        "df = pd.read_csv(csv_file_path, header=None)\n",
        "df = df.rename (columns= {1: 'text'})\n",
        "\n",
        "df = df.drop(columns=[0, 2])\n",
        "df.head()"
      ]
    },
    {
      "cell_type": "code",
      "execution_count": 6,
      "id": "JYrPlWWBiCdy",
      "metadata": {
        "id": "JYrPlWWBiCdy"
      },
      "outputs": [],
      "source": [
        "morph = pymorphy2.MorphAnalyzer()\n",
        "\n",
        "slovar = {}\n",
        "\n",
        "def get_base_form(word):\n",
        "    parsed_word = morph.parse(word)[0]\n",
        "    return parsed_word.normal_form\n",
        "\n",
        "def delete_punkt(text):\n",
        "    return re.sub(r'[.,!?()[\\]{}\":;*/]', ' ', text)\n",
        "\n",
        "for text in df['text']:\n",
        "    text = delete_punkt(text)\n",
        "    words = text.split()\n",
        "    for word in words:\n",
        "        word = word.lower()\n",
        "\n",
        "        nach_forma = get_base_form(word)\n",
        "\n",
        "        if nach_forma in slovar:\n",
        "            if word not in slovar[nach_forma]:\n",
        "                slovar[nach_forma].append(word)\n",
        "        else:\n",
        "            slovar[nach_forma] = [word]"
      ]
    },
    {
      "cell_type": "code",
      "execution_count": 8,
      "id": "xYUzb5SykpKb",
      "metadata": {
        "colab": {
          "base_uri": "https://localhost:8080/"
        },
        "id": "xYUzb5SykpKb",
        "outputId": "4befbbe6-9241-4f40-9cb5-724d1dae569e"
      },
      "outputs": [
        {
          "name": "stdout",
          "output_type": "stream",
          "text": [
            "котейка: котейки, котейке, котейку, котейка, котейками, котеек\n",
            "кот: коты, кот, коту, котов, котом, кота, котам, котами, коте, котах\n",
            "котить: котя\n",
            "кошка: кошку, кошка, кошки, кошек, кошкой, кошками, кошке, кошкам, кошкою\n",
            "котик: котики, котикам, котиком, котик, котику, котика, котиками, котиков\n",
            "который: которые, которого, который, которым, которая, которой, которыми, которую, которых, которое, котором, которому\n",
            "кошелёк: кошелек, кошельку\n",
            "котосессия: котосессии\n",
            "кот-: кот-\n",
            "коть: коти, котю\n",
            "кошь: кошь\n",
            "котенёк: котенька, котеньку, котеньки, котенек, котеньке\n",
            "котячий: котячью, котячьей, котячьего, котячьи, котячья, котячьим, котячьем\n",
            "котёнок: котенок, котенка, котенком, котят, котёнку, котята, котятами, котятам, котёнка, котёнок, котенку, котёнком, котёнке\n",
            "котофеевич: котофеевич\n",
            "котярый: котяра, котярой\n",
            "кошачий: кошачью, кошачьи, кошачье, кошачий, кошачья, кошачьими, кошачьих, кошачьему, кошачьим, кошачьего, кошачьей, кошачьем\n",
            "кошак: кошаки, кошака, кошак, кошакам, кошаков, кошаками\n",
            "кошечка: кошечка, кошечку, кошечке, кошечкой, кошечки\n",
            "котея: котей\n",
            "котослонёнок: котослоненок\n",
            "котишка: котишка, котишки\n",
            "кошкино: кошкино, кошкином\n",
            "котофей: котофей, котофеи, котофеям, котофеев, котофея\n",
            "котище: котище\n",
            "кошкин: кошкины, кошкиных, кошкин, кошкиной, кошкиным, кошкиного, кошкина, кошкину\n",
            "кош: кошу, коша, коши\n",
            "котомиска: котомиски\n",
            "котячуя: котячую\n",
            "кот-конкурент: кот-конкурент\n",
            "кошенция: кошенция\n",
            "котий: котьему\n",
            "котяк-муркотяк: котяки-муркотяки\n",
            "котоморда: котоморды, котоморд\n",
            "кошечий: кошеча\n",
            "кошатник: кошатник, кошатникам, кошатником, кошатнике, кошатника, кошатники\n",
            "котёночек: котёночком, котяткам, котеночку, котёночка, котяток, котятки\n",
            "кошковладелец: кошковладельцу, кошковладельцев, кошковладельцы, кошковладельцам, кошковладельца\n",
            "кошмарный: кошмарное\n",
            "котовь: котови\n",
            "кошенька: кошеньку\n",
            "кошка-занавес: кошку-занавес\n",
            "котёнкалюд: котёнкалюда\n",
            "кото: кото\n",
            "котокафе: котокафе\n",
            "кошка-интроверт: кошка-интроверт\n",
            "котра: котрой\n",
            "котька: котька\n",
            "котами-: котами-\n",
            "котеечка: котеечке, котеечка\n",
            "кошколовкий: кошколовкой\n",
            "кошколовкойд: кошколовкойда\n",
            "котоловкий: котоловки\n",
            "котлетка: котлетки, котлетку\n",
            "кот-кошка: кота-кошки\n",
            "кошенек: кошеньки, кошенька\n",
            "кошкопровод: кошкопровод\n",
            "коти-: коти-\n",
            "котейшество: котейшество, котейшества\n",
            "котовый: котовая\n",
            "котиться: котилась\n",
            "кошку-доставать: кошку-достаю\n",
            "котико: котико\n",
            "котёнок-подросток: котенка-подростка\n",
            "котяк: котяка\n",
            "кошачьм: кошачьм\n",
            "которебёнок: которебенку, которебенок, которебенка\n",
            "котин: котиного\n",
            "кот-охотник: кот-охотник\n",
            "кошководовый: кошководов\n",
            "котяточка: котяточек\n",
            "котинька: котиньке, котиньки\n",
            "котэ: котэ\n",
            "котогвардия: котогвардия\n",
            "кошилёд: кошильде\n",
            "кошкуда: кошкуда\n",
            "кошарик: кошарик\n",
            "кошара: кошара, кошарой\n",
            "кот-фетишист: кот-фетишист\n",
            "котана: котану\n",
            "кошка-цыганка: кошки-цыганки\n",
            "кошачий-матерный: кошачье-матерное\n",
            "котодитё: котодитё\n",
            "кошатница: кошатница, кошатницей\n",
            "кошка-кот: кошки-коты\n",
            "котовладелтец: котовладелтцев\n",
            "котовский: котовские\n",
            "котятина: котятины\n",
            "котодевочка: котодевочек\n",
            "кошачить: кошачим\n",
            "котиковмой: котиковмоя\n",
            "котобанда: котобанда\n",
            "котёнок-подобранец: котенок-подобранец\n",
            "кошатина: кошатины, кошатина, кошатину\n",
            "котодевушка: котодевушка\n",
            "котомать: котоматерью, котомать\n",
            "котлета: котлету, котлеты\n",
            "коший: кошьим\n",
            "котопсячий: котопсячья\n",
            "котыжич: котыжич\n",
            "кошка-то: кошки-то\n",
            "кошки-: кошки-\n",
            "кошандра: кошандрой\n",
            "кошачий-собачий: кошачье-собачья\n",
            "кот-гений: кот-гений\n",
            "котовместимость: котовместимость\n",
            "котина: котина\n",
            "кошатникамия: кошатникамия\n",
            "кот-напротив: кот-напротив\n",
            "кошка-наискосокчерездваучасток: кошка-наискосокчерездваучастка\n",
            "кота-напротив: кота-напротив\n",
            "кошка-наискосок: кошка-наискосок\n",
            "кошонка: кошонка\n",
            "котодверь: котодвери\n",
            "котёл: котла\n",
            "кошачье-возвышенный: кошачье-возвышенном\n",
            "котовладелец: котовладельцам\n",
            "кот-арбузер: коту-арбузеру\n",
            "кот-мойдодыр: кот-мойдодыр\n"
          ]
        }
      ],
      "source": [
        "# Вы уже засчитали это решение на семинаре\n",
        "for nach_forma, forma in slovar.items():\n",
        "    if nach_forma.startswith('кот') or nach_forma.startswith('кош'):\n",
        "        print(f\"{nach_forma}: {', '.join(forma)}\")"
      ]
    },
    {
      "cell_type": "markdown",
      "id": "152aa3e4",
      "metadata": {
        "id": "152aa3e4"
      },
      "source": [
        "<p class=\"task\" id=\"2\"></p>\n",
        "\n",
        "2\\. Получите и выведите на экран набор имён питомцев, упомянутых в текстах из файла `moya-semia/Лучше кошки зверя нет 2.csv`. Для простоты считайте, что имя питомца начинается с заглавной буквы и стоит не в начале предложения."
      ]
    },
    {
      "cell_type": "code",
      "execution_count": 37,
      "id": "pYw_1Ph_EO5b",
      "metadata": {
        "id": "pYw_1Ph_EO5b"
      },
      "outputs": [],
      "source": [
        "names = []\n",
        "\n",
        "def find_names(text):\n",
        "    sentences = sent_tokenize(text)  \n",
        "    \n",
        "    for sentence in sentences:\n",
        "        words = word_tokenize(sentence)  \n",
        "        for word in words[1:]: \n",
        "            if word[0].isupper():\n",
        "                names.append(word)\n",
        "    return\n",
        "\n",
        "df['text'].apply(find_names)"
      ]
    },
    {
      "cell_type": "code",
      "execution_count": 32,
      "id": "65233e2b",
      "metadata": {},
      "outputs": [
        {
          "name": "stdout",
          "output_type": "stream",
          "text": [
            "10 случайных имён: ['Ну' 'Персик' 'Эммануил' 'Нона' 'Бельчик' 'Пятнаша' 'Маруся'\n",
            " 'Тосей.Такая' 'Что' 'Бусена']\n",
            "Всего имён: 1689\n"
          ]
        }
      ],
      "source": [
        "print(f\"10 случайных имён: {np.random.choice(names, size=10)}\")\n",
        "print(f\"Всего имён: {len(set(names))}\")"
      ]
    },
    {
      "cell_type": "markdown",
      "id": "cbf0aa6d",
      "metadata": {
        "id": "cbf0aa6d"
      },
      "source": [
        "<p class=\"task\" id=\"3\"></p>\n",
        "\n",
        "3\\. Вычислите среднюю длину сообщения (в количестве предложений) в различных темах форума газеты \"Моя Семья\" (каждый файл из каталога `data/moya-semia` соответствует отдельной теме\". Представьте результат в виде столбчатой диаграммы. Подпишите рисунок и дайте названия осям.  "
      ]
    },
    {
      "cell_type": "code",
      "execution_count": 69,
      "id": "6e6d3fa0",
      "metadata": {},
      "outputs": [],
      "source": [
        "def count_sentences(text):\n",
        "    sentences = sent_tokenize(str(text))  \n",
        "    \n",
        "    return len(sentences)"
      ]
    },
    {
      "cell_type": "code",
      "execution_count": 70,
      "id": "286a6c2a",
      "metadata": {},
      "outputs": [],
      "source": [
        "df1 = pd.read_csv(\"data/moya-semia/Лучше кошки зверя нет 2.csv\", header=None)\n",
        "df1 = df1.rename(columns= {1: 'text'}).drop(columns=[0, 2])\n",
        "df1['amount'] = df1['text'].apply(count_sentences)\n",
        "\n",
        "df2 = pd.read_csv(\"data/moya-semia/Бенгалы.csv\", header=None)\n",
        "df2 = df2.rename(columns= {1: 'text'}).drop(columns=[0, 2])\n",
        "df2['amount'] = df2['text'].apply(count_sentences)\n",
        "\n",
        "df3 = pd.read_csv(\"data/moya-semia/Немецкая овчарка.csv\", header=None)\n",
        "df3 = df3.rename(columns= {1: 'text'}).drop(columns=[0, 2])\n",
        "df3['amount'] = df3['text'].apply(count_sentences)\n",
        "\n",
        "df4 = pd.read_csv(\"data/moya-semia/Таксы.csv\", header=None)\n",
        "df4 = df4.rename(columns= {1: 'text'}).drop(columns=[0, 2])\n",
        "df4['amount'] = df4['text'].apply(count_sentences)"
      ]
    },
    {
      "cell_type": "code",
      "execution_count": 80,
      "id": "ea794837",
      "metadata": {},
      "outputs": [
        {
          "data": {
            "image/png": "[encoded data removed]",
            "text/plain": [
              "<Figure size 640x480 with 1 Axes>"
            ]
          },
          "metadata": {},
          "output_type": "display_data"
        }
      ],
      "source": [
        "plt.bar(['Кошки', 'Бенгалы', 'Немецкие овчарки', 'Таксы'], [df1['amount'].mean(), df2['amount'].mean(), df3['amount'].mean(), df4['amount'].mean()])\n",
        "plt.xlabel(\"Темы\")\n",
        "plt.ylabel(\"Среднее количество предложений в тексте\")\n",
        "plt.xticks(rotation=45)\n",
        "plt.tight_layout()\n",
        "plt.show()"
      ]
    },
    {
      "cell_type": "markdown",
      "id": "4b1d5ccb",
      "metadata": {
        "id": "4b1d5ccb"
      },
      "source": [
        "<p class=\"task\" id=\"4\"></p>\n",
        "\n",
        "4\\. Замените все текстовые смайлики из файла `livejounal/психология.csv` на соответствующие символы юникода. Для поиска смайликов воспользуйтесь регулярными выражениями. Ниже представлен список (не исчерпывающий) примеров возможных смайликов и символ, на который их нужно заменить:\n",
        "\n",
        "* :=), =-), =-))), ))) и т.д. -> \\u263A\n",
        "* ;), ;-), ;-)) и т.д. -> \\U0001F609\n",
        "* :D, :-D, =-D, =-DDD и т.д. -> \\U0001F600\n",
        "* :=(, :-(, =-(((, (((, ;-( и т.д. -> \\U0001F641"
      ]
    },
    {
      "cell_type": "code",
      "execution_count": 164,
      "id": "31dbd446",
      "metadata": {},
      "outputs": [
        {
          "data": {
            "text/html": [
              "<div>\n",
              "<style scoped>\n",
              "    .dataframe tbody tr th:only-of-type {\n",
              "        vertical-align: middle;\n",
              "    }\n",
              "\n",
              "    .dataframe tbody tr th {\n",
              "        vertical-align: top;\n",
              "    }\n",
              "\n",
              "    .dataframe thead th {\n",
              "        text-align: right;\n",
              "    }\n",
              "</style>\n",
              "<table border=\"1\" class=\"dataframe\">\n",
              "  <thead>\n",
              "    <tr style=\"text-align: right;\">\n",
              "      <th></th>\n",
              "      <th>url</th>\n",
              "      <th>author</th>\n",
              "      <th>likes</th>\n",
              "      <th>text</th>\n",
              "      <th>comments</th>\n",
              "    </tr>\n",
              "  </thead>\n",
              "  <tbody>\n",
              "    <tr>\n",
              "      <th>0</th>\n",
              "      <td>https://marikarai.livejournal.com/860.html?media</td>\n",
              "      <td>https://marikarai.livejournal.com/</td>\n",
              "      <td>23</td>\n",
              "      <td>Выход из депрессии....\\nСегодня, 24 марта, Меж...</td>\n",
              "      <td>['Спасибо за полезный пост! Кажется, что сейча...</td>\n",
              "    </tr>\n",
              "    <tr>\n",
              "      <th>1</th>\n",
              "      <td>https://psychologies.livejournal.com/18496.htm...</td>\n",
              "      <td>https://psychologies.livejournal.com/</td>\n",
              "      <td>17</td>\n",
              "      <td>Избегание, агрессия, пессимизм: 22 признака де...</td>\n",
              "      <td>['Знаете, я нашла в Вашем посте более сотни пр...</td>\n",
              "    </tr>\n",
              "    <tr>\n",
              "      <th>2</th>\n",
              "      <td>https://kornilovasasha.livejournal.com/1458.ht...</td>\n",
              "      <td>https://kornilovasasha.livejournal.com/</td>\n",
              "      <td>67</td>\n",
              "      <td>\"Я чувствую, что не надо ехать\" - этого достат...</td>\n",
              "      <td>['Здравствуйте! Система категоризации Живого Ж...</td>\n",
              "    </tr>\n",
              "    <tr>\n",
              "      <th>3</th>\n",
              "      <td>https://rmnt-official.livejournal.com/118486.h...</td>\n",
              "      <td>https://rmnt-official.livejournal.com/</td>\n",
              "      <td>15</td>\n",
              "      <td>Пять причин беспорядка в доме и способы борьбы...</td>\n",
              "      <td>['Основных причин невозможности содержать в по...</td>\n",
              "    </tr>\n",
              "    <tr>\n",
              "      <th>4</th>\n",
              "      <td>https://kornilovasasha.livejournal.com/986.htm...</td>\n",
              "      <td>https://kornilovasasha.livejournal.com/</td>\n",
              "      <td>48</td>\n",
              "      <td>Чувство Дома.\\nКак эта шутка... \"Ты где?\" - \"Д...</td>\n",
              "      <td>['Ваша запись Чувство Дома в LiveJournal Media...</td>\n",
              "    </tr>\n",
              "  </tbody>\n",
              "</table>\n",
              "</div>"
            ],
            "text/plain": [
              "                                                 url  \\\n",
              "0   https://marikarai.livejournal.com/860.html?media   \n",
              "1  https://psychologies.livejournal.com/18496.htm...   \n",
              "2  https://kornilovasasha.livejournal.com/1458.ht...   \n",
              "3  https://rmnt-official.livejournal.com/118486.h...   \n",
              "4  https://kornilovasasha.livejournal.com/986.htm...   \n",
              "\n",
              "                                    author  likes  \\\n",
              "0       https://marikarai.livejournal.com/     23   \n",
              "1    https://psychologies.livejournal.com/     17   \n",
              "2  https://kornilovasasha.livejournal.com/     67   \n",
              "3   https://rmnt-official.livejournal.com/     15   \n",
              "4  https://kornilovasasha.livejournal.com/     48   \n",
              "\n",
              "                                                text  \\\n",
              "0  Выход из депрессии....\\nСегодня, 24 марта, Меж...   \n",
              "1  Избегание, агрессия, пессимизм: 22 признака де...   \n",
              "2  \"Я чувствую, что не надо ехать\" - этого достат...   \n",
              "3  Пять причин беспорядка в доме и способы борьбы...   \n",
              "4  Чувство Дома.\\nКак эта шутка... \"Ты где?\" - \"Д...   \n",
              "\n",
              "                                            comments  \n",
              "0  ['Спасибо за полезный пост! Кажется, что сейча...  \n",
              "1  ['Знаете, я нашла в Вашем посте более сотни пр...  \n",
              "2  ['Здравствуйте! Система категоризации Живого Ж...  \n",
              "3  ['Основных причин невозможности содержать в по...  \n",
              "4  ['Ваша запись Чувство Дома в LiveJournal Media...  "
            ]
          },
          "execution_count": 164,
          "metadata": {},
          "output_type": "execute_result"
        }
      ],
      "source": [
        "df = pd.read_csv('data\\livejournal\\психология.csv')\n",
        "df.head()"
      ]
    },
    {
      "cell_type": "code",
      "execution_count": 165,
      "id": "492e451d",
      "metadata": {},
      "outputs": [],
      "source": [
        "def replacing(text):\n",
        "    smiles = {\n",
        "        r':=\\)+': '\\u263A',\n",
        "        r':-\\)+': '\\u263A',\n",
        "        r':\\)+': '\\u263A', \n",
        "        r'=-\\)+': '\\u263A',  \n",
        "        r'\\)\\)+': '\\u263A', \n",
        "\n",
        "        r';\\)+': '\\U0001F609', \n",
        "        r';-\\)+': '\\U0001F609', \n",
        "\n",
        "        r':D+': '\\U0001F600',\n",
        "        r':-D+': '\\U0001F600', \n",
        "        r'=-D+': '\\U0001F600', \n",
        "        r';-D+': '\\U0001F600',\n",
        "        r';D+': '\\U0001F600',\n",
        "\n",
        "        r':=\\(+': '\\U0001F641',\n",
        "        r':-\\(+': '\\U0001F641',\n",
        "        r'=-\\(+': '\\U0001F641',\n",
        "        r'\\(\\(+': '\\U0001F641',\n",
        "        r';-\\(+': '\\U0001F641',\n",
        "        r':\\(+': '\\U0001F641'\n",
        "    }\n",
        "\n",
        "    for smile, code in smiles.items():\n",
        "        text = re.sub(smile, code, text)\n",
        "\n",
        "    return text\n",
        "\n",
        "df['text'] = df['text'].apply(replacing)\n",
        "df['comments'] = df['comments'].apply(replacing)"
      ]
    },
    {
      "cell_type": "code",
      "execution_count": 133,
      "id": "81e1ed65",
      "metadata": {},
      "outputs": [
        {
          "data": {
            "text/plain": [
              "'красивый рисунок ☺'"
            ]
          },
          "execution_count": 133,
          "metadata": {},
          "output_type": "execute_result"
        }
      ],
      "source": [
        "df['comments'][4][77:95]"
      ]
    },
    {
      "cell_type": "code",
      "execution_count": 163,
      "id": "01a284ca",
      "metadata": {},
      "outputs": [
        {
          "data": {
            "text/plain": [
              "'Ну в помещении же снег растает, который к одежде прилип, и будет мокро😄'"
            ]
          },
          "execution_count": 163,
          "metadata": {},
          "output_type": "execute_result"
        }
      ],
      "source": [
        "df['comments'][11][640:711]"
      ]
    },
    {
      "cell_type": "markdown",
      "id": "3948f093",
      "metadata": {
        "id": "3948f093"
      },
      "source": [
        "<p class=\"task\" id=\"5\"></p>\n",
        "\n",
        "5\\. Для каждого поста из файла `livejounal/психология.csv` создайте числовой вектор, в котором содержится следующая информация\n",
        "    * количество абзацев\n",
        "    * количество предложений\n",
        "    * количество слов\n",
        "    * количество смайликов \\u263A\n",
        "    * количество смайликов \\U0001F609\n",
        "    * количество смайликов \\U0001F600\n",
        "    * количество смайликов \\U0001F641\n",
        "\n",
        "Полученный результат представьте в виде тензора `torch.Tensor`."
      ]
    },
    {
      "cell_type": "code",
      "execution_count": 166,
      "id": "572e51f2",
      "metadata": {},
      "outputs": [],
      "source": [
        "def f(text):\n",
        "    paragraphs = text.split('\\n')\n",
        "    text = text.replace('\\n', ' ')\n",
        "    sentences = sent_tokenize(text)\n",
        "    words = text.split()\n",
        "\n",
        "    smile1 = text.count('\\u263A')\n",
        "    smile2 = text.count('\\U0001F609')\n",
        "    smile3 = text.count('\\U0001F600')\n",
        "    smile4 = text.count('\\U0001F641')\n",
        "\n",
        "    return [len(paragraphs), len(sentences), len(words), smile1, smile2, smile3, smile4]\n",
        "\n",
        "list_ = df['text'].apply(f).tolist()\n",
        "\n",
        "tensor_ = torch.Tensor(list_)"
      ]
    },
    {
      "cell_type": "code",
      "execution_count": 167,
      "id": "29c4a514",
      "metadata": {},
      "outputs": [
        {
          "data": {
            "text/plain": [
              "tensor([[9.5000e+01, 1.5100e+02, 2.2540e+03,  ..., 0.0000e+00, 0.0000e+00,\n",
              "         0.0000e+00],\n",
              "        [1.9200e+02, 3.2600e+02, 4.5460e+03,  ..., 0.0000e+00, 0.0000e+00,\n",
              "         0.0000e+00],\n",
              "        [3.4000e+01, 8.2000e+01, 8.7100e+02,  ..., 0.0000e+00, 0.0000e+00,\n",
              "         0.0000e+00],\n",
              "        ...,\n",
              "        [3.0000e+00, 4.5000e+01, 6.7200e+02,  ..., 0.0000e+00, 0.0000e+00,\n",
              "         0.0000e+00],\n",
              "        [4.0000e+00, 5.2000e+01, 9.4600e+02,  ..., 0.0000e+00, 0.0000e+00,\n",
              "         0.0000e+00],\n",
              "        [4.0000e+00, 3.9000e+01, 9.4600e+02,  ..., 0.0000e+00, 0.0000e+00,\n",
              "         0.0000e+00]])"
            ]
          },
          "execution_count": 167,
          "metadata": {},
          "output_type": "execute_result"
        }
      ],
      "source": [
        "tensor_"
      ]
    },
    {
      "cell_type": "markdown",
      "id": "e516d2ca",
      "metadata": {
        "id": "e516d2ca"
      },
      "source": [
        "<p class=\"task\" id=\"6\"></p>\n",
        "\n",
        "6\\. На основе файла `livejounal/психология.csv` выясните, кто из пользователей обладает наиболее широким словарным запасом (т.е. использовал максимальное количество различных слов в своих постах). При подсчете количества слов не учитывайте различные формы одного и того же слова, а также токены, не являющиеся словами (знаки препинания, цифры и т.д.). Выведите на экран имя пользователя и набор используемых им различных слов."
      ]
    },
    {
      "cell_type": "code",
      "execution_count": null,
      "id": "8c2f342a",
      "metadata": {},
      "outputs": [],
      "source": []
    },
    {
      "cell_type": "markdown",
      "id": "724b1c9c",
      "metadata": {
        "id": "724b1c9c"
      },
      "source": [
        "## Обратная связь\n",
        "- [ ] Хочу получить обратную связь по решению"
      ]
    }
  ],
  "metadata": {
    "colab": {
      "provenance": []
    },
    "kernelspec": {
      "display_name": "Python 3 (ipykernel)",
      "language": "python",
      "name": "python3"
    },
    "language_info": {
      "codemirror_mode": {
        "name": "ipython",
        "version": 3
      },
      "file_extension": ".py",
      "mimetype": "text/x-python",
      "name": "python",
      "nbconvert_exporter": "python",
      "pygments_lexer": "ipython3",
      "version": "3.10.11"
    }
  },
  "nbformat": 4,
  "nbformat_minor": 5
}
